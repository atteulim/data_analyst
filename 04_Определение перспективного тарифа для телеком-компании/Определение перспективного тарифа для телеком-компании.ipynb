{
 "cells": [
  {
   "cell_type": "markdown",
   "metadata": {},
   "source": [
    "# Определение перспективного тарифа для телеком-компании\n",
    "\n",
    "\n",
    "Вы аналитик компании «Мегалайн» — федерального оператора сотовой связи. Клиентам предлагают два тарифных плана: «Смарт» и «Ультра». Чтобы скорректировать рекламный бюджет, коммерческий департамент хочет понять, какой тариф приносит больше денег.\n",
    "Вам предстоит сделать предварительный анализ тарифов на небольшой выборке клиентов. В вашем распоряжении данные 500 пользователей «Мегалайна»: кто они, откуда, каким тарифом пользуются, сколько звонков и сообщений каждый отправил за 2018 год. Нужно проанализировать поведение клиентов и сделать вывод — какой тариф лучше."
   ]
  },
  {
   "cell_type": "markdown",
   "metadata": {},
   "source": [
    "## Открытие файлов и изучение общей информации"
   ]
  },
  {
   "cell_type": "code",
   "execution_count": 4,
   "metadata": {},
   "outputs": [],
   "source": [
    "import pandas as pd #импорт библиотек\n",
    "import math \n",
    "import numpy as np\n",
    "import matplotlib.pyplot as plt\n",
    "from pylab import rcParams\n",
    "import warnings\n",
    "import seaborn as sns\n",
    "from scipy import stats as st"
   ]
  },
  {
   "cell_type": "code",
   "execution_count": 5,
   "metadata": {},
   "outputs": [],
   "source": [
    "calls = pd.read_csv('calls.csv')\n",
    "internet = pd.read_csv('internet.csv')\n",
    "messages = pd.read_csv('messages.csv')\n",
    "tariffs = pd.read_csv('tariffs.csv')\n",
    "users = pd.read_csv('users.csv')"
   ]
  },
  {
   "cell_type": "code",
   "execution_count": 47,
   "metadata": {},
   "outputs": [
    {
     "data": {
      "text/html": [
       "<div>\n",
       "<style scoped>\n",
       "    .dataframe tbody tr th:only-of-type {\n",
       "        vertical-align: middle;\n",
       "    }\n",
       "\n",
       "    .dataframe tbody tr th {\n",
       "        vertical-align: top;\n",
       "    }\n",
       "\n",
       "    .dataframe thead th {\n",
       "        text-align: right;\n",
       "    }\n",
       "</style>\n",
       "<table border=\"1\" class=\"dataframe\">\n",
       "  <thead>\n",
       "    <tr style=\"text-align: right;\">\n",
       "      <th></th>\n",
       "      <th>id</th>\n",
       "      <th>call_date</th>\n",
       "      <th>duration</th>\n",
       "      <th>user_id</th>\n",
       "      <th>month</th>\n",
       "    </tr>\n",
       "  </thead>\n",
       "  <tbody>\n",
       "    <tr>\n",
       "      <th>0</th>\n",
       "      <td>1000_0</td>\n",
       "      <td>2018-07-25</td>\n",
       "      <td>0</td>\n",
       "      <td>1000</td>\n",
       "      <td>7</td>\n",
       "    </tr>\n",
       "    <tr>\n",
       "      <th>1</th>\n",
       "      <td>1000_1</td>\n",
       "      <td>2018-08-17</td>\n",
       "      <td>0</td>\n",
       "      <td>1000</td>\n",
       "      <td>8</td>\n",
       "    </tr>\n",
       "    <tr>\n",
       "      <th>2</th>\n",
       "      <td>1000_2</td>\n",
       "      <td>2018-06-11</td>\n",
       "      <td>3</td>\n",
       "      <td>1000</td>\n",
       "      <td>6</td>\n",
       "    </tr>\n",
       "    <tr>\n",
       "      <th>3</th>\n",
       "      <td>1000_3</td>\n",
       "      <td>2018-09-21</td>\n",
       "      <td>14</td>\n",
       "      <td>1000</td>\n",
       "      <td>9</td>\n",
       "    </tr>\n",
       "    <tr>\n",
       "      <th>4</th>\n",
       "      <td>1000_4</td>\n",
       "      <td>2018-12-15</td>\n",
       "      <td>6</td>\n",
       "      <td>1000</td>\n",
       "      <td>12</td>\n",
       "    </tr>\n",
       "  </tbody>\n",
       "</table>\n",
       "</div>"
      ],
      "text/plain": [
       "       id  call_date  duration  user_id  month\n",
       "0  1000_0 2018-07-25         0     1000      7\n",
       "1  1000_1 2018-08-17         0     1000      8\n",
       "2  1000_2 2018-06-11         3     1000      6\n",
       "3  1000_3 2018-09-21        14     1000      9\n",
       "4  1000_4 2018-12-15         6     1000     12"
      ]
     },
     "execution_count": 47,
     "metadata": {},
     "output_type": "execute_result"
    }
   ],
   "source": [
    "calls.head()"
   ]
  },
  {
   "cell_type": "code",
   "execution_count": 8,
   "metadata": {},
   "outputs": [
    {
     "name": "stdout",
     "output_type": "stream",
     "text": [
      "<class 'pandas.core.frame.DataFrame'>\n",
      "RangeIndex: 202607 entries, 0 to 202606\n",
      "Data columns (total 4 columns):\n",
      " #   Column     Non-Null Count   Dtype  \n",
      "---  ------     --------------   -----  \n",
      " 0   id         202607 non-null  object \n",
      " 1   call_date  202607 non-null  object \n",
      " 2   duration   202607 non-null  float64\n",
      " 3   user_id    202607 non-null  int64  \n",
      "dtypes: float64(1), int64(1), object(2)\n",
      "memory usage: 6.2+ MB\n"
     ]
    }
   ],
   "source": [
    "calls.info()"
   ]
  },
  {
   "cell_type": "markdown",
   "metadata": {},
   "source": [
    "**Таблица calls (информация о звонках):**\n",
    "* id — уникальный номер звонка\n",
    "* call_date — дата звонка\n",
    "* duration — длительность звонка в минутах\n",
    "* user_id — идентификатор пользователя, сделавшего звонок"
   ]
  },
  {
   "cell_type": "code",
   "execution_count": 48,
   "metadata": {},
   "outputs": [
    {
     "data": {
      "text/html": [
       "<div>\n",
       "<style scoped>\n",
       "    .dataframe tbody tr th:only-of-type {\n",
       "        vertical-align: middle;\n",
       "    }\n",
       "\n",
       "    .dataframe tbody tr th {\n",
       "        vertical-align: top;\n",
       "    }\n",
       "\n",
       "    .dataframe thead th {\n",
       "        text-align: right;\n",
       "    }\n",
       "</style>\n",
       "<table border=\"1\" class=\"dataframe\">\n",
       "  <thead>\n",
       "    <tr style=\"text-align: right;\">\n",
       "      <th></th>\n",
       "      <th>user_id</th>\n",
       "      <th>age</th>\n",
       "      <th>churn_date</th>\n",
       "      <th>city</th>\n",
       "      <th>reg_date</th>\n",
       "      <th>tariff</th>\n",
       "      <th>month</th>\n",
       "      <th>name</th>\n",
       "    </tr>\n",
       "  </thead>\n",
       "  <tbody>\n",
       "    <tr>\n",
       "      <th>0</th>\n",
       "      <td>1000</td>\n",
       "      <td>52</td>\n",
       "      <td>NaN</td>\n",
       "      <td>Краснодар</td>\n",
       "      <td>2018-05-25</td>\n",
       "      <td>ultra</td>\n",
       "      <td>5</td>\n",
       "      <td>Рафаил Верещагин</td>\n",
       "    </tr>\n",
       "    <tr>\n",
       "      <th>1</th>\n",
       "      <td>1001</td>\n",
       "      <td>41</td>\n",
       "      <td>NaN</td>\n",
       "      <td>Москва</td>\n",
       "      <td>2018-11-01</td>\n",
       "      <td>smart</td>\n",
       "      <td>11</td>\n",
       "      <td>Иван Ежов</td>\n",
       "    </tr>\n",
       "    <tr>\n",
       "      <th>2</th>\n",
       "      <td>1002</td>\n",
       "      <td>59</td>\n",
       "      <td>NaN</td>\n",
       "      <td>Стерлитамак</td>\n",
       "      <td>2018-06-17</td>\n",
       "      <td>smart</td>\n",
       "      <td>6</td>\n",
       "      <td>Евгений Абрамович</td>\n",
       "    </tr>\n",
       "    <tr>\n",
       "      <th>3</th>\n",
       "      <td>1003</td>\n",
       "      <td>23</td>\n",
       "      <td>NaN</td>\n",
       "      <td>Москва</td>\n",
       "      <td>2018-08-17</td>\n",
       "      <td>ultra</td>\n",
       "      <td>8</td>\n",
       "      <td>Белла Белякова</td>\n",
       "    </tr>\n",
       "    <tr>\n",
       "      <th>4</th>\n",
       "      <td>1004</td>\n",
       "      <td>68</td>\n",
       "      <td>NaN</td>\n",
       "      <td>Новокузнецк</td>\n",
       "      <td>2018-05-14</td>\n",
       "      <td>ultra</td>\n",
       "      <td>5</td>\n",
       "      <td>Татьяна Авдеенко</td>\n",
       "    </tr>\n",
       "  </tbody>\n",
       "</table>\n",
       "</div>"
      ],
      "text/plain": [
       "   user_id  age churn_date         city   reg_date tariff  month  \\\n",
       "0     1000   52        NaN    Краснодар 2018-05-25  ultra      5   \n",
       "1     1001   41        NaN       Москва 2018-11-01  smart     11   \n",
       "2     1002   59        NaN  Стерлитамак 2018-06-17  smart      6   \n",
       "3     1003   23        NaN       Москва 2018-08-17  ultra      8   \n",
       "4     1004   68        NaN  Новокузнецк 2018-05-14  ultra      5   \n",
       "\n",
       "                name  \n",
       "0   Рафаил Верещагин  \n",
       "1          Иван Ежов  \n",
       "2  Евгений Абрамович  \n",
       "3     Белла Белякова  \n",
       "4   Татьяна Авдеенко  "
      ]
     },
     "execution_count": 48,
     "metadata": {},
     "output_type": "execute_result"
    }
   ],
   "source": [
    "users.head()"
   ]
  },
  {
   "cell_type": "code",
   "execution_count": 10,
   "metadata": {},
   "outputs": [
    {
     "name": "stdout",
     "output_type": "stream",
     "text": [
      "<class 'pandas.core.frame.DataFrame'>\n",
      "RangeIndex: 500 entries, 0 to 499\n",
      "Data columns (total 8 columns):\n",
      " #   Column      Non-Null Count  Dtype \n",
      "---  ------      --------------  ----- \n",
      " 0   user_id     500 non-null    int64 \n",
      " 1   age         500 non-null    int64 \n",
      " 2   churn_date  38 non-null     object\n",
      " 3   city        500 non-null    object\n",
      " 4   first_name  500 non-null    object\n",
      " 5   last_name   500 non-null    object\n",
      " 6   reg_date    500 non-null    object\n",
      " 7   tariff      500 non-null    object\n",
      "dtypes: int64(2), object(6)\n",
      "memory usage: 31.4+ KB\n"
     ]
    }
   ],
   "source": [
    "users.info()"
   ]
  },
  {
   "cell_type": "markdown",
   "metadata": {},
   "source": [
    "**Таблица users (информация о пользователях):** \n",
    "* user_id — уникальный идентификатор пользователя \n",
    "* first_name — имя пользователя \n",
    "* last_name — фамилия пользователя \n",
    "* age — возраст пользователя (годы) \n",
    "* reg_date — дата подключения тарифа (день, месяц, год) \n",
    "* churn_date — дата прекращения пользования тарифом (если значение пропущено, то тариф ещё действовал на момент выгрузки данных) \n",
    "* city — город проживания пользователя tarif — название тарифного плана "
   ]
  },
  {
   "cell_type": "code",
   "execution_count": 49,
   "metadata": {},
   "outputs": [
    {
     "data": {
      "text/html": [
       "<div>\n",
       "<style scoped>\n",
       "    .dataframe tbody tr th:only-of-type {\n",
       "        vertical-align: middle;\n",
       "    }\n",
       "\n",
       "    .dataframe tbody tr th {\n",
       "        vertical-align: top;\n",
       "    }\n",
       "\n",
       "    .dataframe thead th {\n",
       "        text-align: right;\n",
       "    }\n",
       "</style>\n",
       "<table border=\"1\" class=\"dataframe\">\n",
       "  <thead>\n",
       "    <tr style=\"text-align: right;\">\n",
       "      <th></th>\n",
       "      <th>id</th>\n",
       "      <th>message_date</th>\n",
       "      <th>user_id</th>\n",
       "      <th>month</th>\n",
       "    </tr>\n",
       "  </thead>\n",
       "  <tbody>\n",
       "    <tr>\n",
       "      <th>0</th>\n",
       "      <td>1000_0</td>\n",
       "      <td>2018-06-27</td>\n",
       "      <td>1000</td>\n",
       "      <td>6</td>\n",
       "    </tr>\n",
       "    <tr>\n",
       "      <th>1</th>\n",
       "      <td>1000_1</td>\n",
       "      <td>2018-10-08</td>\n",
       "      <td>1000</td>\n",
       "      <td>10</td>\n",
       "    </tr>\n",
       "    <tr>\n",
       "      <th>2</th>\n",
       "      <td>1000_2</td>\n",
       "      <td>2018-08-04</td>\n",
       "      <td>1000</td>\n",
       "      <td>8</td>\n",
       "    </tr>\n",
       "    <tr>\n",
       "      <th>3</th>\n",
       "      <td>1000_3</td>\n",
       "      <td>2018-06-16</td>\n",
       "      <td>1000</td>\n",
       "      <td>6</td>\n",
       "    </tr>\n",
       "    <tr>\n",
       "      <th>4</th>\n",
       "      <td>1000_4</td>\n",
       "      <td>2018-12-05</td>\n",
       "      <td>1000</td>\n",
       "      <td>12</td>\n",
       "    </tr>\n",
       "  </tbody>\n",
       "</table>\n",
       "</div>"
      ],
      "text/plain": [
       "       id message_date  user_id  month\n",
       "0  1000_0   2018-06-27     1000      6\n",
       "1  1000_1   2018-10-08     1000     10\n",
       "2  1000_2   2018-08-04     1000      8\n",
       "3  1000_3   2018-06-16     1000      6\n",
       "4  1000_4   2018-12-05     1000     12"
      ]
     },
     "execution_count": 49,
     "metadata": {},
     "output_type": "execute_result"
    }
   ],
   "source": [
    "messages.head()"
   ]
  },
  {
   "cell_type": "code",
   "execution_count": 12,
   "metadata": {},
   "outputs": [
    {
     "name": "stdout",
     "output_type": "stream",
     "text": [
      "<class 'pandas.core.frame.DataFrame'>\n",
      "RangeIndex: 123036 entries, 0 to 123035\n",
      "Data columns (total 3 columns):\n",
      " #   Column        Non-Null Count   Dtype \n",
      "---  ------        --------------   ----- \n",
      " 0   id            123036 non-null  object\n",
      " 1   message_date  123036 non-null  object\n",
      " 2   user_id       123036 non-null  int64 \n",
      "dtypes: int64(1), object(2)\n",
      "memory usage: 2.8+ MB\n"
     ]
    }
   ],
   "source": [
    "messages.info()"
   ]
  },
  {
   "cell_type": "markdown",
   "metadata": {},
   "source": [
    "**Таблица messages (информация о сообщениях):** \n",
    "* id — уникальный номер сообщения \n",
    "* message_date — дата сообщения \n",
    "* user_id — идентификатор пользователя, отправившего сообщение "
   ]
  },
  {
   "cell_type": "code",
   "execution_count": 50,
   "metadata": {},
   "outputs": [
    {
     "data": {
      "text/html": [
       "<div>\n",
       "<style scoped>\n",
       "    .dataframe tbody tr th:only-of-type {\n",
       "        vertical-align: middle;\n",
       "    }\n",
       "\n",
       "    .dataframe tbody tr th {\n",
       "        vertical-align: top;\n",
       "    }\n",
       "\n",
       "    .dataframe thead th {\n",
       "        text-align: right;\n",
       "    }\n",
       "</style>\n",
       "<table border=\"1\" class=\"dataframe\">\n",
       "  <thead>\n",
       "    <tr style=\"text-align: right;\">\n",
       "      <th></th>\n",
       "      <th>Unnamed: 0</th>\n",
       "      <th>id</th>\n",
       "      <th>mb_used</th>\n",
       "      <th>session_date</th>\n",
       "      <th>user_id</th>\n",
       "      <th>month</th>\n",
       "    </tr>\n",
       "  </thead>\n",
       "  <tbody>\n",
       "    <tr>\n",
       "      <th>0</th>\n",
       "      <td>0</td>\n",
       "      <td>1000_0</td>\n",
       "      <td>112.95</td>\n",
       "      <td>2018-11-25</td>\n",
       "      <td>1000</td>\n",
       "      <td>11</td>\n",
       "    </tr>\n",
       "    <tr>\n",
       "      <th>1</th>\n",
       "      <td>1</td>\n",
       "      <td>1000_1</td>\n",
       "      <td>1052.81</td>\n",
       "      <td>2018-09-07</td>\n",
       "      <td>1000</td>\n",
       "      <td>9</td>\n",
       "    </tr>\n",
       "    <tr>\n",
       "      <th>2</th>\n",
       "      <td>2</td>\n",
       "      <td>1000_2</td>\n",
       "      <td>1197.26</td>\n",
       "      <td>2018-06-25</td>\n",
       "      <td>1000</td>\n",
       "      <td>6</td>\n",
       "    </tr>\n",
       "    <tr>\n",
       "      <th>3</th>\n",
       "      <td>3</td>\n",
       "      <td>1000_3</td>\n",
       "      <td>550.27</td>\n",
       "      <td>2018-08-22</td>\n",
       "      <td>1000</td>\n",
       "      <td>8</td>\n",
       "    </tr>\n",
       "    <tr>\n",
       "      <th>4</th>\n",
       "      <td>4</td>\n",
       "      <td>1000_4</td>\n",
       "      <td>302.56</td>\n",
       "      <td>2018-09-24</td>\n",
       "      <td>1000</td>\n",
       "      <td>9</td>\n",
       "    </tr>\n",
       "  </tbody>\n",
       "</table>\n",
       "</div>"
      ],
      "text/plain": [
       "   Unnamed: 0      id  mb_used session_date  user_id  month\n",
       "0           0  1000_0   112.95   2018-11-25     1000     11\n",
       "1           1  1000_1  1052.81   2018-09-07     1000      9\n",
       "2           2  1000_2  1197.26   2018-06-25     1000      6\n",
       "3           3  1000_3   550.27   2018-08-22     1000      8\n",
       "4           4  1000_4   302.56   2018-09-24     1000      9"
      ]
     },
     "execution_count": 50,
     "metadata": {},
     "output_type": "execute_result"
    }
   ],
   "source": [
    "internet.head()"
   ]
  },
  {
   "cell_type": "code",
   "execution_count": 14,
   "metadata": {},
   "outputs": [
    {
     "name": "stdout",
     "output_type": "stream",
     "text": [
      "<class 'pandas.core.frame.DataFrame'>\n",
      "RangeIndex: 149396 entries, 0 to 149395\n",
      "Data columns (total 5 columns):\n",
      " #   Column        Non-Null Count   Dtype  \n",
      "---  ------        --------------   -----  \n",
      " 0   Unnamed: 0    149396 non-null  int64  \n",
      " 1   id            149396 non-null  object \n",
      " 2   mb_used       149396 non-null  float64\n",
      " 3   session_date  149396 non-null  object \n",
      " 4   user_id       149396 non-null  int64  \n",
      "dtypes: float64(1), int64(2), object(2)\n",
      "memory usage: 5.7+ MB\n"
     ]
    }
   ],
   "source": [
    "internet.info()"
   ]
  },
  {
   "cell_type": "markdown",
   "metadata": {},
   "source": [
    "**Таблица internet (информация об интернет-сессиях):**  \n",
    "* id — уникальный номер сессии \n",
    "* mb_used — объём потраченного за сессию интернет-трафика (в мегабайтах) \n",
    "* session_date — дата интернет-сессии \n",
    "* user_id — идентификатор пользователя"
   ]
  },
  {
   "cell_type": "code",
   "execution_count": 15,
   "metadata": {},
   "outputs": [
    {
     "data": {
      "text/html": [
       "<div>\n",
       "<style scoped>\n",
       "    .dataframe tbody tr th:only-of-type {\n",
       "        vertical-align: middle;\n",
       "    }\n",
       "\n",
       "    .dataframe tbody tr th {\n",
       "        vertical-align: top;\n",
       "    }\n",
       "\n",
       "    .dataframe thead th {\n",
       "        text-align: right;\n",
       "    }\n",
       "</style>\n",
       "<table border=\"1\" class=\"dataframe\">\n",
       "  <thead>\n",
       "    <tr style=\"text-align: right;\">\n",
       "      <th></th>\n",
       "      <th>messages_included</th>\n",
       "      <th>mb_per_month_included</th>\n",
       "      <th>minutes_included</th>\n",
       "      <th>rub_monthly_fee</th>\n",
       "      <th>rub_per_gb</th>\n",
       "      <th>rub_per_message</th>\n",
       "      <th>rub_per_minute</th>\n",
       "      <th>tariff_name</th>\n",
       "    </tr>\n",
       "  </thead>\n",
       "  <tbody>\n",
       "    <tr>\n",
       "      <th>0</th>\n",
       "      <td>50</td>\n",
       "      <td>15360</td>\n",
       "      <td>500</td>\n",
       "      <td>550</td>\n",
       "      <td>200</td>\n",
       "      <td>3</td>\n",
       "      <td>3</td>\n",
       "      <td>smart</td>\n",
       "    </tr>\n",
       "    <tr>\n",
       "      <th>1</th>\n",
       "      <td>1000</td>\n",
       "      <td>30720</td>\n",
       "      <td>3000</td>\n",
       "      <td>1950</td>\n",
       "      <td>150</td>\n",
       "      <td>1</td>\n",
       "      <td>1</td>\n",
       "      <td>ultra</td>\n",
       "    </tr>\n",
       "  </tbody>\n",
       "</table>\n",
       "</div>"
      ],
      "text/plain": [
       "   messages_included  mb_per_month_included  minutes_included  \\\n",
       "0                 50                  15360               500   \n",
       "1               1000                  30720              3000   \n",
       "\n",
       "   rub_monthly_fee  rub_per_gb  rub_per_message  rub_per_minute tariff_name  \n",
       "0              550         200                3               3       smart  \n",
       "1             1950         150                1               1       ultra  "
      ]
     },
     "execution_count": 15,
     "metadata": {},
     "output_type": "execute_result"
    }
   ],
   "source": [
    "tariffs.head(2)"
   ]
  },
  {
   "cell_type": "code",
   "execution_count": 16,
   "metadata": {},
   "outputs": [
    {
     "name": "stdout",
     "output_type": "stream",
     "text": [
      "<class 'pandas.core.frame.DataFrame'>\n",
      "RangeIndex: 2 entries, 0 to 1\n",
      "Data columns (total 8 columns):\n",
      " #   Column                 Non-Null Count  Dtype \n",
      "---  ------                 --------------  ----- \n",
      " 0   messages_included      2 non-null      int64 \n",
      " 1   mb_per_month_included  2 non-null      int64 \n",
      " 2   minutes_included       2 non-null      int64 \n",
      " 3   rub_monthly_fee        2 non-null      int64 \n",
      " 4   rub_per_gb             2 non-null      int64 \n",
      " 5   rub_per_message        2 non-null      int64 \n",
      " 6   rub_per_minute         2 non-null      int64 \n",
      " 7   tariff_name            2 non-null      object\n",
      "dtypes: int64(7), object(1)\n",
      "memory usage: 256.0+ bytes\n"
     ]
    }
   ],
   "source": [
    "tariffs.info()"
   ]
  },
  {
   "cell_type": "markdown",
   "metadata": {},
   "source": [
    "**Таблица tariffs (информация о тарифах):** \n",
    "* tariff_name — название тарифа \n",
    "* rub_monthly_fee — ежемесячная абонентская плата в рублях \n",
    "* minutes_included — количество минут разговора в месяц, включённых в абонентскую плату \n",
    "* messages_included — количество сообщений в месяц, включённых в абонентскую плату \n",
    "* mb_per_month_included — объём интернет-трафика, включённого в абонентскую плату (в мегабайтах) \n",
    "* rub_per_minute — стоимость минуты разговора сверх тарифного пакета (например, если в тарифе 100 минут разговора в месяц, то со 101 минуты будет взиматься плата) \n",
    "* rub_per_message — стоимость отправки сообщения сверх тарифного пакета \n",
    "* rub_per_gb — стоимость дополнительного гигабайта интернет-трафика сверх тарифного пакета (1 гигабайт = 1024 мегабайта)"
   ]
  },
  {
   "cell_type": "markdown",
   "metadata": {},
   "source": [
    "### Вывод:\n",
    "Изучив таблицы, содержимое и типы данных необходимо подготовить данные к дальнейшей работе, а именно:\n",
    "* все колонки с датами переведем в нужный формат;\n",
    "* округлим все значения, как того требуют условия (в большую сторону);\n",
    "* для решения поставленных задач добавим колонку *Месяц*."
   ]
  },
  {
   "cell_type": "markdown",
   "metadata": {},
   "source": [
    "## Подготовка данных"
   ]
  },
  {
   "cell_type": "markdown",
   "metadata": {},
   "source": [
    "### Предподготовка таблицы *Calls*"
   ]
  },
  {
   "cell_type": "code",
   "execution_count": 17,
   "metadata": {},
   "outputs": [],
   "source": [
    "calls['call_date'] = pd.to_datetime(calls['call_date'], format='%Y-%m-%d')\n",
    "calls['duration'] = calls['duration'].apply(np.ceil).astype('int')\n",
    "calls['month'] = calls['call_date'].dt.month"
   ]
  },
  {
   "cell_type": "code",
   "execution_count": 18,
   "metadata": {
    "scrolled": true
   },
   "outputs": [
    {
     "data": {
      "text/html": [
       "<div>\n",
       "<style scoped>\n",
       "    .dataframe tbody tr th:only-of-type {\n",
       "        vertical-align: middle;\n",
       "    }\n",
       "\n",
       "    .dataframe tbody tr th {\n",
       "        vertical-align: top;\n",
       "    }\n",
       "\n",
       "    .dataframe thead th {\n",
       "        text-align: right;\n",
       "    }\n",
       "</style>\n",
       "<table border=\"1\" class=\"dataframe\">\n",
       "  <thead>\n",
       "    <tr style=\"text-align: right;\">\n",
       "      <th></th>\n",
       "      <th>id</th>\n",
       "      <th>call_date</th>\n",
       "      <th>duration</th>\n",
       "      <th>user_id</th>\n",
       "      <th>month</th>\n",
       "    </tr>\n",
       "  </thead>\n",
       "  <tbody>\n",
       "    <tr>\n",
       "      <th>0</th>\n",
       "      <td>1000_0</td>\n",
       "      <td>2018-07-25</td>\n",
       "      <td>0</td>\n",
       "      <td>1000</td>\n",
       "      <td>7</td>\n",
       "    </tr>\n",
       "    <tr>\n",
       "      <th>1</th>\n",
       "      <td>1000_1</td>\n",
       "      <td>2018-08-17</td>\n",
       "      <td>0</td>\n",
       "      <td>1000</td>\n",
       "      <td>8</td>\n",
       "    </tr>\n",
       "    <tr>\n",
       "      <th>2</th>\n",
       "      <td>1000_2</td>\n",
       "      <td>2018-06-11</td>\n",
       "      <td>3</td>\n",
       "      <td>1000</td>\n",
       "      <td>6</td>\n",
       "    </tr>\n",
       "    <tr>\n",
       "      <th>3</th>\n",
       "      <td>1000_3</td>\n",
       "      <td>2018-09-21</td>\n",
       "      <td>14</td>\n",
       "      <td>1000</td>\n",
       "      <td>9</td>\n",
       "    </tr>\n",
       "    <tr>\n",
       "      <th>4</th>\n",
       "      <td>1000_4</td>\n",
       "      <td>2018-12-15</td>\n",
       "      <td>6</td>\n",
       "      <td>1000</td>\n",
       "      <td>12</td>\n",
       "    </tr>\n",
       "  </tbody>\n",
       "</table>\n",
       "</div>"
      ],
      "text/plain": [
       "       id  call_date  duration  user_id  month\n",
       "0  1000_0 2018-07-25         0     1000      7\n",
       "1  1000_1 2018-08-17         0     1000      8\n",
       "2  1000_2 2018-06-11         3     1000      6\n",
       "3  1000_3 2018-09-21        14     1000      9\n",
       "4  1000_4 2018-12-15         6     1000     12"
      ]
     },
     "execution_count": 18,
     "metadata": {},
     "output_type": "execute_result"
    }
   ],
   "source": [
    "calls.head()"
   ]
  },
  {
   "cell_type": "code",
   "execution_count": 19,
   "metadata": {},
   "outputs": [
    {
     "name": "stdout",
     "output_type": "stream",
     "text": [
      "<class 'pandas.core.frame.DataFrame'>\n",
      "RangeIndex: 202607 entries, 0 to 202606\n",
      "Data columns (total 5 columns):\n",
      " #   Column     Non-Null Count   Dtype         \n",
      "---  ------     --------------   -----         \n",
      " 0   id         202607 non-null  object        \n",
      " 1   call_date  202607 non-null  datetime64[ns]\n",
      " 2   duration   202607 non-null  int32         \n",
      " 3   user_id    202607 non-null  int64         \n",
      " 4   month      202607 non-null  int64         \n",
      "dtypes: datetime64[ns](1), int32(1), int64(2), object(1)\n",
      "memory usage: 7.0+ MB\n"
     ]
    }
   ],
   "source": [
    "calls.info()"
   ]
  },
  {
   "cell_type": "markdown",
   "metadata": {},
   "source": [
    "*Найдем количество звонков и минут в месяц для каждого пользователя*"
   ]
  },
  {
   "cell_type": "code",
   "execution_count": 20,
   "metadata": {},
   "outputs": [
    {
     "data": {
      "text/html": [
       "<div>\n",
       "<style scoped>\n",
       "    .dataframe tbody tr th:only-of-type {\n",
       "        vertical-align: middle;\n",
       "    }\n",
       "\n",
       "    .dataframe tbody tr th {\n",
       "        vertical-align: top;\n",
       "    }\n",
       "\n",
       "    .dataframe thead th {\n",
       "        text-align: right;\n",
       "    }\n",
       "</style>\n",
       "<table border=\"1\" class=\"dataframe\">\n",
       "  <thead>\n",
       "    <tr style=\"text-align: right;\">\n",
       "      <th></th>\n",
       "      <th></th>\n",
       "      <th>minutes</th>\n",
       "      <th>calls</th>\n",
       "    </tr>\n",
       "    <tr>\n",
       "      <th>user_id</th>\n",
       "      <th>month</th>\n",
       "      <th></th>\n",
       "      <th></th>\n",
       "    </tr>\n",
       "  </thead>\n",
       "  <tbody>\n",
       "    <tr>\n",
       "      <th rowspan=\"5\" valign=\"top\">1000</th>\n",
       "      <th>5</th>\n",
       "      <td>159</td>\n",
       "      <td>22</td>\n",
       "    </tr>\n",
       "    <tr>\n",
       "      <th>6</th>\n",
       "      <td>172</td>\n",
       "      <td>43</td>\n",
       "    </tr>\n",
       "    <tr>\n",
       "      <th>7</th>\n",
       "      <td>340</td>\n",
       "      <td>47</td>\n",
       "    </tr>\n",
       "    <tr>\n",
       "      <th>8</th>\n",
       "      <td>408</td>\n",
       "      <td>52</td>\n",
       "    </tr>\n",
       "    <tr>\n",
       "      <th>9</th>\n",
       "      <td>466</td>\n",
       "      <td>58</td>\n",
       "    </tr>\n",
       "    <tr>\n",
       "      <th>...</th>\n",
       "      <th>...</th>\n",
       "      <td>...</td>\n",
       "      <td>...</td>\n",
       "    </tr>\n",
       "    <tr>\n",
       "      <th>1498</th>\n",
       "      <th>10</th>\n",
       "      <td>247</td>\n",
       "      <td>41</td>\n",
       "    </tr>\n",
       "    <tr>\n",
       "      <th rowspan=\"4\" valign=\"top\">1499</th>\n",
       "      <th>9</th>\n",
       "      <td>70</td>\n",
       "      <td>9</td>\n",
       "    </tr>\n",
       "    <tr>\n",
       "      <th>10</th>\n",
       "      <td>449</td>\n",
       "      <td>68</td>\n",
       "    </tr>\n",
       "    <tr>\n",
       "      <th>11</th>\n",
       "      <td>612</td>\n",
       "      <td>74</td>\n",
       "    </tr>\n",
       "    <tr>\n",
       "      <th>12</th>\n",
       "      <td>492</td>\n",
       "      <td>69</td>\n",
       "    </tr>\n",
       "  </tbody>\n",
       "</table>\n",
       "<p>3174 rows × 2 columns</p>\n",
       "</div>"
      ],
      "text/plain": [
       "               minutes  calls\n",
       "user_id month                \n",
       "1000    5          159     22\n",
       "        6          172     43\n",
       "        7          340     47\n",
       "        8          408     52\n",
       "        9          466     58\n",
       "...                ...    ...\n",
       "1498    10         247     41\n",
       "1499    9           70      9\n",
       "        10         449     68\n",
       "        11         612     74\n",
       "        12         492     69\n",
       "\n",
       "[3174 rows x 2 columns]"
      ]
     },
     "execution_count": 20,
     "metadata": {},
     "output_type": "execute_result"
    }
   ],
   "source": [
    "calls_and_min_on_month = calls.pivot_table(index=['user_id','month'], values=['duration'] , aggfunc=['sum','count'])\n",
    "calls_and_min_on_month.columns = ['minutes', 'calls']\n",
    "calls_and_min_on_month"
   ]
  },
  {
   "cell_type": "markdown",
   "metadata": {},
   "source": [
    "### Предподготовка таблицы *Users*"
   ]
  },
  {
   "cell_type": "code",
   "execution_count": 21,
   "metadata": {},
   "outputs": [],
   "source": [
    "users['reg_date'] = pd.to_datetime(users['reg_date'], format='%Y-%m-%d')\n",
    "users['month'] = users['reg_date'].dt.month\n",
    "users['name'] = users['first_name'] + ' ' + users['last_name']\n",
    "users = users.drop(['first_name', 'last_name'], axis=1)"
   ]
  },
  {
   "cell_type": "code",
   "execution_count": 22,
   "metadata": {},
   "outputs": [
    {
     "data": {
      "text/html": [
       "<div>\n",
       "<style scoped>\n",
       "    .dataframe tbody tr th:only-of-type {\n",
       "        vertical-align: middle;\n",
       "    }\n",
       "\n",
       "    .dataframe tbody tr th {\n",
       "        vertical-align: top;\n",
       "    }\n",
       "\n",
       "    .dataframe thead th {\n",
       "        text-align: right;\n",
       "    }\n",
       "</style>\n",
       "<table border=\"1\" class=\"dataframe\">\n",
       "  <thead>\n",
       "    <tr style=\"text-align: right;\">\n",
       "      <th></th>\n",
       "      <th>user_id</th>\n",
       "      <th>age</th>\n",
       "      <th>churn_date</th>\n",
       "      <th>city</th>\n",
       "      <th>reg_date</th>\n",
       "      <th>tariff</th>\n",
       "      <th>month</th>\n",
       "      <th>name</th>\n",
       "    </tr>\n",
       "  </thead>\n",
       "  <tbody>\n",
       "    <tr>\n",
       "      <th>0</th>\n",
       "      <td>1000</td>\n",
       "      <td>52</td>\n",
       "      <td>NaN</td>\n",
       "      <td>Краснодар</td>\n",
       "      <td>2018-05-25</td>\n",
       "      <td>ultra</td>\n",
       "      <td>5</td>\n",
       "      <td>Рафаил Верещагин</td>\n",
       "    </tr>\n",
       "    <tr>\n",
       "      <th>1</th>\n",
       "      <td>1001</td>\n",
       "      <td>41</td>\n",
       "      <td>NaN</td>\n",
       "      <td>Москва</td>\n",
       "      <td>2018-11-01</td>\n",
       "      <td>smart</td>\n",
       "      <td>11</td>\n",
       "      <td>Иван Ежов</td>\n",
       "    </tr>\n",
       "    <tr>\n",
       "      <th>2</th>\n",
       "      <td>1002</td>\n",
       "      <td>59</td>\n",
       "      <td>NaN</td>\n",
       "      <td>Стерлитамак</td>\n",
       "      <td>2018-06-17</td>\n",
       "      <td>smart</td>\n",
       "      <td>6</td>\n",
       "      <td>Евгений Абрамович</td>\n",
       "    </tr>\n",
       "    <tr>\n",
       "      <th>3</th>\n",
       "      <td>1003</td>\n",
       "      <td>23</td>\n",
       "      <td>NaN</td>\n",
       "      <td>Москва</td>\n",
       "      <td>2018-08-17</td>\n",
       "      <td>ultra</td>\n",
       "      <td>8</td>\n",
       "      <td>Белла Белякова</td>\n",
       "    </tr>\n",
       "    <tr>\n",
       "      <th>4</th>\n",
       "      <td>1004</td>\n",
       "      <td>68</td>\n",
       "      <td>NaN</td>\n",
       "      <td>Новокузнецк</td>\n",
       "      <td>2018-05-14</td>\n",
       "      <td>ultra</td>\n",
       "      <td>5</td>\n",
       "      <td>Татьяна Авдеенко</td>\n",
       "    </tr>\n",
       "  </tbody>\n",
       "</table>\n",
       "</div>"
      ],
      "text/plain": [
       "   user_id  age churn_date         city   reg_date tariff  month  \\\n",
       "0     1000   52        NaN    Краснодар 2018-05-25  ultra      5   \n",
       "1     1001   41        NaN       Москва 2018-11-01  smart     11   \n",
       "2     1002   59        NaN  Стерлитамак 2018-06-17  smart      6   \n",
       "3     1003   23        NaN       Москва 2018-08-17  ultra      8   \n",
       "4     1004   68        NaN  Новокузнецк 2018-05-14  ultra      5   \n",
       "\n",
       "                name  \n",
       "0   Рафаил Верещагин  \n",
       "1          Иван Ежов  \n",
       "2  Евгений Абрамович  \n",
       "3     Белла Белякова  \n",
       "4   Татьяна Авдеенко  "
      ]
     },
     "execution_count": 22,
     "metadata": {},
     "output_type": "execute_result"
    }
   ],
   "source": [
    "users.head()"
   ]
  },
  {
   "cell_type": "markdown",
   "metadata": {},
   "source": [
    "### Предподготовка таблицы *Messages*"
   ]
  },
  {
   "cell_type": "code",
   "execution_count": 23,
   "metadata": {},
   "outputs": [],
   "source": [
    "messages['message_date'] = pd.to_datetime(messages['message_date'], format='%Y-%m-%d')\n",
    "messages['month'] = messages['message_date'].dt.month"
   ]
  },
  {
   "cell_type": "code",
   "execution_count": 24,
   "metadata": {},
   "outputs": [
    {
     "data": {
      "text/html": [
       "<div>\n",
       "<style scoped>\n",
       "    .dataframe tbody tr th:only-of-type {\n",
       "        vertical-align: middle;\n",
       "    }\n",
       "\n",
       "    .dataframe tbody tr th {\n",
       "        vertical-align: top;\n",
       "    }\n",
       "\n",
       "    .dataframe thead th {\n",
       "        text-align: right;\n",
       "    }\n",
       "</style>\n",
       "<table border=\"1\" class=\"dataframe\">\n",
       "  <thead>\n",
       "    <tr style=\"text-align: right;\">\n",
       "      <th></th>\n",
       "      <th>id</th>\n",
       "      <th>message_date</th>\n",
       "      <th>user_id</th>\n",
       "      <th>month</th>\n",
       "    </tr>\n",
       "  </thead>\n",
       "  <tbody>\n",
       "    <tr>\n",
       "      <th>0</th>\n",
       "      <td>1000_0</td>\n",
       "      <td>2018-06-27</td>\n",
       "      <td>1000</td>\n",
       "      <td>6</td>\n",
       "    </tr>\n",
       "    <tr>\n",
       "      <th>1</th>\n",
       "      <td>1000_1</td>\n",
       "      <td>2018-10-08</td>\n",
       "      <td>1000</td>\n",
       "      <td>10</td>\n",
       "    </tr>\n",
       "    <tr>\n",
       "      <th>2</th>\n",
       "      <td>1000_2</td>\n",
       "      <td>2018-08-04</td>\n",
       "      <td>1000</td>\n",
       "      <td>8</td>\n",
       "    </tr>\n",
       "    <tr>\n",
       "      <th>3</th>\n",
       "      <td>1000_3</td>\n",
       "      <td>2018-06-16</td>\n",
       "      <td>1000</td>\n",
       "      <td>6</td>\n",
       "    </tr>\n",
       "    <tr>\n",
       "      <th>4</th>\n",
       "      <td>1000_4</td>\n",
       "      <td>2018-12-05</td>\n",
       "      <td>1000</td>\n",
       "      <td>12</td>\n",
       "    </tr>\n",
       "  </tbody>\n",
       "</table>\n",
       "</div>"
      ],
      "text/plain": [
       "       id message_date  user_id  month\n",
       "0  1000_0   2018-06-27     1000      6\n",
       "1  1000_1   2018-10-08     1000     10\n",
       "2  1000_2   2018-08-04     1000      8\n",
       "3  1000_3   2018-06-16     1000      6\n",
       "4  1000_4   2018-12-05     1000     12"
      ]
     },
     "execution_count": 24,
     "metadata": {},
     "output_type": "execute_result"
    }
   ],
   "source": [
    "messages.head()"
   ]
  },
  {
   "cell_type": "markdown",
   "metadata": {},
   "source": [
    "*Найдем количество сообщений в месяц*"
   ]
  },
  {
   "cell_type": "code",
   "execution_count": 25,
   "metadata": {},
   "outputs": [
    {
     "data": {
      "text/html": [
       "<div>\n",
       "<style scoped>\n",
       "    .dataframe tbody tr th:only-of-type {\n",
       "        vertical-align: middle;\n",
       "    }\n",
       "\n",
       "    .dataframe tbody tr th {\n",
       "        vertical-align: top;\n",
       "    }\n",
       "\n",
       "    .dataframe thead th {\n",
       "        text-align: right;\n",
       "    }\n",
       "</style>\n",
       "<table border=\"1\" class=\"dataframe\">\n",
       "  <thead>\n",
       "    <tr style=\"text-align: right;\">\n",
       "      <th></th>\n",
       "      <th></th>\n",
       "      <th>messages</th>\n",
       "    </tr>\n",
       "    <tr>\n",
       "      <th>user_id</th>\n",
       "      <th>month</th>\n",
       "      <th></th>\n",
       "    </tr>\n",
       "  </thead>\n",
       "  <tbody>\n",
       "    <tr>\n",
       "      <th rowspan=\"5\" valign=\"top\">1000</th>\n",
       "      <th>5</th>\n",
       "      <td>22</td>\n",
       "    </tr>\n",
       "    <tr>\n",
       "      <th>6</th>\n",
       "      <td>60</td>\n",
       "    </tr>\n",
       "    <tr>\n",
       "      <th>7</th>\n",
       "      <td>75</td>\n",
       "    </tr>\n",
       "    <tr>\n",
       "      <th>8</th>\n",
       "      <td>81</td>\n",
       "    </tr>\n",
       "    <tr>\n",
       "      <th>9</th>\n",
       "      <td>57</td>\n",
       "    </tr>\n",
       "    <tr>\n",
       "      <th>...</th>\n",
       "      <th>...</th>\n",
       "      <td>...</td>\n",
       "    </tr>\n",
       "    <tr>\n",
       "      <th>1498</th>\n",
       "      <th>10</th>\n",
       "      <td>42</td>\n",
       "    </tr>\n",
       "    <tr>\n",
       "      <th rowspan=\"4\" valign=\"top\">1499</th>\n",
       "      <th>9</th>\n",
       "      <td>11</td>\n",
       "    </tr>\n",
       "    <tr>\n",
       "      <th>10</th>\n",
       "      <td>48</td>\n",
       "    </tr>\n",
       "    <tr>\n",
       "      <th>11</th>\n",
       "      <td>59</td>\n",
       "    </tr>\n",
       "    <tr>\n",
       "      <th>12</th>\n",
       "      <td>66</td>\n",
       "    </tr>\n",
       "  </tbody>\n",
       "</table>\n",
       "<p>2717 rows × 1 columns</p>\n",
       "</div>"
      ],
      "text/plain": [
       "               messages\n",
       "user_id month          \n",
       "1000    5            22\n",
       "        6            60\n",
       "        7            75\n",
       "        8            81\n",
       "        9            57\n",
       "...                 ...\n",
       "1498    10           42\n",
       "1499    9            11\n",
       "        10           48\n",
       "        11           59\n",
       "        12           66\n",
       "\n",
       "[2717 rows x 1 columns]"
      ]
     },
     "execution_count": 25,
     "metadata": {},
     "output_type": "execute_result"
    }
   ],
   "source": [
    "messages_in_month = messages.pivot_table(index=['user_id', 'month'], values='id', aggfunc='count')\n",
    "messages_in_month.columns = ['messages']\n",
    "messages_in_month"
   ]
  },
  {
   "cell_type": "markdown",
   "metadata": {},
   "source": [
    "### Предподготовка таблицы *Internet*"
   ]
  },
  {
   "cell_type": "code",
   "execution_count": 26,
   "metadata": {},
   "outputs": [],
   "source": [
    "internet['session_date'] = pd.to_datetime(internet['session_date'], format='%Y-%m-%d')\n",
    "internet['month'] = internet['session_date'].dt.month"
   ]
  },
  {
   "cell_type": "code",
   "execution_count": 27,
   "metadata": {},
   "outputs": [
    {
     "data": {
      "text/html": [
       "<div>\n",
       "<style scoped>\n",
       "    .dataframe tbody tr th:only-of-type {\n",
       "        vertical-align: middle;\n",
       "    }\n",
       "\n",
       "    .dataframe tbody tr th {\n",
       "        vertical-align: top;\n",
       "    }\n",
       "\n",
       "    .dataframe thead th {\n",
       "        text-align: right;\n",
       "    }\n",
       "</style>\n",
       "<table border=\"1\" class=\"dataframe\">\n",
       "  <thead>\n",
       "    <tr style=\"text-align: right;\">\n",
       "      <th></th>\n",
       "      <th>Unnamed: 0</th>\n",
       "      <th>id</th>\n",
       "      <th>mb_used</th>\n",
       "      <th>session_date</th>\n",
       "      <th>user_id</th>\n",
       "      <th>month</th>\n",
       "    </tr>\n",
       "  </thead>\n",
       "  <tbody>\n",
       "    <tr>\n",
       "      <th>0</th>\n",
       "      <td>0</td>\n",
       "      <td>1000_0</td>\n",
       "      <td>112.95</td>\n",
       "      <td>2018-11-25</td>\n",
       "      <td>1000</td>\n",
       "      <td>11</td>\n",
       "    </tr>\n",
       "    <tr>\n",
       "      <th>1</th>\n",
       "      <td>1</td>\n",
       "      <td>1000_1</td>\n",
       "      <td>1052.81</td>\n",
       "      <td>2018-09-07</td>\n",
       "      <td>1000</td>\n",
       "      <td>9</td>\n",
       "    </tr>\n",
       "    <tr>\n",
       "      <th>2</th>\n",
       "      <td>2</td>\n",
       "      <td>1000_2</td>\n",
       "      <td>1197.26</td>\n",
       "      <td>2018-06-25</td>\n",
       "      <td>1000</td>\n",
       "      <td>6</td>\n",
       "    </tr>\n",
       "    <tr>\n",
       "      <th>3</th>\n",
       "      <td>3</td>\n",
       "      <td>1000_3</td>\n",
       "      <td>550.27</td>\n",
       "      <td>2018-08-22</td>\n",
       "      <td>1000</td>\n",
       "      <td>8</td>\n",
       "    </tr>\n",
       "    <tr>\n",
       "      <th>4</th>\n",
       "      <td>4</td>\n",
       "      <td>1000_4</td>\n",
       "      <td>302.56</td>\n",
       "      <td>2018-09-24</td>\n",
       "      <td>1000</td>\n",
       "      <td>9</td>\n",
       "    </tr>\n",
       "  </tbody>\n",
       "</table>\n",
       "</div>"
      ],
      "text/plain": [
       "   Unnamed: 0      id  mb_used session_date  user_id  month\n",
       "0           0  1000_0   112.95   2018-11-25     1000     11\n",
       "1           1  1000_1  1052.81   2018-09-07     1000      9\n",
       "2           2  1000_2  1197.26   2018-06-25     1000      6\n",
       "3           3  1000_3   550.27   2018-08-22     1000      8\n",
       "4           4  1000_4   302.56   2018-09-24     1000      9"
      ]
     },
     "execution_count": 27,
     "metadata": {},
     "output_type": "execute_result"
    }
   ],
   "source": [
    "internet.head()"
   ]
  },
  {
   "cell_type": "markdown",
   "metadata": {},
   "source": [
    "*Найдем объем потраченных в месяц мегабайт.*"
   ]
  },
  {
   "cell_type": "code",
   "execution_count": 28,
   "metadata": {},
   "outputs": [
    {
     "data": {
      "text/html": [
       "<div>\n",
       "<style scoped>\n",
       "    .dataframe tbody tr th:only-of-type {\n",
       "        vertical-align: middle;\n",
       "    }\n",
       "\n",
       "    .dataframe tbody tr th {\n",
       "        vertical-align: top;\n",
       "    }\n",
       "\n",
       "    .dataframe thead th {\n",
       "        text-align: right;\n",
       "    }\n",
       "</style>\n",
       "<table border=\"1\" class=\"dataframe\">\n",
       "  <thead>\n",
       "    <tr style=\"text-align: right;\">\n",
       "      <th></th>\n",
       "      <th></th>\n",
       "      <th>mb_used</th>\n",
       "    </tr>\n",
       "    <tr>\n",
       "      <th>user_id</th>\n",
       "      <th>month</th>\n",
       "      <th></th>\n",
       "    </tr>\n",
       "  </thead>\n",
       "  <tbody>\n",
       "    <tr>\n",
       "      <th rowspan=\"5\" valign=\"top\">1000</th>\n",
       "      <th>5</th>\n",
       "      <td>2253.49</td>\n",
       "    </tr>\n",
       "    <tr>\n",
       "      <th>6</th>\n",
       "      <td>23233.77</td>\n",
       "    </tr>\n",
       "    <tr>\n",
       "      <th>7</th>\n",
       "      <td>14003.64</td>\n",
       "    </tr>\n",
       "    <tr>\n",
       "      <th>8</th>\n",
       "      <td>14055.93</td>\n",
       "    </tr>\n",
       "    <tr>\n",
       "      <th>9</th>\n",
       "      <td>14568.91</td>\n",
       "    </tr>\n",
       "    <tr>\n",
       "      <th>...</th>\n",
       "      <th>...</th>\n",
       "      <td>...</td>\n",
       "    </tr>\n",
       "    <tr>\n",
       "      <th>1498</th>\n",
       "      <th>10</th>\n",
       "      <td>20579.36</td>\n",
       "    </tr>\n",
       "    <tr>\n",
       "      <th rowspan=\"4\" valign=\"top\">1499</th>\n",
       "      <th>9</th>\n",
       "      <td>1845.75</td>\n",
       "    </tr>\n",
       "    <tr>\n",
       "      <th>10</th>\n",
       "      <td>17788.51</td>\n",
       "    </tr>\n",
       "    <tr>\n",
       "      <th>11</th>\n",
       "      <td>17963.31</td>\n",
       "    </tr>\n",
       "    <tr>\n",
       "      <th>12</th>\n",
       "      <td>13055.58</td>\n",
       "    </tr>\n",
       "  </tbody>\n",
       "</table>\n",
       "<p>3203 rows × 1 columns</p>\n",
       "</div>"
      ],
      "text/plain": [
       "                mb_used\n",
       "user_id month          \n",
       "1000    5       2253.49\n",
       "        6      23233.77\n",
       "        7      14003.64\n",
       "        8      14055.93\n",
       "        9      14568.91\n",
       "...                 ...\n",
       "1498    10     20579.36\n",
       "1499    9       1845.75\n",
       "        10     17788.51\n",
       "        11     17963.31\n",
       "        12     13055.58\n",
       "\n",
       "[3203 rows x 1 columns]"
      ]
     },
     "execution_count": 28,
     "metadata": {},
     "output_type": "execute_result"
    }
   ],
   "source": [
    "mb_in_month = internet.pivot_table(index=['user_id', 'month'], values='mb_used', aggfunc='sum')\n",
    "mb_in_month"
   ]
  },
  {
   "cell_type": "markdown",
   "metadata": {},
   "source": [
    "### Выручка по месяцам"
   ]
  },
  {
   "cell_type": "markdown",
   "metadata": {},
   "source": [
    "Для того чтобы найти помесячную выручку объединим таблицы. "
   ]
  },
  {
   "cell_type": "code",
   "execution_count": 29,
   "metadata": {},
   "outputs": [],
   "source": [
    "data = calls_and_min_on_month.merge(messages_in_month, on=['user_id', 'month'], how='outer')\n",
    "data = data.merge(mb_in_month, on=['user_id', 'month'], how='outer')\n",
    "data = data.reset_index(drop=False) \n",
    "data = data.merge(users[['user_id', 'tariff']], on=['user_id'], how='left')"
   ]
  },
  {
   "cell_type": "code",
   "execution_count": 30,
   "metadata": {},
   "outputs": [
    {
     "data": {
      "text/html": [
       "<div>\n",
       "<style scoped>\n",
       "    .dataframe tbody tr th:only-of-type {\n",
       "        vertical-align: middle;\n",
       "    }\n",
       "\n",
       "    .dataframe tbody tr th {\n",
       "        vertical-align: top;\n",
       "    }\n",
       "\n",
       "    .dataframe thead th {\n",
       "        text-align: right;\n",
       "    }\n",
       "</style>\n",
       "<table border=\"1\" class=\"dataframe\">\n",
       "  <thead>\n",
       "    <tr style=\"text-align: right;\">\n",
       "      <th></th>\n",
       "      <th>user_id</th>\n",
       "      <th>month</th>\n",
       "      <th>minutes</th>\n",
       "      <th>calls</th>\n",
       "      <th>messages</th>\n",
       "      <th>mb_used</th>\n",
       "      <th>tariff</th>\n",
       "    </tr>\n",
       "  </thead>\n",
       "  <tbody>\n",
       "    <tr>\n",
       "      <th>0</th>\n",
       "      <td>1000</td>\n",
       "      <td>5</td>\n",
       "      <td>159.0</td>\n",
       "      <td>22.0</td>\n",
       "      <td>22.0</td>\n",
       "      <td>2253.49</td>\n",
       "      <td>ultra</td>\n",
       "    </tr>\n",
       "    <tr>\n",
       "      <th>1</th>\n",
       "      <td>1000</td>\n",
       "      <td>6</td>\n",
       "      <td>172.0</td>\n",
       "      <td>43.0</td>\n",
       "      <td>60.0</td>\n",
       "      <td>23233.77</td>\n",
       "      <td>ultra</td>\n",
       "    </tr>\n",
       "    <tr>\n",
       "      <th>2</th>\n",
       "      <td>1000</td>\n",
       "      <td>7</td>\n",
       "      <td>340.0</td>\n",
       "      <td>47.0</td>\n",
       "      <td>75.0</td>\n",
       "      <td>14003.64</td>\n",
       "      <td>ultra</td>\n",
       "    </tr>\n",
       "    <tr>\n",
       "      <th>3</th>\n",
       "      <td>1000</td>\n",
       "      <td>8</td>\n",
       "      <td>408.0</td>\n",
       "      <td>52.0</td>\n",
       "      <td>81.0</td>\n",
       "      <td>14055.93</td>\n",
       "      <td>ultra</td>\n",
       "    </tr>\n",
       "    <tr>\n",
       "      <th>4</th>\n",
       "      <td>1000</td>\n",
       "      <td>9</td>\n",
       "      <td>466.0</td>\n",
       "      <td>58.0</td>\n",
       "      <td>57.0</td>\n",
       "      <td>14568.91</td>\n",
       "      <td>ultra</td>\n",
       "    </tr>\n",
       "    <tr>\n",
       "      <th>...</th>\n",
       "      <td>...</td>\n",
       "      <td>...</td>\n",
       "      <td>...</td>\n",
       "      <td>...</td>\n",
       "      <td>...</td>\n",
       "      <td>...</td>\n",
       "      <td>...</td>\n",
       "    </tr>\n",
       "    <tr>\n",
       "      <th>3209</th>\n",
       "      <td>1489</td>\n",
       "      <td>9</td>\n",
       "      <td>NaN</td>\n",
       "      <td>NaN</td>\n",
       "      <td>32.0</td>\n",
       "      <td>17206.30</td>\n",
       "      <td>smart</td>\n",
       "    </tr>\n",
       "    <tr>\n",
       "      <th>3210</th>\n",
       "      <td>1489</td>\n",
       "      <td>10</td>\n",
       "      <td>NaN</td>\n",
       "      <td>NaN</td>\n",
       "      <td>21.0</td>\n",
       "      <td>19559.44</td>\n",
       "      <td>smart</td>\n",
       "    </tr>\n",
       "    <tr>\n",
       "      <th>3211</th>\n",
       "      <td>1489</td>\n",
       "      <td>11</td>\n",
       "      <td>NaN</td>\n",
       "      <td>NaN</td>\n",
       "      <td>20.0</td>\n",
       "      <td>17491.56</td>\n",
       "      <td>smart</td>\n",
       "    </tr>\n",
       "    <tr>\n",
       "      <th>3212</th>\n",
       "      <td>1489</td>\n",
       "      <td>12</td>\n",
       "      <td>NaN</td>\n",
       "      <td>NaN</td>\n",
       "      <td>35.0</td>\n",
       "      <td>17322.51</td>\n",
       "      <td>smart</td>\n",
       "    </tr>\n",
       "    <tr>\n",
       "      <th>3213</th>\n",
       "      <td>1476</td>\n",
       "      <td>4</td>\n",
       "      <td>NaN</td>\n",
       "      <td>NaN</td>\n",
       "      <td>NaN</td>\n",
       "      <td>530.78</td>\n",
       "      <td>ultra</td>\n",
       "    </tr>\n",
       "  </tbody>\n",
       "</table>\n",
       "<p>3214 rows × 7 columns</p>\n",
       "</div>"
      ],
      "text/plain": [
       "      user_id  month  minutes  calls  messages   mb_used tariff\n",
       "0        1000      5    159.0   22.0      22.0   2253.49  ultra\n",
       "1        1000      6    172.0   43.0      60.0  23233.77  ultra\n",
       "2        1000      7    340.0   47.0      75.0  14003.64  ultra\n",
       "3        1000      8    408.0   52.0      81.0  14055.93  ultra\n",
       "4        1000      9    466.0   58.0      57.0  14568.91  ultra\n",
       "...       ...    ...      ...    ...       ...       ...    ...\n",
       "3209     1489      9      NaN    NaN      32.0  17206.30  smart\n",
       "3210     1489     10      NaN    NaN      21.0  19559.44  smart\n",
       "3211     1489     11      NaN    NaN      20.0  17491.56  smart\n",
       "3212     1489     12      NaN    NaN      35.0  17322.51  smart\n",
       "3213     1476      4      NaN    NaN       NaN    530.78  ultra\n",
       "\n",
       "[3214 rows x 7 columns]"
      ]
     },
     "execution_count": 30,
     "metadata": {},
     "output_type": "execute_result"
    }
   ],
   "source": [
    "data"
   ]
  },
  {
   "cell_type": "markdown",
   "metadata": {},
   "source": [
    "Заполним обнаруженные пропуски нулями, для этого посмотрим в каких именно столбцах они встречаются и насколько их много."
   ]
  },
  {
   "cell_type": "code",
   "execution_count": 31,
   "metadata": {
    "scrolled": true
   },
   "outputs": [
    {
     "name": "stdout",
     "output_type": "stream",
     "text": [
      "<class 'pandas.core.frame.DataFrame'>\n",
      "Int64Index: 3214 entries, 0 to 3213\n",
      "Data columns (total 7 columns):\n",
      " #   Column    Non-Null Count  Dtype  \n",
      "---  ------    --------------  -----  \n",
      " 0   user_id   3214 non-null   int64  \n",
      " 1   month     3214 non-null   int64  \n",
      " 2   minutes   3174 non-null   float64\n",
      " 3   calls     3174 non-null   float64\n",
      " 4   messages  2717 non-null   float64\n",
      " 5   mb_used   3203 non-null   float64\n",
      " 6   tariff    3214 non-null   object \n",
      "dtypes: float64(4), int64(2), object(1)\n",
      "memory usage: 200.9+ KB\n"
     ]
    }
   ],
   "source": [
    "data.info()"
   ]
  },
  {
   "cell_type": "markdown",
   "metadata": {},
   "source": [
    "Также мне не нравится что некоторые столбцы стали типом *float*, исправим."
   ]
  },
  {
   "cell_type": "code",
   "execution_count": 32,
   "metadata": {},
   "outputs": [],
   "source": [
    "data['minutes'] = (data['minutes'].fillna(value=0)).astype('int')\n",
    "data['calls'] = (data['calls'].fillna(value=0)).astype('int')\n",
    "data['messages'] = (data['messages'].fillna(value=0)).astype('int')"
   ]
  },
  {
   "cell_type": "code",
   "execution_count": 33,
   "metadata": {},
   "outputs": [
    {
     "data": {
      "text/html": [
       "<div>\n",
       "<style scoped>\n",
       "    .dataframe tbody tr th:only-of-type {\n",
       "        vertical-align: middle;\n",
       "    }\n",
       "\n",
       "    .dataframe tbody tr th {\n",
       "        vertical-align: top;\n",
       "    }\n",
       "\n",
       "    .dataframe thead th {\n",
       "        text-align: right;\n",
       "    }\n",
       "</style>\n",
       "<table border=\"1\" class=\"dataframe\">\n",
       "  <thead>\n",
       "    <tr style=\"text-align: right;\">\n",
       "      <th></th>\n",
       "      <th>user_id</th>\n",
       "      <th>month</th>\n",
       "      <th>minutes</th>\n",
       "      <th>calls</th>\n",
       "      <th>messages</th>\n",
       "      <th>mb_used</th>\n",
       "      <th>tariff</th>\n",
       "    </tr>\n",
       "  </thead>\n",
       "  <tbody>\n",
       "    <tr>\n",
       "      <th>0</th>\n",
       "      <td>1000</td>\n",
       "      <td>5</td>\n",
       "      <td>159</td>\n",
       "      <td>22</td>\n",
       "      <td>22</td>\n",
       "      <td>2253.49</td>\n",
       "      <td>ultra</td>\n",
       "    </tr>\n",
       "    <tr>\n",
       "      <th>1</th>\n",
       "      <td>1000</td>\n",
       "      <td>6</td>\n",
       "      <td>172</td>\n",
       "      <td>43</td>\n",
       "      <td>60</td>\n",
       "      <td>23233.77</td>\n",
       "      <td>ultra</td>\n",
       "    </tr>\n",
       "    <tr>\n",
       "      <th>2</th>\n",
       "      <td>1000</td>\n",
       "      <td>7</td>\n",
       "      <td>340</td>\n",
       "      <td>47</td>\n",
       "      <td>75</td>\n",
       "      <td>14003.64</td>\n",
       "      <td>ultra</td>\n",
       "    </tr>\n",
       "    <tr>\n",
       "      <th>3</th>\n",
       "      <td>1000</td>\n",
       "      <td>8</td>\n",
       "      <td>408</td>\n",
       "      <td>52</td>\n",
       "      <td>81</td>\n",
       "      <td>14055.93</td>\n",
       "      <td>ultra</td>\n",
       "    </tr>\n",
       "    <tr>\n",
       "      <th>4</th>\n",
       "      <td>1000</td>\n",
       "      <td>9</td>\n",
       "      <td>466</td>\n",
       "      <td>58</td>\n",
       "      <td>57</td>\n",
       "      <td>14568.91</td>\n",
       "      <td>ultra</td>\n",
       "    </tr>\n",
       "    <tr>\n",
       "      <th>...</th>\n",
       "      <td>...</td>\n",
       "      <td>...</td>\n",
       "      <td>...</td>\n",
       "      <td>...</td>\n",
       "      <td>...</td>\n",
       "      <td>...</td>\n",
       "      <td>...</td>\n",
       "    </tr>\n",
       "    <tr>\n",
       "      <th>3209</th>\n",
       "      <td>1489</td>\n",
       "      <td>9</td>\n",
       "      <td>0</td>\n",
       "      <td>0</td>\n",
       "      <td>32</td>\n",
       "      <td>17206.30</td>\n",
       "      <td>smart</td>\n",
       "    </tr>\n",
       "    <tr>\n",
       "      <th>3210</th>\n",
       "      <td>1489</td>\n",
       "      <td>10</td>\n",
       "      <td>0</td>\n",
       "      <td>0</td>\n",
       "      <td>21</td>\n",
       "      <td>19559.44</td>\n",
       "      <td>smart</td>\n",
       "    </tr>\n",
       "    <tr>\n",
       "      <th>3211</th>\n",
       "      <td>1489</td>\n",
       "      <td>11</td>\n",
       "      <td>0</td>\n",
       "      <td>0</td>\n",
       "      <td>20</td>\n",
       "      <td>17491.56</td>\n",
       "      <td>smart</td>\n",
       "    </tr>\n",
       "    <tr>\n",
       "      <th>3212</th>\n",
       "      <td>1489</td>\n",
       "      <td>12</td>\n",
       "      <td>0</td>\n",
       "      <td>0</td>\n",
       "      <td>35</td>\n",
       "      <td>17322.51</td>\n",
       "      <td>smart</td>\n",
       "    </tr>\n",
       "    <tr>\n",
       "      <th>3213</th>\n",
       "      <td>1476</td>\n",
       "      <td>4</td>\n",
       "      <td>0</td>\n",
       "      <td>0</td>\n",
       "      <td>0</td>\n",
       "      <td>530.78</td>\n",
       "      <td>ultra</td>\n",
       "    </tr>\n",
       "  </tbody>\n",
       "</table>\n",
       "<p>3214 rows × 7 columns</p>\n",
       "</div>"
      ],
      "text/plain": [
       "      user_id  month  minutes  calls  messages   mb_used tariff\n",
       "0        1000      5      159     22        22   2253.49  ultra\n",
       "1        1000      6      172     43        60  23233.77  ultra\n",
       "2        1000      7      340     47        75  14003.64  ultra\n",
       "3        1000      8      408     52        81  14055.93  ultra\n",
       "4        1000      9      466     58        57  14568.91  ultra\n",
       "...       ...    ...      ...    ...       ...       ...    ...\n",
       "3209     1489      9        0      0        32  17206.30  smart\n",
       "3210     1489     10        0      0        21  19559.44  smart\n",
       "3211     1489     11        0      0        20  17491.56  smart\n",
       "3212     1489     12        0      0        35  17322.51  smart\n",
       "3213     1476      4        0      0         0    530.78  ultra\n",
       "\n",
       "[3214 rows x 7 columns]"
      ]
     },
     "execution_count": 33,
     "metadata": {},
     "output_type": "execute_result"
    }
   ],
   "source": [
    "data"
   ]
  },
  {
   "cell_type": "code",
   "execution_count": 34,
   "metadata": {},
   "outputs": [],
   "source": [
    "def profit(row):\n",
    "    minutes = row['minutes']\n",
    "    calls = row['calls']\n",
    "    messages = row['messages']\n",
    "    mb = row['mb_used']\n",
    "    tariff = row['tariff']\n",
    "    \n",
    "    if tariff == 'smart':\n",
    "        overspend_minutes = minutes - tariffs.loc[0, 'minutes_included'] \n",
    "        overspend_messages = messages - tariffs.loc[0, 'messages_included']\n",
    "        overspend_mb = mb - tariffs.loc[0, 'mb_per_month_included']\n",
    "        \n",
    "        if overspend_minutes < 0:\n",
    "            overspend_minutes = 0\n",
    "        if overspend_messages < 0:\n",
    "            overspend_messages = 0\n",
    "        if overspend_mb < 0:\n",
    "            overspend_mb = 0\n",
    "            \n",
    "        return (overspend_minutes * tariffs.loc[0, 'rub_per_minute'] +\n",
    "            overspend_messages * tariffs.loc[0, 'rub_per_message'] + \n",
    "            np.ceil(overspend_mb / 1024) * tariffs.loc[0, 'rub_per_gb'] + \n",
    "             tariffs.loc[0, 'rub_monthly_fee'])\n",
    "    else: \n",
    "        overspend_minutes = minutes - tariffs.loc[1, 'minutes_included'] \n",
    "        overspend_messages = messages - tariffs.loc[1, 'messages_included']\n",
    "        overspend_mb = mb - tariffs.loc[1, 'mb_per_month_included']\n",
    "        \n",
    "        if overspend_minutes < 0:\n",
    "            overspend_minutes = 0\n",
    "        if overspend_messages < 0:\n",
    "            overspend_messages = 0\n",
    "        if overspend_mb < 0:\n",
    "            overspend_mb = 0\n",
    "            \n",
    "        return (overspend_minutes * tariffs.loc[1, 'rub_per_minute'] +\n",
    "            overspend_messages * tariffs.loc[1, 'rub_per_message'] + \n",
    "            np.ceil(overspend_mb / 1024) * tariffs.loc[1, 'rub_per_gb'] + \n",
    "             tariffs.loc[1, 'rub_monthly_fee'])\n",
    "data['profits'] = data.apply(profit, axis=1)"
   ]
  },
  {
   "cell_type": "code",
   "execution_count": 35,
   "metadata": {},
   "outputs": [
    {
     "data": {
      "text/html": [
       "<div>\n",
       "<style scoped>\n",
       "    .dataframe tbody tr th:only-of-type {\n",
       "        vertical-align: middle;\n",
       "    }\n",
       "\n",
       "    .dataframe tbody tr th {\n",
       "        vertical-align: top;\n",
       "    }\n",
       "\n",
       "    .dataframe thead th {\n",
       "        text-align: right;\n",
       "    }\n",
       "</style>\n",
       "<table border=\"1\" class=\"dataframe\">\n",
       "  <thead>\n",
       "    <tr style=\"text-align: right;\">\n",
       "      <th></th>\n",
       "      <th>user_id</th>\n",
       "      <th>month</th>\n",
       "      <th>minutes</th>\n",
       "      <th>calls</th>\n",
       "      <th>messages</th>\n",
       "      <th>mb_used</th>\n",
       "      <th>tariff</th>\n",
       "      <th>profits</th>\n",
       "    </tr>\n",
       "  </thead>\n",
       "  <tbody>\n",
       "    <tr>\n",
       "      <th>0</th>\n",
       "      <td>1000</td>\n",
       "      <td>5</td>\n",
       "      <td>159</td>\n",
       "      <td>22</td>\n",
       "      <td>22</td>\n",
       "      <td>2253.49</td>\n",
       "      <td>ultra</td>\n",
       "      <td>1950.0</td>\n",
       "    </tr>\n",
       "    <tr>\n",
       "      <th>1</th>\n",
       "      <td>1000</td>\n",
       "      <td>6</td>\n",
       "      <td>172</td>\n",
       "      <td>43</td>\n",
       "      <td>60</td>\n",
       "      <td>23233.77</td>\n",
       "      <td>ultra</td>\n",
       "      <td>1950.0</td>\n",
       "    </tr>\n",
       "    <tr>\n",
       "      <th>2</th>\n",
       "      <td>1000</td>\n",
       "      <td>7</td>\n",
       "      <td>340</td>\n",
       "      <td>47</td>\n",
       "      <td>75</td>\n",
       "      <td>14003.64</td>\n",
       "      <td>ultra</td>\n",
       "      <td>1950.0</td>\n",
       "    </tr>\n",
       "    <tr>\n",
       "      <th>3</th>\n",
       "      <td>1000</td>\n",
       "      <td>8</td>\n",
       "      <td>408</td>\n",
       "      <td>52</td>\n",
       "      <td>81</td>\n",
       "      <td>14055.93</td>\n",
       "      <td>ultra</td>\n",
       "      <td>1950.0</td>\n",
       "    </tr>\n",
       "    <tr>\n",
       "      <th>4</th>\n",
       "      <td>1000</td>\n",
       "      <td>9</td>\n",
       "      <td>466</td>\n",
       "      <td>58</td>\n",
       "      <td>57</td>\n",
       "      <td>14568.91</td>\n",
       "      <td>ultra</td>\n",
       "      <td>1950.0</td>\n",
       "    </tr>\n",
       "    <tr>\n",
       "      <th>...</th>\n",
       "      <td>...</td>\n",
       "      <td>...</td>\n",
       "      <td>...</td>\n",
       "      <td>...</td>\n",
       "      <td>...</td>\n",
       "      <td>...</td>\n",
       "      <td>...</td>\n",
       "      <td>...</td>\n",
       "    </tr>\n",
       "    <tr>\n",
       "      <th>3209</th>\n",
       "      <td>1489</td>\n",
       "      <td>9</td>\n",
       "      <td>0</td>\n",
       "      <td>0</td>\n",
       "      <td>32</td>\n",
       "      <td>17206.30</td>\n",
       "      <td>smart</td>\n",
       "      <td>950.0</td>\n",
       "    </tr>\n",
       "    <tr>\n",
       "      <th>3210</th>\n",
       "      <td>1489</td>\n",
       "      <td>10</td>\n",
       "      <td>0</td>\n",
       "      <td>0</td>\n",
       "      <td>21</td>\n",
       "      <td>19559.44</td>\n",
       "      <td>smart</td>\n",
       "      <td>1550.0</td>\n",
       "    </tr>\n",
       "    <tr>\n",
       "      <th>3211</th>\n",
       "      <td>1489</td>\n",
       "      <td>11</td>\n",
       "      <td>0</td>\n",
       "      <td>0</td>\n",
       "      <td>20</td>\n",
       "      <td>17491.56</td>\n",
       "      <td>smart</td>\n",
       "      <td>1150.0</td>\n",
       "    </tr>\n",
       "    <tr>\n",
       "      <th>3212</th>\n",
       "      <td>1489</td>\n",
       "      <td>12</td>\n",
       "      <td>0</td>\n",
       "      <td>0</td>\n",
       "      <td>35</td>\n",
       "      <td>17322.51</td>\n",
       "      <td>smart</td>\n",
       "      <td>950.0</td>\n",
       "    </tr>\n",
       "    <tr>\n",
       "      <th>3213</th>\n",
       "      <td>1476</td>\n",
       "      <td>4</td>\n",
       "      <td>0</td>\n",
       "      <td>0</td>\n",
       "      <td>0</td>\n",
       "      <td>530.78</td>\n",
       "      <td>ultra</td>\n",
       "      <td>1950.0</td>\n",
       "    </tr>\n",
       "  </tbody>\n",
       "</table>\n",
       "<p>3214 rows × 8 columns</p>\n",
       "</div>"
      ],
      "text/plain": [
       "      user_id  month  minutes  calls  messages   mb_used tariff  profits\n",
       "0        1000      5      159     22        22   2253.49  ultra   1950.0\n",
       "1        1000      6      172     43        60  23233.77  ultra   1950.0\n",
       "2        1000      7      340     47        75  14003.64  ultra   1950.0\n",
       "3        1000      8      408     52        81  14055.93  ultra   1950.0\n",
       "4        1000      9      466     58        57  14568.91  ultra   1950.0\n",
       "...       ...    ...      ...    ...       ...       ...    ...      ...\n",
       "3209     1489      9        0      0        32  17206.30  smart    950.0\n",
       "3210     1489     10        0      0        21  19559.44  smart   1550.0\n",
       "3211     1489     11        0      0        20  17491.56  smart   1150.0\n",
       "3212     1489     12        0      0        35  17322.51  smart    950.0\n",
       "3213     1476      4        0      0         0    530.78  ultra   1950.0\n",
       "\n",
       "[3214 rows x 8 columns]"
      ]
     },
     "execution_count": 35,
     "metadata": {},
     "output_type": "execute_result"
    }
   ],
   "source": [
    "data"
   ]
  },
  {
   "cell_type": "markdown",
   "metadata": {},
   "source": [
    "## Анализ данных"
   ]
  },
  {
   "cell_type": "markdown",
   "metadata": {},
   "source": [
    "Добавлю колонку с процентным превышением по оплате тарифа."
   ]
  },
  {
   "cell_type": "code",
   "execution_count": 36,
   "metadata": {},
   "outputs": [],
   "source": [
    "def excess(row):\n",
    "    profits = row['profits']\n",
    "    tariff = row['tariff']\n",
    "    \n",
    "    if tariff == 'smart':\n",
    "        return (profits/tariffs.loc[0, 'rub_monthly_fee'] * 100 - 100)\n",
    "          \n",
    "    else:\n",
    "            \n",
    "        return (profits/tariffs.loc[1, 'rub_monthly_fee'] * 100 - 100)\n",
    "    \n",
    "data['percentage_excess'] = data.apply(excess, axis=1)"
   ]
  },
  {
   "cell_type": "markdown",
   "metadata": {},
   "source": [
    "Посчитаем среднее количество, дисперсию, стандартное отклонение."
   ]
  },
  {
   "cell_type": "code",
   "execution_count": 37,
   "metadata": {},
   "outputs": [
    {
     "data": {
      "text/html": [
       "<div>\n",
       "<style scoped>\n",
       "    .dataframe tbody tr th:only-of-type {\n",
       "        vertical-align: middle;\n",
       "    }\n",
       "\n",
       "    .dataframe tbody tr th {\n",
       "        vertical-align: top;\n",
       "    }\n",
       "\n",
       "    .dataframe thead tr th {\n",
       "        text-align: left;\n",
       "    }\n",
       "\n",
       "    .dataframe thead tr:last-of-type th {\n",
       "        text-align: right;\n",
       "    }\n",
       "</style>\n",
       "<table border=\"1\" class=\"dataframe\">\n",
       "  <thead>\n",
       "    <tr>\n",
       "      <th></th>\n",
       "      <th colspan=\"5\" halign=\"left\">mean</th>\n",
       "      <th colspan=\"5\" halign=\"left\">var</th>\n",
       "      <th colspan=\"5\" halign=\"left\">std</th>\n",
       "    </tr>\n",
       "    <tr>\n",
       "      <th></th>\n",
       "      <th>mb_used</th>\n",
       "      <th>messages</th>\n",
       "      <th>minutes</th>\n",
       "      <th>percentage_excess</th>\n",
       "      <th>profits</th>\n",
       "      <th>mb_used</th>\n",
       "      <th>messages</th>\n",
       "      <th>minutes</th>\n",
       "      <th>percentage_excess</th>\n",
       "      <th>profits</th>\n",
       "      <th>mb_used</th>\n",
       "      <th>messages</th>\n",
       "      <th>minutes</th>\n",
       "      <th>percentage_excess</th>\n",
       "      <th>profits</th>\n",
       "    </tr>\n",
       "    <tr>\n",
       "      <th>tariff</th>\n",
       "      <th></th>\n",
       "      <th></th>\n",
       "      <th></th>\n",
       "      <th></th>\n",
       "      <th></th>\n",
       "      <th></th>\n",
       "      <th></th>\n",
       "      <th></th>\n",
       "      <th></th>\n",
       "      <th></th>\n",
       "      <th></th>\n",
       "      <th></th>\n",
       "      <th></th>\n",
       "      <th></th>\n",
       "      <th></th>\n",
       "    </tr>\n",
       "  </thead>\n",
       "  <tbody>\n",
       "    <tr>\n",
       "      <th>smart</th>\n",
       "      <td>16215</td>\n",
       "      <td>33</td>\n",
       "      <td>417</td>\n",
       "      <td>134</td>\n",
       "      <td>1290</td>\n",
       "      <td>34359951</td>\n",
       "      <td>796</td>\n",
       "      <td>36219</td>\n",
       "      <td>22143</td>\n",
       "      <td>669840</td>\n",
       "      <td>5861</td>\n",
       "      <td>28</td>\n",
       "      <td>190</td>\n",
       "      <td>148</td>\n",
       "      <td>818</td>\n",
       "    </tr>\n",
       "    <tr>\n",
       "      <th>ultra</th>\n",
       "      <td>19668</td>\n",
       "      <td>49</td>\n",
       "      <td>526</td>\n",
       "      <td>6</td>\n",
       "      <td>2071</td>\n",
       "      <td>98864248</td>\n",
       "      <td>2285</td>\n",
       "      <td>100873</td>\n",
       "      <td>375</td>\n",
       "      <td>142819</td>\n",
       "      <td>9943</td>\n",
       "      <td>47</td>\n",
       "      <td>317</td>\n",
       "      <td>19</td>\n",
       "      <td>377</td>\n",
       "    </tr>\n",
       "  </tbody>\n",
       "</table>\n",
       "</div>"
      ],
      "text/plain": [
       "          mean                                                  var           \\\n",
       "       mb_used messages minutes percentage_excess profits   mb_used messages   \n",
       "tariff                                                                         \n",
       "smart    16215       33     417               134    1290  34359951      796   \n",
       "ultra    19668       49     526                 6    2071  98864248     2285   \n",
       "\n",
       "                                             std                   \\\n",
       "       minutes percentage_excess profits mb_used messages minutes   \n",
       "tariff                                                              \n",
       "smart    36219             22143  669840    5861       28     190   \n",
       "ultra   100873               375  142819    9943       47     317   \n",
       "\n",
       "                                  \n",
       "       percentage_excess profits  \n",
       "tariff                            \n",
       "smart                148     818  \n",
       "ultra                 19     377  "
      ]
     },
     "execution_count": 37,
     "metadata": {},
     "output_type": "execute_result"
    }
   ],
   "source": [
    "var_std = (data.pivot_table(index = 'tariff', values = ['minutes',\n",
    "                                                        'messages',\n",
    "                                                        'mb_used','profits', 'percentage_excess'], aggfunc = [np.mean, np.var, np.std])).astype('int')\n",
    "var_std"
   ]
  },
  {
   "cell_type": "markdown",
   "metadata": {},
   "source": [
    "Построю гистограммы:"
   ]
  },
  {
   "cell_type": "code",
   "execution_count": 38,
   "metadata": {},
   "outputs": [
    {
     "data": {
      "image/png": "[encoded data removed]",
      "text/plain": [
       "<Figure size 720x360 with 1 Axes>"
      ]
     },
     "metadata": {
      "needs_background": "light"
     },
     "output_type": "display_data"
    },
    {
     "data": {
      "image/png": "[encoded data removed]",
      "text/plain": [
       "<Figure size 720x360 with 1 Axes>"
      ]
     },
     "metadata": {
      "needs_background": "light"
     },
     "output_type": "display_data"
    },
    {
     "data": {
      "image/png": "[encoded data removed]",
      "text/plain": [
       "<Figure size 720x360 with 1 Axes>"
      ]
     },
     "metadata": {
      "needs_background": "light"
     },
     "output_type": "display_data"
    },
    {
     "data": {
      "image/png": "[encoded data removed]",
      "text/plain": [
       "<Figure size 720x360 with 1 Axes>"
      ]
     },
     "metadata": {
      "needs_background": "light"
     },
     "output_type": "display_data"
    }
   ],
   "source": [
    "for column in ['minutes','messages','mb_used', 'profits']:\n",
    "    data.loc[data.loc[:,'tariff'] == 'smart'][column].plot(\n",
    "                                                                            kind = 'hist',\n",
    "                                                                            bins = 30,\n",
    "                                                                            color = 'pink',\n",
    "                                                                            label = 'smart', figsize = (10,5)\n",
    "                                                                           )\n",
    "    data.loc[data.loc[:,'tariff'] == \"ultra\"][column].plot(\n",
    "                                                                            kind = 'hist',\n",
    "                                                                            bins = 30,\n",
    "                                                                            color = 'purple',\n",
    "                                                                            alpha = 0.5,\n",
    "                                                                            label = 'ultra',figsize = (10,5)\n",
    "                                                                           )\n",
    "    plt.title(f\"Гистограмма по {column}\")\n",
    "    plt.xlabel(f\"Кол-во {column}\")\n",
    "    plt.ylabel('Количество пользователей')\n",
    "    plt.legend()\n",
    "    plt.show()"
   ]
  },
  {
   "cell_type": "markdown",
   "metadata": {},
   "source": [
    "### Вывод: \n",
    "Судя по полученной сводной таблице и гистограммам пользователи тарифа ultra общаются больше и больше тратят смс и гб интернета, но они и платят больше почти в 4 раза. \n",
    "\n",
    "Дисперсия для тарифа Smart в колонке с полученной выручкой намного больше, как и стандартное отклонение. Такие показатели свидельствуют о том, что пользователям Smart'а не хватает включенных в пакет минут, гб и тд и они обращаются к доп. пакетам чаще. "
   ]
  },
  {
   "cell_type": "markdown",
   "metadata": {},
   "source": [
    "## Проверка гипотез"
   ]
  },
  {
   "cell_type": "markdown",
   "metadata": {},
   "source": [
    "### Cредняя выручка пользователей тарифов «Ультра» и «Смарт» различаются"
   ]
  },
  {
   "cell_type": "markdown",
   "metadata": {},
   "source": [
    "* H0 — Средняя выручка пользователей тарифов \"Ультра\" и \"Смарт\" равны.\n",
    "\n",
    "* H1 — Средняя выручка пользователей тарифов \"Ультра\" и \"Смарт\" различаются.\n",
    "\n",
    "Критический уровень статистической значимости зададим 5%. "
   ]
  },
  {
   "cell_type": "code",
   "execution_count": 39,
   "metadata": {},
   "outputs": [
    {
     "name": "stdout",
     "output_type": "stream",
     "text": [
      "p-значение: 2.1384749020954829e-159\n",
      "Отвергаем нулевую гипотезу\n"
     ]
    }
   ],
   "source": [
    "smart = data.query(\"tariff == 'smart'\")\n",
    "ultra = data.query(\"tariff == 'ultra'\")\n",
    "results = st.ttest_ind(\n",
    "    smart['profits'], \n",
    "    ultra['profits'],  nan_policy='omit')\n",
    "alpha = 0.05  \n",
    "print('p-значение:', results.pvalue)\n",
    "\n",
    "if (results.pvalue < alpha):\n",
    "    print(\"Отвергаем нулевую гипотезу\")\n",
    "else:\n",
    "    print(\"Не получилось отвергнуть нулевую гипотезу\")"
   ]
  },
  {
   "cell_type": "markdown",
   "metadata": {},
   "source": [
    "<a class=\"anchor\" id=\"21-bullet\">"
   ]
  },
  {
   "cell_type": "code",
   "execution_count": 40,
   "metadata": {},
   "outputs": [
    {
     "data": {
      "text/plain": [
       "Ttest_indResult(statistic=-28.497932061121013, pvalue=2.1384749020954829e-159)"
      ]
     },
     "execution_count": 40,
     "metadata": {},
     "output_type": "execute_result"
    }
   ],
   "source": [
    "st.ttest_ind(\n",
    "    smart['profits'], \n",
    "    ultra['profits'], nan_policy='omit')"
   ]
  },
  {
   "cell_type": "markdown",
   "metadata": {},
   "source": [
    "**Вывод:**\n",
    "\n",
    "\n",
    "Отвергая нулевую гипотезу, мы подтверждаем первую. Средняя выручка двух тарифов действительно отличается. \n"
   ]
  },
  {
   "cell_type": "markdown",
   "metadata": {},
   "source": [
    "###  Средняя выручка пользователей из Москвы отличается от выручки пользователей из других регионов."
   ]
  },
  {
   "cell_type": "markdown",
   "metadata": {},
   "source": [
    "* H0 — средняя выручка пользователей из Москвы равна средней выручке пользователей из других регионов.\n",
    "\n",
    "* H1 — средняя выручка пользователей из Москвы отличается от средней выручки пользователей из других регионов.\n",
    "\n",
    "Критический уровень статистической значимости 5%."
   ]
  },
  {
   "cell_type": "code",
   "execution_count": 41,
   "metadata": {},
   "outputs": [
    {
     "data": {
      "text/html": [
       "<div>\n",
       "<style scoped>\n",
       "    .dataframe tbody tr th:only-of-type {\n",
       "        vertical-align: middle;\n",
       "    }\n",
       "\n",
       "    .dataframe tbody tr th {\n",
       "        vertical-align: top;\n",
       "    }\n",
       "\n",
       "    .dataframe thead th {\n",
       "        text-align: right;\n",
       "    }\n",
       "</style>\n",
       "<table border=\"1\" class=\"dataframe\">\n",
       "  <thead>\n",
       "    <tr style=\"text-align: right;\">\n",
       "      <th></th>\n",
       "      <th>user_id</th>\n",
       "      <th>month</th>\n",
       "      <th>minutes</th>\n",
       "      <th>calls</th>\n",
       "      <th>messages</th>\n",
       "      <th>mb_used</th>\n",
       "      <th>tariff</th>\n",
       "      <th>profits</th>\n",
       "      <th>percentage_excess</th>\n",
       "      <th>city</th>\n",
       "    </tr>\n",
       "  </thead>\n",
       "  <tbody>\n",
       "    <tr>\n",
       "      <th>0</th>\n",
       "      <td>1000</td>\n",
       "      <td>5</td>\n",
       "      <td>159</td>\n",
       "      <td>22</td>\n",
       "      <td>22</td>\n",
       "      <td>2253.49</td>\n",
       "      <td>ultra</td>\n",
       "      <td>1950.0</td>\n",
       "      <td>0.000000</td>\n",
       "      <td>Краснодар</td>\n",
       "    </tr>\n",
       "    <tr>\n",
       "      <th>1</th>\n",
       "      <td>1000</td>\n",
       "      <td>6</td>\n",
       "      <td>172</td>\n",
       "      <td>43</td>\n",
       "      <td>60</td>\n",
       "      <td>23233.77</td>\n",
       "      <td>ultra</td>\n",
       "      <td>1950.0</td>\n",
       "      <td>0.000000</td>\n",
       "      <td>Краснодар</td>\n",
       "    </tr>\n",
       "    <tr>\n",
       "      <th>2</th>\n",
       "      <td>1000</td>\n",
       "      <td>7</td>\n",
       "      <td>340</td>\n",
       "      <td>47</td>\n",
       "      <td>75</td>\n",
       "      <td>14003.64</td>\n",
       "      <td>ultra</td>\n",
       "      <td>1950.0</td>\n",
       "      <td>0.000000</td>\n",
       "      <td>Краснодар</td>\n",
       "    </tr>\n",
       "    <tr>\n",
       "      <th>3</th>\n",
       "      <td>1000</td>\n",
       "      <td>8</td>\n",
       "      <td>408</td>\n",
       "      <td>52</td>\n",
       "      <td>81</td>\n",
       "      <td>14055.93</td>\n",
       "      <td>ultra</td>\n",
       "      <td>1950.0</td>\n",
       "      <td>0.000000</td>\n",
       "      <td>Краснодар</td>\n",
       "    </tr>\n",
       "    <tr>\n",
       "      <th>4</th>\n",
       "      <td>1000</td>\n",
       "      <td>9</td>\n",
       "      <td>466</td>\n",
       "      <td>58</td>\n",
       "      <td>57</td>\n",
       "      <td>14568.91</td>\n",
       "      <td>ultra</td>\n",
       "      <td>1950.0</td>\n",
       "      <td>0.000000</td>\n",
       "      <td>Краснодар</td>\n",
       "    </tr>\n",
       "    <tr>\n",
       "      <th>...</th>\n",
       "      <td>...</td>\n",
       "      <td>...</td>\n",
       "      <td>...</td>\n",
       "      <td>...</td>\n",
       "      <td>...</td>\n",
       "      <td>...</td>\n",
       "      <td>...</td>\n",
       "      <td>...</td>\n",
       "      <td>...</td>\n",
       "      <td>...</td>\n",
       "    </tr>\n",
       "    <tr>\n",
       "      <th>3209</th>\n",
       "      <td>1489</td>\n",
       "      <td>8</td>\n",
       "      <td>0</td>\n",
       "      <td>0</td>\n",
       "      <td>17</td>\n",
       "      <td>11050.56</td>\n",
       "      <td>smart</td>\n",
       "      <td>550.0</td>\n",
       "      <td>0.000000</td>\n",
       "      <td>Санкт-Петербург</td>\n",
       "    </tr>\n",
       "    <tr>\n",
       "      <th>3210</th>\n",
       "      <td>1489</td>\n",
       "      <td>9</td>\n",
       "      <td>0</td>\n",
       "      <td>0</td>\n",
       "      <td>32</td>\n",
       "      <td>17206.30</td>\n",
       "      <td>smart</td>\n",
       "      <td>950.0</td>\n",
       "      <td>72.727273</td>\n",
       "      <td>Санкт-Петербург</td>\n",
       "    </tr>\n",
       "    <tr>\n",
       "      <th>3211</th>\n",
       "      <td>1489</td>\n",
       "      <td>10</td>\n",
       "      <td>0</td>\n",
       "      <td>0</td>\n",
       "      <td>21</td>\n",
       "      <td>19559.44</td>\n",
       "      <td>smart</td>\n",
       "      <td>1550.0</td>\n",
       "      <td>181.818182</td>\n",
       "      <td>Санкт-Петербург</td>\n",
       "    </tr>\n",
       "    <tr>\n",
       "      <th>3212</th>\n",
       "      <td>1489</td>\n",
       "      <td>11</td>\n",
       "      <td>0</td>\n",
       "      <td>0</td>\n",
       "      <td>20</td>\n",
       "      <td>17491.56</td>\n",
       "      <td>smart</td>\n",
       "      <td>1150.0</td>\n",
       "      <td>109.090909</td>\n",
       "      <td>Санкт-Петербург</td>\n",
       "    </tr>\n",
       "    <tr>\n",
       "      <th>3213</th>\n",
       "      <td>1489</td>\n",
       "      <td>12</td>\n",
       "      <td>0</td>\n",
       "      <td>0</td>\n",
       "      <td>35</td>\n",
       "      <td>17322.51</td>\n",
       "      <td>smart</td>\n",
       "      <td>950.0</td>\n",
       "      <td>72.727273</td>\n",
       "      <td>Санкт-Петербург</td>\n",
       "    </tr>\n",
       "  </tbody>\n",
       "</table>\n",
       "<p>3214 rows × 10 columns</p>\n",
       "</div>"
      ],
      "text/plain": [
       "      user_id  month  minutes  calls  messages   mb_used tariff  profits  \\\n",
       "0        1000      5      159     22        22   2253.49  ultra   1950.0   \n",
       "1        1000      6      172     43        60  23233.77  ultra   1950.0   \n",
       "2        1000      7      340     47        75  14003.64  ultra   1950.0   \n",
       "3        1000      8      408     52        81  14055.93  ultra   1950.0   \n",
       "4        1000      9      466     58        57  14568.91  ultra   1950.0   \n",
       "...       ...    ...      ...    ...       ...       ...    ...      ...   \n",
       "3209     1489      8        0      0        17  11050.56  smart    550.0   \n",
       "3210     1489      9        0      0        32  17206.30  smart    950.0   \n",
       "3211     1489     10        0      0        21  19559.44  smart   1550.0   \n",
       "3212     1489     11        0      0        20  17491.56  smart   1150.0   \n",
       "3213     1489     12        0      0        35  17322.51  smart    950.0   \n",
       "\n",
       "      percentage_excess             city  \n",
       "0              0.000000        Краснодар  \n",
       "1              0.000000        Краснодар  \n",
       "2              0.000000        Краснодар  \n",
       "3              0.000000        Краснодар  \n",
       "4              0.000000        Краснодар  \n",
       "...                 ...              ...  \n",
       "3209           0.000000  Санкт-Петербург  \n",
       "3210          72.727273  Санкт-Петербург  \n",
       "3211         181.818182  Санкт-Петербург  \n",
       "3212         109.090909  Санкт-Петербург  \n",
       "3213          72.727273  Санкт-Петербург  \n",
       "\n",
       "[3214 rows x 10 columns]"
      ]
     },
     "execution_count": 41,
     "metadata": {},
     "output_type": "execute_result"
    }
   ],
   "source": [
    "data = data.merge(users [['user_id', 'city']], on='user_id', how='inner')\n",
    "data"
   ]
  },
  {
   "cell_type": "code",
   "execution_count": 42,
   "metadata": {},
   "outputs": [],
   "source": [
    "moscow = data.query('city == \"Москва\"')['profits']\n",
    "regions = data.query('city != \"Москва\"')['profits']"
   ]
  },
  {
   "cell_type": "code",
   "execution_count": 43,
   "metadata": {},
   "outputs": [
    {
     "name": "stdout",
     "output_type": "stream",
     "text": [
      "p-значение: 0.5215001521770526\n",
      "Не получилось отвергнуть нулевую гипотезу\n"
     ]
    }
   ],
   "source": [
    "alpha = 0.05 \n",
    "results = st.ttest_ind(moscow, regions,  nan_policy='omit')\n",
    "\n",
    "print('p-значение:', results.pvalue)\n",
    "\n",
    "if (results.pvalue < alpha):\n",
    "    print(\"Отвергаем нулевую гипотезу\")\n",
    "else:\n",
    "    print(\"Не получилось отвергнуть нулевую гипотезу\")"
   ]
  },
  {
   "cell_type": "markdown",
   "metadata": {},
   "source": [
    "**Вывод:**\n",
    "\n",
    "Нулевую гипотезу отвергнуть не получилось, следовательно пользователи живущие в Москве тратят на связь примерно столько же, сколько и пользователи регионов. "
   ]
  },
  {
   "cell_type": "markdown",
   "metadata": {},
   "source": [
    "## Какой тариф выгоднее?"
   ]
  },
  {
   "cell_type": "markdown",
   "metadata": {},
   "source": [
    "Посчитаем сумму полученной выручки за весь период."
   ]
  },
  {
   "cell_type": "code",
   "execution_count": 44,
   "metadata": {},
   "outputs": [
    {
     "data": {
      "text/plain": [
       "smart    351\n",
       "ultra    149\n",
       "Name: tariff, dtype: int64"
      ]
     },
     "execution_count": 44,
     "metadata": {},
     "output_type": "execute_result"
    }
   ],
   "source": [
    "users['tariff'].value_counts()"
   ]
  },
  {
   "cell_type": "code",
   "execution_count": 45,
   "metadata": {},
   "outputs": [
    {
     "data": {
      "text/plain": [
       "2874801.0"
      ]
     },
     "execution_count": 45,
     "metadata": {},
     "output_type": "execute_result"
    }
   ],
   "source": [
    "smart = data.query('tariff == \"smart\"')['profits']\n",
    "smart.sum()"
   ]
  },
  {
   "cell_type": "code",
   "execution_count": 46,
   "metadata": {},
   "outputs": [
    {
     "data": {
      "text/plain": [
       "2019600.0"
      ]
     },
     "execution_count": 46,
     "metadata": {},
     "output_type": "execute_result"
    }
   ],
   "source": [
    "ultra = data.query('tariff == \"ultra\"')['profits']\n",
    "ultra.sum()"
   ]
  },
  {
   "cell_type": "markdown",
   "metadata": {},
   "source": [
    "## Общий вывод:"
   ]
  },
  {
   "cell_type": "markdown",
   "metadata": {},
   "source": [
    "* По результатам анализа выручка от тарифа «Ультра» больше, чем от тарифа «Смарт». Пользователи \"Смарт\" тратят примерно 1300 рублей, а пользователи \"Ультра\" чуть больше своей абонентской платы - 2000 рублей.\n",
    "\n",
    "\n",
    "* Доплат по тарифу «Ультра» очень мало. В тарифе «Смарт» часто доплачивают за дополнительные пакеты.\n",
    "\n",
    "\n",
    "* Средние доходы от пользователей в Москве не отличаются от доходов в других населенных пунктах. \n",
    "\n",
    "\n",
    "* Тариф Ультра приносит оператору бОльшую выручку с 1 клиента. Но в целом бОльшую прибыль приносит тариф Смарт, но и самих клиентов Смарта больше 2 раза. "
   ]
  }
 ],
 "metadata": {
  "ExecuteTimeLog": [
   {
    "duration": 189,
    "start_time": "2022-01-25T08:56:43.828Z"
   },
   {
    "duration": 1670,
    "start_time": "2022-01-25T09:01:39.119Z"
   },
   {
    "duration": 1055,
    "start_time": "2022-01-25T09:28:13.173Z"
   },
   {
    "duration": 914,
    "start_time": "2022-01-25T09:28:33.551Z"
   },
   {
    "duration": 401,
    "start_time": "2022-01-25T09:29:22.628Z"
   },
   {
    "duration": 1521,
    "start_time": "2022-01-25T09:29:32.854Z"
   },
   {
    "duration": 413,
    "start_time": "2022-01-25T13:50:37.943Z"
   },
   {
    "duration": 1597,
    "start_time": "2022-01-25T13:50:42.515Z"
   },
   {
    "duration": 636,
    "start_time": "2022-01-25T13:50:45.501Z"
   },
   {
    "duration": 34,
    "start_time": "2022-01-25T13:50:47.783Z"
   },
   {
    "duration": 114,
    "start_time": "2022-01-25T13:51:08.644Z"
   },
   {
    "duration": 30,
    "start_time": "2022-01-25T13:53:26.320Z"
   },
   {
    "duration": 12,
    "start_time": "2022-01-25T13:53:29.430Z"
   },
   {
    "duration": 31,
    "start_time": "2022-01-25T13:54:07.867Z"
   },
   {
    "duration": 40,
    "start_time": "2022-01-25T13:54:11.880Z"
   },
   {
    "duration": 19,
    "start_time": "2022-01-25T13:58:52.678Z"
   },
   {
    "duration": 22,
    "start_time": "2022-01-25T13:59:06.321Z"
   },
   {
    "duration": 18,
    "start_time": "2022-01-25T13:59:27.399Z"
   },
   {
    "duration": 25,
    "start_time": "2022-01-25T13:59:48.925Z"
   },
   {
    "duration": 1865,
    "start_time": "2022-01-25T14:00:25.316Z"
   },
   {
    "duration": 13,
    "start_time": "2022-01-25T14:01:26.479Z"
   },
   {
    "duration": 8,
    "start_time": "2022-01-25T14:01:57.319Z"
   },
   {
    "duration": 51,
    "start_time": "2022-01-25T14:31:41.524Z"
   },
   {
    "duration": 13,
    "start_time": "2022-01-25T14:32:07.352Z"
   },
   {
    "duration": 19,
    "start_time": "2022-01-25T14:32:42.374Z"
   },
   {
    "duration": 18,
    "start_time": "2022-01-25T14:35:13.356Z"
   },
   {
    "duration": 11,
    "start_time": "2022-01-25T14:35:15.516Z"
   },
   {
    "duration": 17,
    "start_time": "2022-01-25T14:35:44.977Z"
   },
   {
    "duration": 12,
    "start_time": "2022-01-25T14:35:52.226Z"
   },
   {
    "duration": 370,
    "start_time": "2022-01-25T14:38:57.621Z"
   },
   {
    "duration": 17,
    "start_time": "2022-01-25T14:40:45.444Z"
   },
   {
    "duration": 14,
    "start_time": "2022-01-25T14:40:49.033Z"
   },
   {
    "duration": 365,
    "start_time": "2022-01-25T14:40:57.013Z"
   },
   {
    "duration": 5,
    "start_time": "2022-01-25T14:41:17.832Z"
   },
   {
    "duration": 366,
    "start_time": "2022-01-25T14:41:34.504Z"
   },
   {
    "duration": 335,
    "start_time": "2022-01-25T14:51:12.191Z"
   },
   {
    "duration": 729,
    "start_time": "2022-01-25T14:54:08.172Z"
   },
   {
    "duration": 328,
    "start_time": "2022-01-25T14:56:37.071Z"
   },
   {
    "duration": 12,
    "start_time": "2022-01-25T14:56:43.192Z"
   },
   {
    "duration": 12,
    "start_time": "2022-01-25T14:56:46.434Z"
   },
   {
    "duration": 12,
    "start_time": "2022-01-25T15:02:55.098Z"
   },
   {
    "duration": 12,
    "start_time": "2022-01-25T15:02:57.732Z"
   },
   {
    "duration": 10,
    "start_time": "2022-01-25T15:03:20.663Z"
   },
   {
    "duration": 12,
    "start_time": "2022-01-25T15:03:22.265Z"
   },
   {
    "duration": 4,
    "start_time": "2022-01-25T15:03:40.692Z"
   },
   {
    "duration": 585,
    "start_time": "2022-01-25T15:03:40.699Z"
   },
   {
    "duration": 17,
    "start_time": "2022-01-25T15:03:41.287Z"
   },
   {
    "duration": 27,
    "start_time": "2022-01-25T15:03:41.307Z"
   },
   {
    "duration": 24,
    "start_time": "2022-01-25T15:03:41.336Z"
   },
   {
    "duration": 7,
    "start_time": "2022-01-25T15:03:41.363Z"
   },
   {
    "duration": 14,
    "start_time": "2022-01-25T15:03:41.373Z"
   },
   {
    "duration": 18,
    "start_time": "2022-01-25T15:03:41.391Z"
   },
   {
    "duration": 57,
    "start_time": "2022-01-25T15:03:41.412Z"
   },
   {
    "duration": 28,
    "start_time": "2022-01-25T15:03:41.472Z"
   },
   {
    "duration": 11,
    "start_time": "2022-01-25T15:03:41.503Z"
   },
   {
    "duration": 46,
    "start_time": "2022-01-25T15:03:41.516Z"
   },
   {
    "duration": 42,
    "start_time": "2022-01-25T15:03:41.565Z"
   },
   {
    "duration": 12,
    "start_time": "2022-01-25T15:03:41.609Z"
   },
   {
    "duration": 48,
    "start_time": "2022-01-25T15:03:41.623Z"
   },
   {
    "duration": 11,
    "start_time": "2022-01-25T15:03:53.792Z"
   },
   {
    "duration": 12,
    "start_time": "2022-01-25T15:03:55.879Z"
   },
   {
    "duration": 41,
    "start_time": "2022-01-25T15:08:32.852Z"
   },
   {
    "duration": 14,
    "start_time": "2022-01-25T15:08:34.392Z"
   },
   {
    "duration": 42,
    "start_time": "2022-01-25T15:09:17.651Z"
   },
   {
    "duration": 18,
    "start_time": "2022-01-25T15:09:18.908Z"
   },
   {
    "duration": 24,
    "start_time": "2022-01-25T15:11:42.412Z"
   },
   {
    "duration": 8,
    "start_time": "2022-01-25T15:22:38.963Z"
   },
   {
    "duration": 16,
    "start_time": "2022-01-25T15:26:35.539Z"
   },
   {
    "duration": 9783,
    "start_time": "2022-01-25T15:30:10.041Z"
   },
   {
    "duration": 14,
    "start_time": "2022-01-25T15:30:26.781Z"
   },
   {
    "duration": 18,
    "start_time": "2022-01-25T15:30:30.261Z"
   },
   {
    "duration": 9,
    "start_time": "2022-01-25T15:30:55.060Z"
   },
   {
    "duration": 17,
    "start_time": "2022-01-25T15:30:56.743Z"
   },
   {
    "duration": 11,
    "start_time": "2022-01-25T15:34:24.573Z"
   },
   {
    "duration": 16,
    "start_time": "2022-01-25T15:34:28.214Z"
   },
   {
    "duration": 10,
    "start_time": "2022-01-25T15:35:56.800Z"
   },
   {
    "duration": 40,
    "start_time": "2022-01-25T15:38:44.358Z"
   },
   {
    "duration": 11,
    "start_time": "2022-01-25T15:38:47.650Z"
   },
   {
    "duration": 27,
    "start_time": "2022-01-25T15:39:51.042Z"
   },
   {
    "duration": 12,
    "start_time": "2022-01-25T15:39:52.555Z"
   },
   {
    "duration": 13,
    "start_time": "2022-01-25T15:40:40.082Z"
   },
   {
    "duration": 31,
    "start_time": "2022-01-25T15:45:26.486Z"
   },
   {
    "duration": 32,
    "start_time": "2022-01-25T15:47:50.980Z"
   },
   {
    "duration": 13,
    "start_time": "2022-01-25T15:47:52.681Z"
   },
   {
    "duration": 277,
    "start_time": "2022-01-26T12:40:21.801Z"
   },
   {
    "duration": 1077,
    "start_time": "2022-01-26T12:40:27.282Z"
   },
   {
    "duration": 367,
    "start_time": "2022-01-26T12:40:28.361Z"
   },
   {
    "duration": 16,
    "start_time": "2022-01-26T12:40:28.730Z"
   },
   {
    "duration": 19,
    "start_time": "2022-01-26T12:40:28.748Z"
   },
   {
    "duration": 9,
    "start_time": "2022-01-26T12:40:28.769Z"
   },
   {
    "duration": 6,
    "start_time": "2022-01-26T12:40:28.780Z"
   },
   {
    "duration": 10,
    "start_time": "2022-01-26T12:40:28.787Z"
   },
   {
    "duration": 14,
    "start_time": "2022-01-26T12:40:28.813Z"
   },
   {
    "duration": 11,
    "start_time": "2022-01-26T12:40:28.830Z"
   },
   {
    "duration": 15,
    "start_time": "2022-01-26T12:40:28.843Z"
   },
   {
    "duration": 7,
    "start_time": "2022-01-26T12:40:28.860Z"
   },
   {
    "duration": 6,
    "start_time": "2022-01-26T12:40:28.868Z"
   },
   {
    "duration": 87,
    "start_time": "2022-01-26T12:40:28.875Z"
   },
   {
    "duration": 9,
    "start_time": "2022-01-26T12:40:28.964Z"
   },
   {
    "duration": 19,
    "start_time": "2022-01-26T12:40:28.974Z"
   },
   {
    "duration": 35,
    "start_time": "2022-01-26T12:40:29.012Z"
   },
   {
    "duration": 8,
    "start_time": "2022-01-26T12:40:29.049Z"
   },
   {
    "duration": 9,
    "start_time": "2022-01-26T12:40:29.058Z"
   },
   {
    "duration": 51,
    "start_time": "2022-01-26T12:40:29.068Z"
   },
   {
    "duration": 7,
    "start_time": "2022-01-26T12:40:29.121Z"
   },
   {
    "duration": 39,
    "start_time": "2022-01-26T12:40:29.129Z"
   },
   {
    "duration": 9,
    "start_time": "2022-01-26T12:40:29.169Z"
   },
   {
    "duration": 33,
    "start_time": "2022-01-26T12:45:24.131Z"
   },
   {
    "duration": 40,
    "start_time": "2022-01-26T12:47:41.162Z"
   },
   {
    "duration": 41,
    "start_time": "2022-01-26T12:48:07.551Z"
   },
   {
    "duration": 53,
    "start_time": "2022-01-26T12:48:49.102Z"
   },
   {
    "duration": 308,
    "start_time": "2022-01-26T12:51:29.689Z"
   },
   {
    "duration": 43,
    "start_time": "2022-01-26T12:51:40.621Z"
   },
   {
    "duration": 52,
    "start_time": "2022-01-26T12:52:13.021Z"
   },
   {
    "duration": 22,
    "start_time": "2022-01-26T13:09:38.263Z"
   },
   {
    "duration": 27,
    "start_time": "2022-01-26T13:09:58.017Z"
   },
   {
    "duration": 30,
    "start_time": "2022-01-26T13:11:54.921Z"
   },
   {
    "duration": 27,
    "start_time": "2022-01-26T13:17:22.872Z"
   },
   {
    "duration": 7,
    "start_time": "2022-01-26T14:26:04.424Z"
   },
   {
    "duration": 416,
    "start_time": "2022-01-26T14:28:32.965Z"
   },
   {
    "duration": 8,
    "start_time": "2022-01-26T14:28:46.980Z"
   },
   {
    "duration": 275,
    "start_time": "2022-01-26T14:31:32.573Z"
   },
   {
    "duration": 278,
    "start_time": "2022-01-26T14:32:12.073Z"
   },
   {
    "duration": 38,
    "start_time": "2022-01-26T14:33:51.066Z"
   },
   {
    "duration": 17,
    "start_time": "2022-01-26T14:34:05.117Z"
   },
   {
    "duration": 74,
    "start_time": "2022-01-26T14:36:44.526Z"
   },
   {
    "duration": 18,
    "start_time": "2022-01-26T14:36:46.374Z"
   },
   {
    "duration": 34,
    "start_time": "2022-01-26T14:37:47.105Z"
   },
   {
    "duration": 17,
    "start_time": "2022-01-26T14:37:49.445Z"
   },
   {
    "duration": 17,
    "start_time": "2022-01-26T14:39:16.834Z"
   },
   {
    "duration": 19,
    "start_time": "2022-01-26T14:39:17.864Z"
   },
   {
    "duration": 16,
    "start_time": "2022-01-26T14:40:13.772Z"
   },
   {
    "duration": 20,
    "start_time": "2022-01-26T14:40:14.356Z"
   },
   {
    "duration": 244,
    "start_time": "2022-01-26T14:50:51.314Z"
   },
   {
    "duration": 18,
    "start_time": "2022-01-26T14:50:52.134Z"
   },
   {
    "duration": 294,
    "start_time": "2022-01-26T14:51:14.424Z"
   },
   {
    "duration": 18,
    "start_time": "2022-01-26T14:51:16.766Z"
   },
   {
    "duration": 257,
    "start_time": "2022-01-26T14:52:21.849Z"
   },
   {
    "duration": 26,
    "start_time": "2022-01-26T14:52:31.754Z"
   },
   {
    "duration": 12,
    "start_time": "2022-01-26T14:52:33.913Z"
   },
   {
    "duration": 16,
    "start_time": "2022-01-26T14:54:08.055Z"
   },
   {
    "duration": 12,
    "start_time": "2022-01-26T14:54:09.770Z"
   },
   {
    "duration": 16,
    "start_time": "2022-01-26T14:54:16.734Z"
   },
   {
    "duration": 12,
    "start_time": "2022-01-26T14:54:18.193Z"
   },
   {
    "duration": 18,
    "start_time": "2022-01-26T14:56:52.392Z"
   },
   {
    "duration": 15,
    "start_time": "2022-01-26T14:56:53.851Z"
   },
   {
    "duration": 2,
    "start_time": "2022-01-26T14:57:10.170Z"
   },
   {
    "duration": 377,
    "start_time": "2022-01-26T14:57:10.174Z"
   },
   {
    "duration": 11,
    "start_time": "2022-01-26T14:57:10.553Z"
   },
   {
    "duration": 23,
    "start_time": "2022-01-26T14:57:10.566Z"
   },
   {
    "duration": 9,
    "start_time": "2022-01-26T14:57:10.590Z"
   },
   {
    "duration": 6,
    "start_time": "2022-01-26T14:57:10.601Z"
   },
   {
    "duration": 9,
    "start_time": "2022-01-26T14:57:10.609Z"
   },
   {
    "duration": 14,
    "start_time": "2022-01-26T14:57:10.620Z"
   },
   {
    "duration": 11,
    "start_time": "2022-01-26T14:57:10.635Z"
   },
   {
    "duration": 16,
    "start_time": "2022-01-26T14:57:10.647Z"
   },
   {
    "duration": 7,
    "start_time": "2022-01-26T14:57:10.664Z"
   },
   {
    "duration": 6,
    "start_time": "2022-01-26T14:57:10.673Z"
   },
   {
    "duration": 47,
    "start_time": "2022-01-26T14:57:10.712Z"
   },
   {
    "duration": 7,
    "start_time": "2022-01-26T14:57:10.761Z"
   },
   {
    "duration": 18,
    "start_time": "2022-01-26T14:57:10.769Z"
   },
   {
    "duration": 60,
    "start_time": "2022-01-26T14:57:10.788Z"
   },
   {
    "duration": 8,
    "start_time": "2022-01-26T14:57:10.850Z"
   },
   {
    "duration": 9,
    "start_time": "2022-01-26T14:57:10.860Z"
   },
   {
    "duration": 48,
    "start_time": "2022-01-26T14:57:10.872Z"
   },
   {
    "duration": 7,
    "start_time": "2022-01-26T14:57:10.922Z"
   },
   {
    "duration": 30,
    "start_time": "2022-01-26T14:57:10.931Z"
   },
   {
    "duration": 60,
    "start_time": "2022-01-26T14:57:10.962Z"
   },
   {
    "duration": 7,
    "start_time": "2022-01-26T14:57:11.024Z"
   },
   {
    "duration": 27,
    "start_time": "2022-01-26T14:57:11.033Z"
   },
   {
    "duration": 16,
    "start_time": "2022-01-26T14:57:11.061Z"
   },
   {
    "duration": 35,
    "start_time": "2022-01-26T14:57:11.078Z"
   },
   {
    "duration": 20,
    "start_time": "2022-01-26T15:02:38.279Z"
   },
   {
    "duration": 12,
    "start_time": "2022-01-26T15:02:39.298Z"
   },
   {
    "duration": 20,
    "start_time": "2022-01-26T15:02:54.671Z"
   },
   {
    "duration": 13,
    "start_time": "2022-01-26T15:02:58.355Z"
   },
   {
    "duration": 16,
    "start_time": "2022-01-26T15:05:16.375Z"
   },
   {
    "duration": 16,
    "start_time": "2022-01-26T15:05:17.255Z"
   },
   {
    "duration": 20,
    "start_time": "2022-01-26T15:06:12.904Z"
   },
   {
    "duration": 14,
    "start_time": "2022-01-26T15:06:16.983Z"
   },
   {
    "duration": 18,
    "start_time": "2022-01-26T15:06:38.323Z"
   },
   {
    "duration": 11,
    "start_time": "2022-01-26T15:06:39.635Z"
   },
   {
    "duration": 19,
    "start_time": "2022-01-26T15:07:36.258Z"
   },
   {
    "duration": 10,
    "start_time": "2022-01-26T15:07:37.916Z"
   },
   {
    "duration": 22,
    "start_time": "2022-01-26T15:08:13.763Z"
   },
   {
    "duration": 12,
    "start_time": "2022-01-26T15:08:14.563Z"
   },
   {
    "duration": 253,
    "start_time": "2022-01-26T15:11:18.056Z"
   },
   {
    "duration": 13,
    "start_time": "2022-01-26T15:11:25.855Z"
   },
   {
    "duration": 6,
    "start_time": "2022-01-26T15:13:27.275Z"
   },
   {
    "duration": 4,
    "start_time": "2022-01-26T15:21:52.023Z"
   },
   {
    "duration": 12,
    "start_time": "2022-01-26T15:22:14.415Z"
   },
   {
    "duration": 6,
    "start_time": "2022-01-26T15:24:55.348Z"
   },
   {
    "duration": 7,
    "start_time": "2022-01-26T15:28:52.058Z"
   },
   {
    "duration": 8,
    "start_time": "2022-01-26T20:26:21.640Z"
   },
   {
    "duration": 1160,
    "start_time": "2022-01-26T20:27:51.397Z"
   },
   {
    "duration": 387,
    "start_time": "2022-01-26T20:27:52.559Z"
   },
   {
    "duration": 18,
    "start_time": "2022-01-26T20:27:52.948Z"
   },
   {
    "duration": 21,
    "start_time": "2022-01-26T20:27:52.968Z"
   },
   {
    "duration": 9,
    "start_time": "2022-01-26T20:27:52.990Z"
   },
   {
    "duration": 6,
    "start_time": "2022-01-26T20:27:53.001Z"
   },
   {
    "duration": 10,
    "start_time": "2022-01-26T20:27:53.009Z"
   },
   {
    "duration": 14,
    "start_time": "2022-01-26T20:27:53.020Z"
   },
   {
    "duration": 12,
    "start_time": "2022-01-26T20:27:53.037Z"
   },
   {
    "duration": 16,
    "start_time": "2022-01-26T20:27:53.051Z"
   },
   {
    "duration": 7,
    "start_time": "2022-01-26T20:27:53.069Z"
   },
   {
    "duration": 36,
    "start_time": "2022-01-26T20:27:53.077Z"
   },
   {
    "duration": 53,
    "start_time": "2022-01-26T20:27:53.114Z"
   },
   {
    "duration": 7,
    "start_time": "2022-01-26T20:27:53.169Z"
   },
   {
    "duration": 40,
    "start_time": "2022-01-26T20:27:53.178Z"
   },
   {
    "duration": 56,
    "start_time": "2022-01-26T20:27:53.219Z"
   },
   {
    "duration": 9,
    "start_time": "2022-01-26T20:27:53.276Z"
   },
   {
    "duration": 29,
    "start_time": "2022-01-26T20:27:53.287Z"
   },
   {
    "duration": 30,
    "start_time": "2022-01-26T20:27:53.317Z"
   },
   {
    "duration": 8,
    "start_time": "2022-01-26T20:27:53.348Z"
   },
   {
    "duration": 33,
    "start_time": "2022-01-26T20:27:53.357Z"
   },
   {
    "duration": 53,
    "start_time": "2022-01-26T20:27:53.392Z"
   },
   {
    "duration": 8,
    "start_time": "2022-01-26T20:27:53.447Z"
   },
   {
    "duration": 28,
    "start_time": "2022-01-26T20:27:53.456Z"
   },
   {
    "duration": 39,
    "start_time": "2022-01-26T20:27:53.485Z"
   },
   {
    "duration": 12,
    "start_time": "2022-01-26T20:27:53.526Z"
   },
   {
    "duration": 5,
    "start_time": "2022-01-26T20:27:53.541Z"
   },
   {
    "duration": 6,
    "start_time": "2022-01-26T20:27:53.548Z"
   },
   {
    "duration": 6,
    "start_time": "2022-01-26T20:27:53.555Z"
   },
   {
    "duration": 564,
    "start_time": "2022-01-26T20:27:53.563Z"
   },
   {
    "duration": 467,
    "start_time": "2022-01-26T20:28:21.957Z"
   },
   {
    "duration": 7,
    "start_time": "2022-01-26T20:28:34.325Z"
   },
   {
    "duration": 429,
    "start_time": "2022-01-26T20:28:38.436Z"
   },
   {
    "duration": 8,
    "start_time": "2022-01-26T20:31:37.951Z"
   },
   {
    "duration": 463,
    "start_time": "2022-01-26T20:31:39.297Z"
   },
   {
    "duration": 7,
    "start_time": "2022-01-26T20:34:09.689Z"
   },
   {
    "duration": 460,
    "start_time": "2022-01-26T20:34:10.796Z"
   },
   {
    "duration": 78,
    "start_time": "2022-01-26T20:35:54.648Z"
   },
   {
    "duration": 473,
    "start_time": "2022-01-26T20:35:56.016Z"
   },
   {
    "duration": 77,
    "start_time": "2022-01-26T20:36:22.881Z"
   },
   {
    "duration": 4,
    "start_time": "2022-01-26T20:36:45.396Z"
   },
   {
    "duration": 380,
    "start_time": "2022-01-26T20:36:45.404Z"
   },
   {
    "duration": 12,
    "start_time": "2022-01-26T20:36:45.786Z"
   },
   {
    "duration": 21,
    "start_time": "2022-01-26T20:36:45.800Z"
   },
   {
    "duration": 10,
    "start_time": "2022-01-26T20:36:45.823Z"
   },
   {
    "duration": 8,
    "start_time": "2022-01-26T20:36:45.834Z"
   },
   {
    "duration": 10,
    "start_time": "2022-01-26T20:36:45.843Z"
   },
   {
    "duration": 13,
    "start_time": "2022-01-26T20:36:45.855Z"
   },
   {
    "duration": 11,
    "start_time": "2022-01-26T20:36:45.871Z"
   },
   {
    "duration": 42,
    "start_time": "2022-01-26T20:36:45.884Z"
   },
   {
    "duration": 7,
    "start_time": "2022-01-26T20:36:45.927Z"
   },
   {
    "duration": 8,
    "start_time": "2022-01-26T20:36:45.936Z"
   },
   {
    "duration": 50,
    "start_time": "2022-01-26T20:36:45.945Z"
   },
   {
    "duration": 9,
    "start_time": "2022-01-26T20:36:46.012Z"
   },
   {
    "duration": 20,
    "start_time": "2022-01-26T20:36:46.023Z"
   },
   {
    "duration": 43,
    "start_time": "2022-01-26T20:36:46.045Z"
   },
   {
    "duration": 29,
    "start_time": "2022-01-26T20:36:46.090Z"
   },
   {
    "duration": 8,
    "start_time": "2022-01-26T20:36:46.121Z"
   },
   {
    "duration": 30,
    "start_time": "2022-01-26T20:36:46.131Z"
   },
   {
    "duration": 8,
    "start_time": "2022-01-26T20:36:46.162Z"
   },
   {
    "duration": 56,
    "start_time": "2022-01-26T20:36:46.171Z"
   },
   {
    "duration": 37,
    "start_time": "2022-01-26T20:36:46.229Z"
   },
   {
    "duration": 9,
    "start_time": "2022-01-26T20:36:46.267Z"
   },
   {
    "duration": 55,
    "start_time": "2022-01-26T20:36:46.279Z"
   },
   {
    "duration": 20,
    "start_time": "2022-01-26T20:36:46.335Z"
   },
   {
    "duration": 12,
    "start_time": "2022-01-26T20:36:46.357Z"
   },
   {
    "duration": 6,
    "start_time": "2022-01-26T20:36:46.371Z"
   },
   {
    "duration": 33,
    "start_time": "2022-01-26T20:36:46.379Z"
   },
   {
    "duration": 110,
    "start_time": "2022-01-26T20:36:46.414Z"
   },
   {
    "duration": 124,
    "start_time": "2022-01-26T20:36:46.401Z"
   },
   {
    "duration": 75,
    "start_time": "2022-01-26T20:38:00.497Z"
   },
   {
    "duration": 451,
    "start_time": "2022-01-26T20:38:17.753Z"
   },
   {
    "duration": 6,
    "start_time": "2022-01-26T20:39:29.257Z"
   },
   {
    "duration": 265,
    "start_time": "2022-01-26T20:39:30.235Z"
   },
   {
    "duration": 6,
    "start_time": "2022-01-26T20:39:47.758Z"
   },
   {
    "duration": 267,
    "start_time": "2022-01-26T20:39:48.776Z"
   },
   {
    "duration": 1490,
    "start_time": "2022-01-28T10:44:27.726Z"
   },
   {
    "duration": 523,
    "start_time": "2022-01-28T10:44:29.219Z"
   },
   {
    "duration": 29,
    "start_time": "2022-01-28T10:44:29.745Z"
   },
   {
    "duration": 28,
    "start_time": "2022-01-28T10:44:29.777Z"
   },
   {
    "duration": 27,
    "start_time": "2022-01-28T10:44:29.808Z"
   },
   {
    "duration": 9,
    "start_time": "2022-01-28T10:44:29.837Z"
   },
   {
    "duration": 16,
    "start_time": "2022-01-28T10:44:29.848Z"
   },
   {
    "duration": 57,
    "start_time": "2022-01-28T10:44:29.867Z"
   },
   {
    "duration": 17,
    "start_time": "2022-01-28T10:44:29.928Z"
   },
   {
    "duration": 24,
    "start_time": "2022-01-28T10:44:29.948Z"
   },
   {
    "duration": 12,
    "start_time": "2022-01-28T10:44:29.975Z"
   },
   {
    "duration": 44,
    "start_time": "2022-01-28T10:44:29.989Z"
   },
   {
    "duration": 104,
    "start_time": "2022-01-28T10:44:30.037Z"
   },
   {
    "duration": 13,
    "start_time": "2022-01-28T10:44:30.143Z"
   },
   {
    "duration": 47,
    "start_time": "2022-01-28T10:44:30.159Z"
   },
   {
    "duration": 125,
    "start_time": "2022-01-28T10:44:30.224Z"
   },
   {
    "duration": 25,
    "start_time": "2022-01-28T10:44:30.352Z"
   },
   {
    "duration": 38,
    "start_time": "2022-01-28T10:44:30.380Z"
   },
   {
    "duration": 71,
    "start_time": "2022-01-28T10:44:30.421Z"
   },
   {
    "duration": 16,
    "start_time": "2022-01-28T10:44:30.495Z"
   },
   {
    "duration": 60,
    "start_time": "2022-01-28T10:44:30.514Z"
   },
   {
    "duration": 74,
    "start_time": "2022-01-28T10:44:30.576Z"
   },
   {
    "duration": 14,
    "start_time": "2022-01-28T10:44:30.653Z"
   },
   {
    "duration": 64,
    "start_time": "2022-01-28T10:44:30.670Z"
   },
   {
    "duration": 34,
    "start_time": "2022-01-28T10:44:30.736Z"
   },
   {
    "duration": 27,
    "start_time": "2022-01-28T10:44:30.774Z"
   },
   {
    "duration": 11,
    "start_time": "2022-01-28T10:44:30.828Z"
   },
   {
    "duration": 22,
    "start_time": "2022-01-28T10:44:30.843Z"
   },
   {
    "duration": 547,
    "start_time": "2022-01-28T10:44:30.868Z"
   },
   {
    "duration": 25,
    "start_time": "2022-01-28T10:44:31.417Z"
   },
   {
    "duration": 532,
    "start_time": "2022-01-28T10:53:35.285Z"
   },
   {
    "duration": 21,
    "start_time": "2022-01-28T10:54:16.082Z"
   },
   {
    "duration": 31,
    "start_time": "2022-01-28T10:54:26.773Z"
   },
   {
    "duration": 34,
    "start_time": "2022-01-28T10:55:53.426Z"
   },
   {
    "duration": 46,
    "start_time": "2022-01-28T10:59:28.514Z"
   },
   {
    "duration": 353,
    "start_time": "2022-01-28T11:18:01.513Z"
   },
   {
    "duration": 269,
    "start_time": "2022-01-28T11:18:09.633Z"
   },
   {
    "duration": 393,
    "start_time": "2022-01-28T11:21:57.093Z"
   },
   {
    "duration": 568,
    "start_time": "2022-01-28T11:24:50.053Z"
   },
   {
    "duration": 402,
    "start_time": "2022-01-28T11:28:34.461Z"
   },
   {
    "duration": 361,
    "start_time": "2022-01-28T11:29:00.809Z"
   },
   {
    "duration": 466,
    "start_time": "2022-01-28T11:32:15.673Z"
   },
   {
    "duration": 4,
    "start_time": "2022-01-28T11:32:31.365Z"
   },
   {
    "duration": 395,
    "start_time": "2022-01-28T11:33:34.793Z"
   },
   {
    "duration": 458,
    "start_time": "2022-01-28T11:34:28.253Z"
   },
   {
    "duration": 164,
    "start_time": "2022-01-28T11:54:11.713Z"
   },
   {
    "duration": 116,
    "start_time": "2022-01-28T11:54:20.614Z"
   },
   {
    "duration": 320,
    "start_time": "2022-01-28T11:54:29.586Z"
   },
   {
    "duration": 675,
    "start_time": "2022-01-28T11:54:44.193Z"
   },
   {
    "duration": 916,
    "start_time": "2022-01-28T12:00:29.442Z"
   },
   {
    "duration": 710,
    "start_time": "2022-01-28T12:00:55.074Z"
   },
   {
    "duration": 797,
    "start_time": "2022-01-28T12:01:15.026Z"
   },
   {
    "duration": 701,
    "start_time": "2022-01-28T12:01:56.014Z"
   },
   {
    "duration": 825,
    "start_time": "2022-01-28T12:04:36.763Z"
   },
   {
    "duration": 332,
    "start_time": "2022-01-28T12:07:11.983Z"
   },
   {
    "duration": 777,
    "start_time": "2022-01-28T12:07:57.650Z"
   },
   {
    "duration": 2728,
    "start_time": "2022-01-28T12:09:11.763Z"
   },
   {
    "duration": 808,
    "start_time": "2022-01-28T12:09:14.494Z"
   },
   {
    "duration": 107,
    "start_time": "2022-01-28T12:10:49.723Z"
   },
   {
    "duration": 2203,
    "start_time": "2022-01-28T12:11:38.025Z"
   },
   {
    "duration": 2302,
    "start_time": "2022-01-28T12:12:04.743Z"
   },
   {
    "duration": 120,
    "start_time": "2022-01-28T12:13:24.863Z"
   },
   {
    "duration": 163,
    "start_time": "2022-01-28T12:14:02.903Z"
   },
   {
    "duration": 133,
    "start_time": "2022-01-28T12:14:24.823Z"
   },
   {
    "duration": 3395,
    "start_time": "2022-01-28T12:14:38.003Z"
   },
   {
    "duration": 837,
    "start_time": "2022-01-28T12:26:16.704Z"
   },
   {
    "duration": 2387,
    "start_time": "2022-01-28T12:26:44.318Z"
   },
   {
    "duration": 1694,
    "start_time": "2022-01-28T13:13:49.103Z"
   },
   {
    "duration": 4095,
    "start_time": "2022-01-28T13:14:07.583Z"
   },
   {
    "duration": 2117,
    "start_time": "2022-01-28T13:14:22.042Z"
   },
   {
    "duration": 3287,
    "start_time": "2022-01-28T13:14:33.343Z"
   },
   {
    "duration": 2868,
    "start_time": "2022-01-28T13:14:52.942Z"
   },
   {
    "duration": 2512,
    "start_time": "2022-01-28T13:15:10.843Z"
   },
   {
    "duration": 2911,
    "start_time": "2022-01-28T13:16:07.823Z"
   },
   {
    "duration": 2251,
    "start_time": "2022-01-28T13:17:09.386Z"
   },
   {
    "duration": 1802,
    "start_time": "2022-01-28T13:17:45.003Z"
   },
   {
    "duration": 416,
    "start_time": "2022-01-28T13:20:45.415Z"
   },
   {
    "duration": 382,
    "start_time": "2022-01-28T13:21:09.395Z"
   },
   {
    "duration": 780,
    "start_time": "2022-01-28T13:21:40.991Z"
   },
   {
    "duration": 2508,
    "start_time": "2022-01-28T13:21:59.243Z"
   },
   {
    "duration": 1014,
    "start_time": "2022-01-28T13:23:39.803Z"
   },
   {
    "duration": 2204,
    "start_time": "2022-01-28T13:23:58.270Z"
   },
   {
    "duration": 899,
    "start_time": "2022-01-28T13:24:16.444Z"
   },
   {
    "duration": 1972,
    "start_time": "2022-01-28T13:24:26.003Z"
   },
   {
    "duration": 1909,
    "start_time": "2022-01-28T13:24:39.790Z"
   },
   {
    "duration": 161,
    "start_time": "2022-01-28T13:27:54.363Z"
   },
   {
    "duration": 1763,
    "start_time": "2022-01-28T13:28:04.050Z"
   },
   {
    "duration": 738,
    "start_time": "2022-01-28T13:29:41.602Z"
   },
   {
    "duration": 1826,
    "start_time": "2022-01-28T13:30:00.083Z"
   },
   {
    "duration": 2458,
    "start_time": "2022-01-28T13:30:33.743Z"
   },
   {
    "duration": 1799,
    "start_time": "2022-01-28T13:32:58.731Z"
   },
   {
    "duration": 42,
    "start_time": "2022-01-28T13:37:51.301Z"
   },
   {
    "duration": 1701,
    "start_time": "2022-01-28T13:38:45.871Z"
   },
   {
    "duration": 68,
    "start_time": "2022-01-28T13:39:47.069Z"
   },
   {
    "duration": 374,
    "start_time": "2022-01-28T13:40:44.399Z"
   },
   {
    "duration": 369,
    "start_time": "2022-01-28T13:40:55.969Z"
   },
   {
    "duration": 43,
    "start_time": "2022-01-28T13:41:12.322Z"
   },
   {
    "duration": 56,
    "start_time": "2022-01-28T13:41:26.378Z"
   },
   {
    "duration": 55,
    "start_time": "2022-01-28T13:42:00.582Z"
   },
   {
    "duration": 2680,
    "start_time": "2022-01-28T14:52:20.888Z"
   },
   {
    "duration": 2501,
    "start_time": "2022-01-28T14:52:44.680Z"
   },
   {
    "duration": 341,
    "start_time": "2022-01-28T15:16:17.859Z"
   },
   {
    "duration": 5,
    "start_time": "2022-01-28T15:16:53.319Z"
   },
   {
    "duration": 9533,
    "start_time": "2022-01-28T15:16:58.927Z"
   },
   {
    "duration": 8,
    "start_time": "2022-01-28T15:17:24.458Z"
   },
   {
    "duration": 488,
    "start_time": "2022-01-28T15:25:30.239Z"
   },
   {
    "duration": 13,
    "start_time": "2022-01-28T15:26:04.339Z"
   },
   {
    "duration": 31,
    "start_time": "2022-01-28T15:26:19.188Z"
   },
   {
    "duration": 34,
    "start_time": "2022-01-28T15:26:55.291Z"
   },
   {
    "duration": 35,
    "start_time": "2022-01-28T15:27:10.498Z"
   },
   {
    "duration": 393,
    "start_time": "2022-01-28T15:27:26.688Z"
   },
   {
    "duration": 405,
    "start_time": "2022-01-28T15:27:37.406Z"
   },
   {
    "duration": 32,
    "start_time": "2022-01-28T15:27:54.479Z"
   },
   {
    "duration": 5,
    "start_time": "2022-01-28T15:28:13.112Z"
   },
   {
    "duration": 624,
    "start_time": "2022-01-28T15:28:13.120Z"
   },
   {
    "duration": 22,
    "start_time": "2022-01-28T15:28:13.748Z"
   },
   {
    "duration": 34,
    "start_time": "2022-01-28T15:28:13.774Z"
   },
   {
    "duration": 22,
    "start_time": "2022-01-28T15:28:13.825Z"
   },
   {
    "duration": 13,
    "start_time": "2022-01-28T15:28:13.850Z"
   },
   {
    "duration": 59,
    "start_time": "2022-01-28T15:28:13.867Z"
   },
   {
    "duration": 31,
    "start_time": "2022-01-28T15:28:13.929Z"
   },
   {
    "duration": 20,
    "start_time": "2022-01-28T15:28:13.966Z"
   },
   {
    "duration": 22,
    "start_time": "2022-01-28T15:28:14.025Z"
   },
   {
    "duration": 17,
    "start_time": "2022-01-28T15:28:14.049Z"
   },
   {
    "duration": 11,
    "start_time": "2022-01-28T15:28:14.068Z"
   },
   {
    "duration": 73,
    "start_time": "2022-01-28T15:28:14.124Z"
   },
   {
    "duration": 34,
    "start_time": "2022-01-28T15:28:14.200Z"
   },
   {
    "duration": 41,
    "start_time": "2022-01-28T15:28:14.237Z"
   },
   {
    "duration": 124,
    "start_time": "2022-01-28T15:28:14.282Z"
   },
   {
    "duration": 28,
    "start_time": "2022-01-28T15:28:14.409Z"
   },
   {
    "duration": 18,
    "start_time": "2022-01-28T15:28:14.440Z"
   },
   {
    "duration": 90,
    "start_time": "2022-01-28T15:28:14.461Z"
   },
   {
    "duration": 16,
    "start_time": "2022-01-28T15:28:14.554Z"
   },
   {
    "duration": 76,
    "start_time": "2022-01-28T15:28:14.573Z"
   },
   {
    "duration": 91,
    "start_time": "2022-01-28T15:28:14.652Z"
   },
   {
    "duration": 18,
    "start_time": "2022-01-28T15:28:14.746Z"
   },
   {
    "duration": 75,
    "start_time": "2022-01-28T15:28:14.766Z"
   },
   {
    "duration": 33,
    "start_time": "2022-01-28T15:28:14.843Z"
   },
   {
    "duration": 50,
    "start_time": "2022-01-28T15:28:14.879Z"
   },
   {
    "duration": 12,
    "start_time": "2022-01-28T15:28:14.934Z"
   },
   {
    "duration": 9,
    "start_time": "2022-01-28T15:28:14.949Z"
   },
   {
    "duration": 529,
    "start_time": "2022-01-28T15:28:14.961Z"
   },
   {
    "duration": 34,
    "start_time": "2022-01-28T15:28:15.493Z"
   },
   {
    "duration": 58,
    "start_time": "2022-01-28T15:28:15.529Z"
   },
   {
    "duration": 2310,
    "start_time": "2022-01-28T15:28:15.590Z"
   },
   {
    "duration": 69,
    "start_time": "2022-01-28T15:28:17.903Z"
   },
   {
    "duration": 9,
    "start_time": "2022-01-28T15:28:17.975Z"
   },
   {
    "duration": 65,
    "start_time": "2022-01-28T15:28:17.987Z"
   },
   {
    "duration": 376,
    "start_time": "2022-01-28T15:31:07.517Z"
   },
   {
    "duration": 16,
    "start_time": "2022-01-28T15:31:22.941Z"
   },
   {
    "duration": 9,
    "start_time": "2022-01-28T15:31:53.518Z"
   },
   {
    "duration": 14,
    "start_time": "2022-01-28T15:44:15.783Z"
   },
   {
    "duration": 5,
    "start_time": "2022-01-28T15:44:52.101Z"
   },
   {
    "duration": 8,
    "start_time": "2022-01-28T15:45:33.387Z"
   },
   {
    "duration": 11,
    "start_time": "2022-01-28T15:45:53.846Z"
   },
   {
    "duration": 8,
    "start_time": "2022-01-28T15:46:59.086Z"
   },
   {
    "duration": 7,
    "start_time": "2022-01-28T15:47:14.683Z"
   },
   {
    "duration": 4,
    "start_time": "2022-01-28T15:49:47.851Z"
   },
   {
    "duration": 505,
    "start_time": "2022-01-28T15:49:47.858Z"
   },
   {
    "duration": 26,
    "start_time": "2022-01-28T15:49:48.367Z"
   },
   {
    "duration": 32,
    "start_time": "2022-01-28T15:49:48.396Z"
   },
   {
    "duration": 18,
    "start_time": "2022-01-28T15:49:48.431Z"
   },
   {
    "duration": 11,
    "start_time": "2022-01-28T15:49:48.452Z"
   },
   {
    "duration": 63,
    "start_time": "2022-01-28T15:49:48.466Z"
   },
   {
    "duration": 32,
    "start_time": "2022-01-28T15:49:48.532Z"
   },
   {
    "duration": 19,
    "start_time": "2022-01-28T15:49:48.569Z"
   },
   {
    "duration": 27,
    "start_time": "2022-01-28T15:49:48.637Z"
   },
   {
    "duration": 12,
    "start_time": "2022-01-28T15:49:48.667Z"
   },
   {
    "duration": 41,
    "start_time": "2022-01-28T15:49:48.682Z"
   },
   {
    "duration": 70,
    "start_time": "2022-01-28T15:49:48.727Z"
   },
   {
    "duration": 34,
    "start_time": "2022-01-28T15:49:48.800Z"
   },
   {
    "duration": 28,
    "start_time": "2022-01-28T15:49:48.838Z"
   },
   {
    "duration": 108,
    "start_time": "2022-01-28T15:49:48.869Z"
   },
   {
    "duration": 15,
    "start_time": "2022-01-28T15:49:48.981Z"
   },
   {
    "duration": 41,
    "start_time": "2022-01-28T15:49:48.999Z"
   },
   {
    "duration": 88,
    "start_time": "2022-01-28T15:49:49.043Z"
   },
   {
    "duration": 12,
    "start_time": "2022-01-28T15:49:49.133Z"
   },
   {
    "duration": 77,
    "start_time": "2022-01-28T15:49:49.148Z"
   },
   {
    "duration": 56,
    "start_time": "2022-01-28T15:49:49.228Z"
   },
   {
    "duration": 42,
    "start_time": "2022-01-28T15:49:49.286Z"
   },
   {
    "duration": 38,
    "start_time": "2022-01-28T15:49:49.331Z"
   },
   {
    "duration": 66,
    "start_time": "2022-01-28T15:49:49.372Z"
   },
   {
    "duration": 22,
    "start_time": "2022-01-28T15:49:49.440Z"
   },
   {
    "duration": 9,
    "start_time": "2022-01-28T15:49:49.467Z"
   },
   {
    "duration": 46,
    "start_time": "2022-01-28T15:49:49.479Z"
   },
   {
    "duration": 519,
    "start_time": "2022-01-28T15:49:49.527Z"
   },
   {
    "duration": 21,
    "start_time": "2022-01-28T15:49:50.048Z"
   },
   {
    "duration": 66,
    "start_time": "2022-01-28T15:49:50.071Z"
   },
   {
    "duration": 3475,
    "start_time": "2022-01-28T15:49:50.141Z"
   },
   {
    "duration": 83,
    "start_time": "2022-01-28T15:49:53.622Z"
   },
   {
    "duration": 4791,
    "start_time": "2022-01-28T15:49:53.708Z"
   },
   {
    "duration": -412,
    "start_time": "2022-01-28T15:49:58.914Z"
   },
   {
    "duration": -418,
    "start_time": "2022-01-28T15:49:58.922Z"
   },
   {
    "duration": -422,
    "start_time": "2022-01-28T15:49:58.927Z"
   },
   {
    "duration": 18,
    "start_time": "2022-01-28T15:52:58.083Z"
   },
   {
    "duration": 29,
    "start_time": "2022-01-28T15:53:02.213Z"
   },
   {
    "duration": 11,
    "start_time": "2022-01-28T15:53:02.620Z"
   },
   {
    "duration": 6,
    "start_time": "2022-01-28T15:53:03.504Z"
   },
   {
    "duration": 5,
    "start_time": "2022-01-28T15:57:27.508Z"
   },
   {
    "duration": 504,
    "start_time": "2022-01-28T15:57:27.516Z"
   },
   {
    "duration": 19,
    "start_time": "2022-01-28T15:57:28.023Z"
   },
   {
    "duration": 29,
    "start_time": "2022-01-28T15:57:28.045Z"
   },
   {
    "duration": 51,
    "start_time": "2022-01-28T15:57:28.076Z"
   },
   {
    "duration": 12,
    "start_time": "2022-01-28T15:57:28.129Z"
   },
   {
    "duration": 19,
    "start_time": "2022-01-28T15:57:28.143Z"
   },
   {
    "duration": 61,
    "start_time": "2022-01-28T15:57:28.165Z"
   },
   {
    "duration": 24,
    "start_time": "2022-01-28T15:57:28.233Z"
   },
   {
    "duration": 63,
    "start_time": "2022-01-28T15:57:28.261Z"
   },
   {
    "duration": 13,
    "start_time": "2022-01-28T15:57:28.327Z"
   },
   {
    "duration": 13,
    "start_time": "2022-01-28T15:57:28.343Z"
   },
   {
    "duration": 112,
    "start_time": "2022-01-28T15:57:28.360Z"
   },
   {
    "duration": 12,
    "start_time": "2022-01-28T15:57:28.475Z"
   },
   {
    "duration": 50,
    "start_time": "2022-01-28T15:57:28.490Z"
   },
   {
    "duration": 99,
    "start_time": "2022-01-28T15:57:28.544Z"
   },
   {
    "duration": 14,
    "start_time": "2022-01-28T15:57:28.646Z"
   },
   {
    "duration": 21,
    "start_time": "2022-01-28T15:57:28.663Z"
   },
   {
    "duration": 93,
    "start_time": "2022-01-28T15:57:28.687Z"
   },
   {
    "duration": 15,
    "start_time": "2022-01-28T15:57:28.783Z"
   },
   {
    "duration": 67,
    "start_time": "2022-01-28T15:57:28.800Z"
   },
   {
    "duration": 74,
    "start_time": "2022-01-28T15:57:28.870Z"
   },
   {
    "duration": 12,
    "start_time": "2022-01-28T15:57:28.947Z"
   },
   {
    "duration": 64,
    "start_time": "2022-01-28T15:57:28.962Z"
   },
   {
    "duration": 35,
    "start_time": "2022-01-28T15:57:29.028Z"
   },
   {
    "duration": 20,
    "start_time": "2022-01-28T15:57:29.065Z"
   },
   {
    "duration": 43,
    "start_time": "2022-01-28T15:57:29.089Z"
   },
   {
    "duration": 10,
    "start_time": "2022-01-28T15:57:29.136Z"
   },
   {
    "duration": 521,
    "start_time": "2022-01-28T15:57:29.149Z"
   },
   {
    "duration": 21,
    "start_time": "2022-01-28T15:57:29.672Z"
   },
   {
    "duration": 63,
    "start_time": "2022-01-28T15:57:29.696Z"
   },
   {
    "duration": 2945,
    "start_time": "2022-01-28T15:57:29.761Z"
   },
   {
    "duration": 89,
    "start_time": "2022-01-28T15:57:32.709Z"
   },
   {
    "duration": 35,
    "start_time": "2022-01-28T15:57:32.801Z"
   },
   {
    "duration": 43,
    "start_time": "2022-01-28T15:57:32.840Z"
   },
   {
    "duration": 42,
    "start_time": "2022-01-28T15:57:32.886Z"
   },
   {
    "duration": 12,
    "start_time": "2022-01-28T15:57:32.931Z"
   },
   {
    "duration": 10,
    "start_time": "2022-01-28T15:58:04.108Z"
   },
   {
    "duration": 1089,
    "start_time": "2022-02-06T10:15:53.971Z"
   },
   {
    "duration": 375,
    "start_time": "2022-02-06T10:15:55.061Z"
   },
   {
    "duration": 16,
    "start_time": "2022-02-06T10:15:55.438Z"
   },
   {
    "duration": 19,
    "start_time": "2022-02-06T10:15:55.456Z"
   },
   {
    "duration": 10,
    "start_time": "2022-02-06T10:15:55.476Z"
   },
   {
    "duration": 9,
    "start_time": "2022-02-06T10:15:55.488Z"
   },
   {
    "duration": 11,
    "start_time": "2022-02-06T10:15:55.498Z"
   },
   {
    "duration": 12,
    "start_time": "2022-02-06T10:15:55.512Z"
   },
   {
    "duration": 37,
    "start_time": "2022-02-06T10:15:55.527Z"
   },
   {
    "duration": 15,
    "start_time": "2022-02-06T10:15:55.565Z"
   },
   {
    "duration": 7,
    "start_time": "2022-02-06T10:15:55.582Z"
   },
   {
    "duration": 9,
    "start_time": "2022-02-06T10:15:55.591Z"
   },
   {
    "duration": 75,
    "start_time": "2022-02-06T10:15:55.601Z"
   },
   {
    "duration": 8,
    "start_time": "2022-02-06T10:15:55.677Z"
   },
   {
    "duration": 20,
    "start_time": "2022-02-06T10:15:55.686Z"
   },
   {
    "duration": 70,
    "start_time": "2022-02-06T10:15:55.707Z"
   },
   {
    "duration": 8,
    "start_time": "2022-02-06T10:15:55.779Z"
   },
   {
    "duration": 10,
    "start_time": "2022-02-06T10:15:55.789Z"
   },
   {
    "duration": 30,
    "start_time": "2022-02-06T10:15:55.800Z"
   },
   {
    "duration": 7,
    "start_time": "2022-02-06T10:15:55.831Z"
   },
   {
    "duration": 33,
    "start_time": "2022-02-06T10:15:55.859Z"
   },
   {
    "duration": 33,
    "start_time": "2022-02-06T10:15:55.894Z"
   },
   {
    "duration": 8,
    "start_time": "2022-02-06T10:15:55.930Z"
   },
   {
    "duration": 28,
    "start_time": "2022-02-06T10:15:55.959Z"
   },
   {
    "duration": 19,
    "start_time": "2022-02-06T10:15:55.988Z"
   },
   {
    "duration": 12,
    "start_time": "2022-02-06T10:15:56.009Z"
   },
   {
    "duration": 6,
    "start_time": "2022-02-06T10:15:56.022Z"
   },
   {
    "duration": 36,
    "start_time": "2022-02-06T10:15:56.029Z"
   },
   {
    "duration": 258,
    "start_time": "2022-02-06T10:15:56.067Z"
   },
   {
    "duration": 12,
    "start_time": "2022-02-06T10:15:56.326Z"
   },
   {
    "duration": 36,
    "start_time": "2022-02-06T10:15:56.340Z"
   },
   {
    "duration": 1349,
    "start_time": "2022-02-06T10:15:56.378Z"
   },
   {
    "duration": 42,
    "start_time": "2022-02-06T10:15:57.729Z"
   },
   {
    "duration": 87,
    "start_time": "2022-02-06T10:15:57.772Z"
   },
   {
    "duration": 20,
    "start_time": "2022-02-06T10:15:57.860Z"
   },
   {
    "duration": 7,
    "start_time": "2022-02-06T10:15:57.882Z"
   },
   {
    "duration": 8,
    "start_time": "2022-02-06T10:15:57.890Z"
   },
   {
    "duration": 379,
    "start_time": "2022-02-06T10:21:33.133Z"
   },
   {
    "duration": 13,
    "start_time": "2022-02-06T10:28:40.096Z"
   },
   {
    "duration": 349,
    "start_time": "2022-02-06T10:32:02.902Z"
   },
   {
    "duration": 14,
    "start_time": "2022-02-06T10:39:15.825Z"
   },
   {
    "duration": 362,
    "start_time": "2022-02-07T15:33:19.276Z"
   },
   {
    "duration": 1509,
    "start_time": "2022-02-07T15:33:26.543Z"
   },
   {
    "duration": 529,
    "start_time": "2022-02-07T15:33:28.055Z"
   },
   {
    "duration": 23,
    "start_time": "2022-02-07T15:33:28.587Z"
   },
   {
    "duration": 799,
    "start_time": "2022-02-07T15:33:28.613Z"
   },
   {
    "duration": 53,
    "start_time": "2022-02-07T15:33:29.414Z"
   },
   {
    "duration": 15,
    "start_time": "2022-02-07T15:33:29.469Z"
   },
   {
    "duration": 9,
    "start_time": "2022-02-07T15:33:29.486Z"
   },
   {
    "duration": 13,
    "start_time": "2022-02-07T15:33:29.498Z"
   },
   {
    "duration": 64,
    "start_time": "2022-02-07T15:33:29.516Z"
   },
   {
    "duration": 21,
    "start_time": "2022-02-07T15:33:29.584Z"
   },
   {
    "duration": 61,
    "start_time": "2022-02-07T15:33:29.608Z"
   },
   {
    "duration": 11,
    "start_time": "2022-02-07T15:33:29.672Z"
   },
   {
    "duration": 9,
    "start_time": "2022-02-07T15:33:29.685Z"
   },
   {
    "duration": 116,
    "start_time": "2022-02-07T15:33:29.697Z"
   },
   {
    "duration": 12,
    "start_time": "2022-02-07T15:33:29.816Z"
   },
   {
    "duration": 46,
    "start_time": "2022-02-07T15:33:29.830Z"
   },
   {
    "duration": 100,
    "start_time": "2022-02-07T15:33:29.878Z"
   },
   {
    "duration": 19,
    "start_time": "2022-02-07T15:33:29.980Z"
   },
   {
    "duration": 14,
    "start_time": "2022-02-07T15:33:30.002Z"
   },
   {
    "duration": 74,
    "start_time": "2022-02-07T15:33:30.019Z"
   },
   {
    "duration": 11,
    "start_time": "2022-02-07T15:33:30.095Z"
   },
   {
    "duration": 84,
    "start_time": "2022-02-07T15:33:30.109Z"
   },
   {
    "duration": 64,
    "start_time": "2022-02-07T15:33:30.195Z"
   },
   {
    "duration": 14,
    "start_time": "2022-02-07T15:33:30.261Z"
   },
   {
    "duration": 54,
    "start_time": "2022-02-07T15:33:30.277Z"
   },
   {
    "duration": 53,
    "start_time": "2022-02-07T15:33:30.333Z"
   },
   {
    "duration": 21,
    "start_time": "2022-02-07T15:33:30.391Z"
   },
   {
    "duration": 11,
    "start_time": "2022-02-07T15:33:30.415Z"
   },
   {
    "duration": 10,
    "start_time": "2022-02-07T15:33:30.460Z"
   },
   {
    "duration": 18,
    "start_time": "2022-02-07T15:33:30.472Z"
   },
   {
    "duration": 531,
    "start_time": "2022-02-07T15:33:30.492Z"
   },
   {
    "duration": 40,
    "start_time": "2022-02-07T15:33:31.026Z"
   },
   {
    "duration": 56,
    "start_time": "2022-02-07T15:33:31.069Z"
   },
   {
    "duration": 2688,
    "start_time": "2022-02-07T15:33:31.127Z"
   },
   {
    "duration": 559,
    "start_time": "2022-02-07T15:33:33.817Z"
   },
   {
    "duration": 58,
    "start_time": "2022-02-07T15:33:34.379Z"
   },
   {
    "duration": 15,
    "start_time": "2022-02-07T15:33:34.459Z"
   },
   {
    "duration": 28,
    "start_time": "2022-02-07T15:33:34.477Z"
   },
   {
    "duration": 11,
    "start_time": "2022-02-07T15:33:34.508Z"
   },
   {
    "duration": 7,
    "start_time": "2022-02-07T15:33:34.560Z"
   },
   {
    "duration": 7,
    "start_time": "2022-02-07T15:35:33.131Z"
   },
   {
    "duration": 28,
    "start_time": "2022-02-07T15:35:36.372Z"
   },
   {
    "duration": 123,
    "start_time": "2022-02-07T16:04:54.195Z"
   },
   {
    "duration": 115,
    "start_time": "2022-02-07T16:05:14.360Z"
   },
   {
    "duration": 129,
    "start_time": "2022-02-07T16:05:29.000Z"
   },
   {
    "duration": 659,
    "start_time": "2022-02-07T16:07:20.676Z"
   },
   {
    "duration": 554,
    "start_time": "2022-02-07T16:16:10.121Z"
   },
   {
    "duration": 19,
    "start_time": "2022-02-07T16:16:24.273Z"
   },
   {
    "duration": 551,
    "start_time": "2022-02-07T16:21:02.813Z"
   },
   {
    "duration": 172,
    "start_time": "2022-02-09T09:45:21.827Z"
   },
   {
    "duration": 1157,
    "start_time": "2022-02-09T09:45:24.867Z"
   },
   {
    "duration": 374,
    "start_time": "2022-02-09T09:45:26.026Z"
   },
   {
    "duration": 17,
    "start_time": "2022-02-09T09:45:26.402Z"
   },
   {
    "duration": 286,
    "start_time": "2022-02-09T09:45:26.421Z"
   },
   {
    "duration": 26,
    "start_time": "2022-02-09T09:45:26.709Z"
   },
   {
    "duration": 23,
    "start_time": "2022-02-09T09:45:26.737Z"
   },
   {
    "duration": 13,
    "start_time": "2022-02-09T09:45:26.761Z"
   },
   {
    "duration": 19,
    "start_time": "2022-02-09T09:45:26.777Z"
   },
   {
    "duration": 17,
    "start_time": "2022-02-09T09:45:26.797Z"
   },
   {
    "duration": 13,
    "start_time": "2022-02-09T09:45:26.815Z"
   },
   {
    "duration": 39,
    "start_time": "2022-02-09T09:45:26.830Z"
   },
   {
    "duration": 7,
    "start_time": "2022-02-09T09:45:26.871Z"
   },
   {
    "duration": 8,
    "start_time": "2022-02-09T09:45:26.880Z"
   },
   {
    "duration": 73,
    "start_time": "2022-02-09T09:45:26.889Z"
   },
   {
    "duration": 9,
    "start_time": "2022-02-09T09:45:26.963Z"
   },
   {
    "duration": 24,
    "start_time": "2022-02-09T09:45:26.973Z"
   },
   {
    "duration": 74,
    "start_time": "2022-02-09T09:45:26.998Z"
   },
   {
    "duration": 9,
    "start_time": "2022-02-09T09:45:27.074Z"
   },
   {
    "duration": 27,
    "start_time": "2022-02-09T09:45:27.085Z"
   },
   {
    "duration": 42,
    "start_time": "2022-02-09T09:45:27.114Z"
   },
   {
    "duration": 8,
    "start_time": "2022-02-09T09:45:27.157Z"
   },
   {
    "duration": 41,
    "start_time": "2022-02-09T09:45:27.167Z"
   },
   {
    "duration": 50,
    "start_time": "2022-02-09T09:45:27.211Z"
   },
   {
    "duration": 9,
    "start_time": "2022-02-09T09:45:27.263Z"
   },
   {
    "duration": 48,
    "start_time": "2022-02-09T09:45:27.273Z"
   },
   {
    "duration": 21,
    "start_time": "2022-02-09T09:45:27.323Z"
   },
   {
    "duration": 23,
    "start_time": "2022-02-09T09:45:27.345Z"
   },
   {
    "duration": 22,
    "start_time": "2022-02-09T09:45:27.370Z"
   },
   {
    "duration": 13,
    "start_time": "2022-02-09T09:45:27.394Z"
   },
   {
    "duration": 19,
    "start_time": "2022-02-09T09:45:27.409Z"
   },
   {
    "duration": 300,
    "start_time": "2022-02-09T09:45:27.430Z"
   },
   {
    "duration": 14,
    "start_time": "2022-02-09T09:45:27.731Z"
   },
   {
    "duration": 35,
    "start_time": "2022-02-09T09:45:27.747Z"
   },
   {
    "duration": 1499,
    "start_time": "2022-02-09T09:45:27.783Z"
   },
   {
    "duration": 357,
    "start_time": "2022-02-09T09:45:29.284Z"
   },
   {
    "duration": 44,
    "start_time": "2022-02-09T09:45:29.643Z"
   },
   {
    "duration": 9,
    "start_time": "2022-02-09T09:45:29.688Z"
   },
   {
    "duration": 23,
    "start_time": "2022-02-09T09:45:29.698Z"
   },
   {
    "duration": 7,
    "start_time": "2022-02-09T09:45:29.723Z"
   },
   {
    "duration": 11,
    "start_time": "2022-02-09T09:45:29.731Z"
   },
   {
    "duration": 300,
    "start_time": "2022-02-09T09:46:30.970Z"
   },
   {
    "duration": 1111,
    "start_time": "2022-02-09T11:03:30.106Z"
   },
   {
    "duration": 3,
    "start_time": "2022-02-09T11:03:34.567Z"
   },
   {
    "duration": 390,
    "start_time": "2022-02-09T11:03:34.575Z"
   },
   {
    "duration": 17,
    "start_time": "2022-02-09T11:03:34.966Z"
   },
   {
    "duration": 551,
    "start_time": "2022-02-09T11:03:34.985Z"
   },
   {
    "duration": 33,
    "start_time": "2022-02-09T11:03:35.539Z"
   },
   {
    "duration": 11,
    "start_time": "2022-02-09T11:03:35.573Z"
   },
   {
    "duration": 7,
    "start_time": "2022-02-09T11:03:35.585Z"
   },
   {
    "duration": 9,
    "start_time": "2022-02-09T11:03:35.594Z"
   },
   {
    "duration": 15,
    "start_time": "2022-02-09T11:03:35.606Z"
   },
   {
    "duration": 9,
    "start_time": "2022-02-09T11:03:35.623Z"
   },
   {
    "duration": 17,
    "start_time": "2022-02-09T11:03:35.671Z"
   },
   {
    "duration": 7,
    "start_time": "2022-02-09T11:03:35.690Z"
   },
   {
    "duration": 6,
    "start_time": "2022-02-09T11:03:35.698Z"
   },
   {
    "duration": 66,
    "start_time": "2022-02-09T11:03:35.706Z"
   },
   {
    "duration": 8,
    "start_time": "2022-02-09T11:03:35.773Z"
   },
   {
    "duration": 18,
    "start_time": "2022-02-09T11:03:35.783Z"
   },
   {
    "duration": 72,
    "start_time": "2022-02-09T11:03:35.803Z"
   },
   {
    "duration": 19,
    "start_time": "2022-02-09T11:03:35.877Z"
   },
   {
    "duration": 8,
    "start_time": "2022-02-09T11:03:35.898Z"
   },
   {
    "duration": 29,
    "start_time": "2022-02-09T11:03:35.907Z"
   },
   {
    "duration": 7,
    "start_time": "2022-02-09T11:03:35.937Z"
   },
   {
    "duration": 47,
    "start_time": "2022-02-09T11:03:35.946Z"
   },
   {
    "duration": 34,
    "start_time": "2022-02-09T11:03:35.995Z"
   },
   {
    "duration": 8,
    "start_time": "2022-02-09T11:03:36.033Z"
   },
   {
    "duration": 49,
    "start_time": "2022-02-09T11:03:36.043Z"
   },
   {
    "duration": 19,
    "start_time": "2022-02-09T11:03:36.093Z"
   },
   {
    "duration": 11,
    "start_time": "2022-02-09T11:03:36.113Z"
   },
   {
    "duration": 6,
    "start_time": "2022-02-09T11:03:36.125Z"
   },
   {
    "duration": 6,
    "start_time": "2022-02-09T11:03:36.132Z"
   },
   {
    "duration": 37,
    "start_time": "2022-02-09T11:03:36.139Z"
   },
   {
    "duration": 291,
    "start_time": "2022-02-09T11:03:36.177Z"
   },
   {
    "duration": 12,
    "start_time": "2022-02-09T11:03:36.470Z"
   },
   {
    "duration": 21,
    "start_time": "2022-02-09T11:03:36.484Z"
   },
   {
    "duration": 1300,
    "start_time": "2022-02-09T11:03:36.506Z"
   },
   {
    "duration": 314,
    "start_time": "2022-02-09T11:03:37.807Z"
   },
   {
    "duration": 31,
    "start_time": "2022-02-09T11:03:38.122Z"
   },
   {
    "duration": 20,
    "start_time": "2022-02-09T11:03:38.155Z"
   },
   {
    "duration": 17,
    "start_time": "2022-02-09T11:03:38.177Z"
   },
   {
    "duration": 8,
    "start_time": "2022-02-09T11:03:38.196Z"
   },
   {
    "duration": 6,
    "start_time": "2022-02-09T11:03:38.206Z"
   },
   {
    "duration": 24,
    "start_time": "2022-02-09T11:05:41.253Z"
   },
   {
    "duration": 45,
    "start_time": "2022-02-09T11:26:18.467Z"
   },
   {
    "duration": 6771,
    "start_time": "2022-02-09T11:26:48.602Z"
   },
   {
    "duration": 22,
    "start_time": "2022-02-09T11:27:48.027Z"
   },
   {
    "duration": 22,
    "start_time": "2022-02-09T11:28:26.635Z"
   },
   {
    "duration": 1258,
    "start_time": "2022-02-09T11:29:15.239Z"
   },
   {
    "duration": 38,
    "start_time": "2022-02-09T11:34:21.840Z"
   },
   {
    "duration": 38,
    "start_time": "2022-02-09T11:47:51.023Z"
   },
   {
    "duration": 7273,
    "start_time": "2022-02-09T11:48:44.052Z"
   },
   {
    "duration": 6854,
    "start_time": "2022-02-09T11:51:00.163Z"
   },
   {
    "duration": 9185,
    "start_time": "2022-02-09T11:51:37.086Z"
   },
   {
    "duration": 3,
    "start_time": "2022-02-09T11:53:13.371Z"
   },
   {
    "duration": 355,
    "start_time": "2022-02-09T11:53:13.387Z"
   },
   {
    "duration": 11,
    "start_time": "2022-02-09T11:53:13.744Z"
   },
   {
    "duration": 34,
    "start_time": "2022-02-09T11:53:13.757Z"
   },
   {
    "duration": 19,
    "start_time": "2022-02-09T11:53:13.792Z"
   },
   {
    "duration": 9,
    "start_time": "2022-02-09T11:53:13.812Z"
   },
   {
    "duration": 7,
    "start_time": "2022-02-09T11:53:13.822Z"
   },
   {
    "duration": 9,
    "start_time": "2022-02-09T11:53:13.830Z"
   },
   {
    "duration": 42,
    "start_time": "2022-02-09T11:53:13.841Z"
   },
   {
    "duration": 10,
    "start_time": "2022-02-09T11:53:13.885Z"
   },
   {
    "duration": 15,
    "start_time": "2022-02-09T11:53:13.896Z"
   },
   {
    "duration": 7,
    "start_time": "2022-02-09T11:53:13.913Z"
   },
   {
    "duration": 6,
    "start_time": "2022-02-09T11:53:13.921Z"
   },
   {
    "duration": 71,
    "start_time": "2022-02-09T11:53:13.928Z"
   },
   {
    "duration": 8,
    "start_time": "2022-02-09T11:53:14.000Z"
   },
   {
    "duration": 17,
    "start_time": "2022-02-09T11:53:14.010Z"
   },
   {
    "duration": 62,
    "start_time": "2022-02-09T11:53:14.029Z"
   },
   {
    "duration": 8,
    "start_time": "2022-02-09T11:53:14.093Z"
   },
   {
    "duration": 10,
    "start_time": "2022-02-09T11:53:14.103Z"
   },
   {
    "duration": 29,
    "start_time": "2022-02-09T11:53:14.115Z"
   },
   {
    "duration": 28,
    "start_time": "2022-02-09T11:53:14.145Z"
   },
   {
    "duration": 28,
    "start_time": "2022-02-09T11:53:14.175Z"
   },
   {
    "duration": 33,
    "start_time": "2022-02-09T11:53:14.205Z"
   },
   {
    "duration": 34,
    "start_time": "2022-02-09T11:53:14.242Z"
   },
   {
    "duration": 24,
    "start_time": "2022-02-09T11:53:14.278Z"
   },
   {
    "duration": 20,
    "start_time": "2022-02-09T11:53:14.303Z"
   },
   {
    "duration": 12,
    "start_time": "2022-02-09T11:53:14.324Z"
   },
   {
    "duration": 33,
    "start_time": "2022-02-09T11:53:14.338Z"
   },
   {
    "duration": 6,
    "start_time": "2022-02-09T11:53:14.373Z"
   },
   {
    "duration": 12,
    "start_time": "2022-02-09T11:53:14.380Z"
   },
   {
    "duration": 301,
    "start_time": "2022-02-09T11:53:14.393Z"
   },
   {
    "duration": 15,
    "start_time": "2022-02-09T11:53:14.695Z"
   },
   {
    "duration": 59,
    "start_time": "2022-02-09T11:53:14.712Z"
   },
   {
    "duration": 24,
    "start_time": "2022-02-09T11:53:14.773Z"
   },
   {
    "duration": 7525,
    "start_time": "2022-02-09T11:53:14.798Z"
   },
   {
    "duration": -1499,
    "start_time": "2022-02-09T11:53:23.824Z"
   },
   {
    "duration": -1505,
    "start_time": "2022-02-09T11:53:23.831Z"
   },
   {
    "duration": -1509,
    "start_time": "2022-02-09T11:53:23.836Z"
   },
   {
    "duration": -1513,
    "start_time": "2022-02-09T11:53:23.841Z"
   },
   {
    "duration": -1518,
    "start_time": "2022-02-09T11:53:23.846Z"
   },
   {
    "duration": 1203,
    "start_time": "2022-02-09T12:01:41.663Z"
   },
   {
    "duration": 1574,
    "start_time": "2022-02-09T12:03:00.762Z"
   },
   {
    "duration": 1776,
    "start_time": "2022-02-09T12:03:18.737Z"
   },
   {
    "duration": 1358,
    "start_time": "2022-02-09T12:03:49.893Z"
   },
   {
    "duration": 1330,
    "start_time": "2022-02-09T12:04:07.826Z"
   },
   {
    "duration": 100,
    "start_time": "2022-02-09T12:27:30.076Z"
   },
   {
    "duration": 41,
    "start_time": "2022-02-09T12:27:55.888Z"
   },
   {
    "duration": 109,
    "start_time": "2022-02-09T12:29:14.104Z"
   },
   {
    "duration": 107,
    "start_time": "2022-02-09T12:30:23.744Z"
   },
   {
    "duration": 45,
    "start_time": "2022-02-09T12:30:34.344Z"
   },
   {
    "duration": 11,
    "start_time": "2022-02-09T12:33:32.836Z"
   },
   {
    "duration": 282,
    "start_time": "2022-02-09T12:34:42.024Z"
   },
   {
    "duration": 20,
    "start_time": "2022-02-09T12:34:44.444Z"
   },
   {
    "duration": 10,
    "start_time": "2022-02-09T12:34:46.980Z"
   },
   {
    "duration": 5,
    "start_time": "2022-02-09T12:34:49.756Z"
   },
   {
    "duration": 6,
    "start_time": "2022-02-09T12:44:26.704Z"
   },
   {
    "duration": 7,
    "start_time": "2022-02-09T12:47:39.924Z"
   },
   {
    "duration": 8,
    "start_time": "2022-02-09T12:47:46.783Z"
   },
   {
    "duration": 7,
    "start_time": "2022-02-09T12:48:11.564Z"
   },
   {
    "duration": 7,
    "start_time": "2022-02-09T12:48:57.486Z"
   },
   {
    "duration": 3,
    "start_time": "2022-02-09T13:41:38.551Z"
   },
   {
    "duration": 356,
    "start_time": "2022-02-09T13:41:38.556Z"
   },
   {
    "duration": 12,
    "start_time": "2022-02-09T13:41:38.913Z"
   },
   {
    "duration": 31,
    "start_time": "2022-02-09T13:41:38.927Z"
   },
   {
    "duration": 17,
    "start_time": "2022-02-09T13:41:38.960Z"
   },
   {
    "duration": 8,
    "start_time": "2022-02-09T13:41:38.978Z"
   },
   {
    "duration": 7,
    "start_time": "2022-02-09T13:41:38.988Z"
   },
   {
    "duration": 10,
    "start_time": "2022-02-09T13:41:38.996Z"
   },
   {
    "duration": 12,
    "start_time": "2022-02-09T13:41:39.008Z"
   },
   {
    "duration": 10,
    "start_time": "2022-02-09T13:41:39.022Z"
   },
   {
    "duration": 47,
    "start_time": "2022-02-09T13:41:39.033Z"
   },
   {
    "duration": 7,
    "start_time": "2022-02-09T13:41:39.081Z"
   },
   {
    "duration": 7,
    "start_time": "2022-02-09T13:41:39.090Z"
   },
   {
    "duration": 74,
    "start_time": "2022-02-09T13:41:39.098Z"
   },
   {
    "duration": 10,
    "start_time": "2022-02-09T13:41:39.173Z"
   },
   {
    "duration": 18,
    "start_time": "2022-02-09T13:41:39.184Z"
   },
   {
    "duration": 40,
    "start_time": "2022-02-09T13:41:39.204Z"
   },
   {
    "duration": 33,
    "start_time": "2022-02-09T13:41:39.246Z"
   },
   {
    "duration": 12,
    "start_time": "2022-02-09T13:41:39.281Z"
   },
   {
    "duration": 29,
    "start_time": "2022-02-09T13:41:39.295Z"
   },
   {
    "duration": 8,
    "start_time": "2022-02-09T13:41:39.325Z"
   },
   {
    "duration": 49,
    "start_time": "2022-02-09T13:41:39.335Z"
   },
   {
    "duration": 32,
    "start_time": "2022-02-09T13:41:39.386Z"
   },
   {
    "duration": 8,
    "start_time": "2022-02-09T13:41:39.419Z"
   },
   {
    "duration": 25,
    "start_time": "2022-02-09T13:41:39.428Z"
   },
   {
    "duration": 33,
    "start_time": "2022-02-09T13:41:39.455Z"
   },
   {
    "duration": 11,
    "start_time": "2022-02-09T13:41:39.491Z"
   },
   {
    "duration": 6,
    "start_time": "2022-02-09T13:41:39.503Z"
   },
   {
    "duration": 7,
    "start_time": "2022-02-09T13:41:39.510Z"
   },
   {
    "duration": 13,
    "start_time": "2022-02-09T13:41:39.518Z"
   },
   {
    "duration": 332,
    "start_time": "2022-02-09T13:41:39.533Z"
   },
   {
    "duration": 16,
    "start_time": "2022-02-09T13:41:39.866Z"
   },
   {
    "duration": 104,
    "start_time": "2022-02-09T13:41:39.884Z"
   },
   {
    "duration": 33,
    "start_time": "2022-02-09T13:41:39.990Z"
   },
   {
    "duration": 1295,
    "start_time": "2022-02-09T13:41:40.024Z"
   },
   {
    "duration": 304,
    "start_time": "2022-02-09T13:41:41.321Z"
   },
   {
    "duration": 8,
    "start_time": "2022-02-09T13:41:41.626Z"
   },
   {
    "duration": 40,
    "start_time": "2022-02-09T13:41:41.636Z"
   },
   {
    "duration": 9,
    "start_time": "2022-02-09T13:41:41.677Z"
   },
   {
    "duration": 4,
    "start_time": "2022-02-09T13:41:41.687Z"
   },
   {
    "duration": 6,
    "start_time": "2022-02-09T13:41:41.693Z"
   },
   {
    "duration": 7,
    "start_time": "2022-02-09T13:41:41.701Z"
   },
   {
    "duration": 7,
    "start_time": "2022-02-09T13:41:41.709Z"
   },
   {
    "duration": 1420,
    "start_time": "2022-02-10T05:49:43.223Z"
   },
   {
    "duration": 473,
    "start_time": "2022-02-10T05:49:44.646Z"
   },
   {
    "duration": 22,
    "start_time": "2022-02-10T05:49:45.122Z"
   },
   {
    "duration": 931,
    "start_time": "2022-02-10T05:49:45.146Z"
   },
   {
    "duration": 33,
    "start_time": "2022-02-10T05:49:46.080Z"
   },
   {
    "duration": 31,
    "start_time": "2022-02-10T05:49:46.115Z"
   },
   {
    "duration": 23,
    "start_time": "2022-02-10T05:49:46.148Z"
   },
   {
    "duration": 21,
    "start_time": "2022-02-10T05:49:46.176Z"
   },
   {
    "duration": 43,
    "start_time": "2022-02-10T05:49:46.201Z"
   },
   {
    "duration": 38,
    "start_time": "2022-02-10T05:49:46.247Z"
   },
   {
    "duration": 33,
    "start_time": "2022-02-10T05:49:46.288Z"
   },
   {
    "duration": 15,
    "start_time": "2022-02-10T05:49:46.324Z"
   },
   {
    "duration": 26,
    "start_time": "2022-02-10T05:49:46.341Z"
   },
   {
    "duration": 93,
    "start_time": "2022-02-10T05:49:46.369Z"
   },
   {
    "duration": 12,
    "start_time": "2022-02-10T05:49:46.464Z"
   },
   {
    "duration": 28,
    "start_time": "2022-02-10T05:49:46.478Z"
   },
   {
    "duration": 96,
    "start_time": "2022-02-10T05:49:46.508Z"
   },
   {
    "duration": 28,
    "start_time": "2022-02-10T05:49:46.607Z"
   },
   {
    "duration": 13,
    "start_time": "2022-02-10T05:49:46.637Z"
   },
   {
    "duration": 47,
    "start_time": "2022-02-10T05:49:46.653Z"
   },
   {
    "duration": 31,
    "start_time": "2022-02-10T05:49:46.702Z"
   },
   {
    "duration": 48,
    "start_time": "2022-02-10T05:49:46.735Z"
   },
   {
    "duration": 75,
    "start_time": "2022-02-10T05:49:46.790Z"
   },
   {
    "duration": 15,
    "start_time": "2022-02-10T05:49:46.868Z"
   },
   {
    "duration": 66,
    "start_time": "2022-02-10T05:49:46.886Z"
   },
   {
    "duration": 34,
    "start_time": "2022-02-10T05:49:46.955Z"
   },
   {
    "duration": 46,
    "start_time": "2022-02-10T05:49:46.992Z"
   },
   {
    "duration": 16,
    "start_time": "2022-02-10T05:49:47.041Z"
   },
   {
    "duration": 9,
    "start_time": "2022-02-10T05:49:47.059Z"
   },
   {
    "duration": 23,
    "start_time": "2022-02-10T05:49:47.070Z"
   },
   {
    "duration": 576,
    "start_time": "2022-02-10T05:49:47.095Z"
   },
   {
    "duration": 23,
    "start_time": "2022-02-10T05:49:47.673Z"
   },
   {
    "duration": 198,
    "start_time": "2022-02-10T05:49:47.698Z"
   },
   {
    "duration": 60,
    "start_time": "2022-02-10T05:49:47.898Z"
   },
   {
    "duration": 2223,
    "start_time": "2022-02-10T05:49:47.960Z"
   },
   {
    "duration": 444,
    "start_time": "2022-02-10T05:49:50.186Z"
   },
   {
    "duration": -50,
    "start_time": "2022-02-10T05:49:50.683Z"
   },
   {
    "duration": -61,
    "start_time": "2022-02-10T05:49:50.695Z"
   },
   {
    "duration": -65,
    "start_time": "2022-02-10T05:49:50.701Z"
   },
   {
    "duration": -79,
    "start_time": "2022-02-10T05:49:50.716Z"
   },
   {
    "duration": -87,
    "start_time": "2022-02-10T05:49:50.726Z"
   },
   {
    "duration": -101,
    "start_time": "2022-02-10T05:49:50.741Z"
   },
   {
    "duration": -109,
    "start_time": "2022-02-10T05:49:50.751Z"
   },
   {
    "duration": 5,
    "start_time": "2022-02-10T06:03:17.956Z"
   },
   {
    "duration": 495,
    "start_time": "2022-02-10T06:03:17.965Z"
   },
   {
    "duration": 22,
    "start_time": "2022-02-10T06:03:18.462Z"
   },
   {
    "duration": 59,
    "start_time": "2022-02-10T06:03:18.487Z"
   },
   {
    "duration": 27,
    "start_time": "2022-02-10T06:03:18.548Z"
   },
   {
    "duration": 19,
    "start_time": "2022-02-10T06:03:18.578Z"
   },
   {
    "duration": 39,
    "start_time": "2022-02-10T06:03:18.600Z"
   },
   {
    "duration": 20,
    "start_time": "2022-02-10T06:03:18.641Z"
   },
   {
    "duration": 21,
    "start_time": "2022-02-10T06:03:18.663Z"
   },
   {
    "duration": 55,
    "start_time": "2022-02-10T06:03:18.686Z"
   },
   {
    "duration": 23,
    "start_time": "2022-02-10T06:03:18.743Z"
   },
   {
    "duration": 11,
    "start_time": "2022-02-10T06:03:18.769Z"
   },
   {
    "duration": 8,
    "start_time": "2022-02-10T06:03:18.782Z"
   },
   {
    "duration": 71,
    "start_time": "2022-02-10T06:03:18.833Z"
   },
   {
    "duration": 31,
    "start_time": "2022-02-10T06:03:18.907Z"
   },
   {
    "duration": 49,
    "start_time": "2022-02-10T06:03:18.941Z"
   },
   {
    "duration": 63,
    "start_time": "2022-02-10T06:03:18.993Z"
   },
   {
    "duration": 12,
    "start_time": "2022-02-10T06:03:19.059Z"
   },
   {
    "duration": 20,
    "start_time": "2022-02-10T06:03:19.073Z"
   },
   {
    "duration": 62,
    "start_time": "2022-02-10T06:03:19.095Z"
   },
   {
    "duration": 12,
    "start_time": "2022-02-10T06:03:19.159Z"
   },
   {
    "duration": 60,
    "start_time": "2022-02-10T06:03:19.173Z"
   },
   {
    "duration": 49,
    "start_time": "2022-02-10T06:03:19.236Z"
   },
   {
    "duration": 13,
    "start_time": "2022-02-10T06:03:19.287Z"
   },
   {
    "duration": 64,
    "start_time": "2022-02-10T06:03:19.303Z"
   },
   {
    "duration": 33,
    "start_time": "2022-02-10T06:03:19.376Z"
   },
   {
    "duration": 38,
    "start_time": "2022-02-10T06:03:19.413Z"
   },
   {
    "duration": 15,
    "start_time": "2022-02-10T06:03:19.454Z"
   },
   {
    "duration": 10,
    "start_time": "2022-02-10T06:03:19.472Z"
   },
   {
    "duration": 55,
    "start_time": "2022-02-10T06:03:19.485Z"
   },
   {
    "duration": 569,
    "start_time": "2022-02-10T06:03:19.543Z"
   },
   {
    "duration": 30,
    "start_time": "2022-02-10T06:03:20.114Z"
   },
   {
    "duration": 199,
    "start_time": "2022-02-10T06:03:20.147Z"
   },
   {
    "duration": 54,
    "start_time": "2022-02-10T06:03:20.348Z"
   },
   {
    "duration": 2243,
    "start_time": "2022-02-10T06:03:20.405Z"
   },
   {
    "duration": 14,
    "start_time": "2022-02-10T06:03:22.650Z"
   },
   {
    "duration": 37,
    "start_time": "2022-02-10T06:03:22.666Z"
   },
   {
    "duration": 33,
    "start_time": "2022-02-10T06:03:22.706Z"
   },
   {
    "duration": 8,
    "start_time": "2022-02-10T06:03:22.742Z"
   },
   {
    "duration": 11,
    "start_time": "2022-02-10T06:03:22.752Z"
   },
   {
    "duration": 9,
    "start_time": "2022-02-10T06:03:22.766Z"
   },
   {
    "duration": 9,
    "start_time": "2022-02-10T06:03:22.778Z"
   },
   {
    "duration": 6,
    "start_time": "2022-02-10T06:04:55.050Z"
   },
   {
    "duration": 68,
    "start_time": "2022-02-10T06:04:58.027Z"
   },
   {
    "duration": 4189,
    "start_time": "2022-02-10T06:07:58.380Z"
   },
   {
    "duration": 1521,
    "start_time": "2022-02-10T06:08:16.838Z"
   },
   {
    "duration": 467,
    "start_time": "2022-02-10T06:08:18.361Z"
   },
   {
    "duration": 23,
    "start_time": "2022-02-10T06:08:18.832Z"
   },
   {
    "duration": 805,
    "start_time": "2022-02-10T06:08:18.858Z"
   },
   {
    "duration": 33,
    "start_time": "2022-02-10T06:08:19.666Z"
   },
   {
    "duration": 36,
    "start_time": "2022-02-10T06:08:19.701Z"
   },
   {
    "duration": 13,
    "start_time": "2022-02-10T06:08:19.739Z"
   },
   {
    "duration": 17,
    "start_time": "2022-02-10T06:08:19.755Z"
   },
   {
    "duration": 22,
    "start_time": "2022-02-10T06:08:19.774Z"
   },
   {
    "duration": 46,
    "start_time": "2022-02-10T06:08:19.799Z"
   },
   {
    "duration": 26,
    "start_time": "2022-02-10T06:08:19.848Z"
   },
   {
    "duration": 12,
    "start_time": "2022-02-10T06:08:19.876Z"
   },
   {
    "duration": 43,
    "start_time": "2022-02-10T06:08:19.891Z"
   },
   {
    "duration": 72,
    "start_time": "2022-02-10T06:08:19.936Z"
   },
   {
    "duration": 31,
    "start_time": "2022-02-10T06:08:20.010Z"
   },
   {
    "duration": 30,
    "start_time": "2022-02-10T06:08:20.043Z"
   },
   {
    "duration": 99,
    "start_time": "2022-02-10T06:08:20.076Z"
   },
   {
    "duration": 17,
    "start_time": "2022-02-10T06:08:20.178Z"
   },
   {
    "duration": 34,
    "start_time": "2022-02-10T06:08:20.198Z"
   },
   {
    "duration": 42,
    "start_time": "2022-02-10T06:08:20.235Z"
   },
   {
    "duration": 11,
    "start_time": "2022-02-10T06:08:20.279Z"
   },
   {
    "duration": 76,
    "start_time": "2022-02-10T06:08:20.293Z"
   },
   {
    "duration": 62,
    "start_time": "2022-02-10T06:08:20.374Z"
   },
   {
    "duration": 14,
    "start_time": "2022-02-10T06:08:20.439Z"
   },
   {
    "duration": 45,
    "start_time": "2022-02-10T06:08:20.455Z"
   },
   {
    "duration": 56,
    "start_time": "2022-02-10T06:08:20.502Z"
   },
   {
    "duration": 19,
    "start_time": "2022-02-10T06:08:20.561Z"
   },
   {
    "duration": 12,
    "start_time": "2022-02-10T06:08:20.582Z"
   },
   {
    "duration": 36,
    "start_time": "2022-02-10T06:08:20.596Z"
   },
   {
    "duration": 19,
    "start_time": "2022-02-10T06:08:20.634Z"
   },
   {
    "duration": 580,
    "start_time": "2022-02-10T06:08:20.655Z"
   },
   {
    "duration": 21,
    "start_time": "2022-02-10T06:08:21.237Z"
   },
   {
    "duration": 201,
    "start_time": "2022-02-10T06:08:21.260Z"
   },
   {
    "duration": 53,
    "start_time": "2022-02-10T06:08:21.463Z"
   },
   {
    "duration": 2300,
    "start_time": "2022-02-10T06:08:21.518Z"
   },
   {
    "duration": 23,
    "start_time": "2022-02-10T06:08:23.820Z"
   },
   {
    "duration": 12,
    "start_time": "2022-02-10T06:08:23.845Z"
   },
   {
    "duration": 29,
    "start_time": "2022-02-10T06:08:23.859Z"
   },
   {
    "duration": 10,
    "start_time": "2022-02-10T06:08:23.891Z"
   },
   {
    "duration": 6,
    "start_time": "2022-02-10T06:08:23.933Z"
   },
   {
    "duration": 11,
    "start_time": "2022-02-10T06:08:23.941Z"
   },
   {
    "duration": 10,
    "start_time": "2022-02-10T06:08:23.955Z"
   },
   {
    "duration": 8,
    "start_time": "2022-02-10T06:08:23.968Z"
   },
   {
    "duration": 323,
    "start_time": "2022-02-10T16:24:41.708Z"
   },
   {
    "duration": 1047,
    "start_time": "2022-02-10T16:24:47.908Z"
   },
   {
    "duration": 359,
    "start_time": "2022-02-10T16:24:48.956Z"
   },
   {
    "duration": 15,
    "start_time": "2022-02-10T16:24:49.316Z"
   },
   {
    "duration": 466,
    "start_time": "2022-02-10T16:24:49.332Z"
   },
   {
    "duration": 27,
    "start_time": "2022-02-10T16:24:49.800Z"
   },
   {
    "duration": 10,
    "start_time": "2022-02-10T16:24:49.828Z"
   },
   {
    "duration": 8,
    "start_time": "2022-02-10T16:24:49.839Z"
   },
   {
    "duration": 10,
    "start_time": "2022-02-10T16:24:49.850Z"
   },
   {
    "duration": 15,
    "start_time": "2022-02-10T16:24:49.862Z"
   },
   {
    "duration": 11,
    "start_time": "2022-02-10T16:24:49.878Z"
   },
   {
    "duration": 48,
    "start_time": "2022-02-10T16:24:49.891Z"
   },
   {
    "duration": 6,
    "start_time": "2022-02-10T16:24:49.941Z"
   },
   {
    "duration": 8,
    "start_time": "2022-02-10T16:24:49.949Z"
   },
   {
    "duration": 49,
    "start_time": "2022-02-10T16:24:49.958Z"
   },
   {
    "duration": 21,
    "start_time": "2022-02-10T16:24:50.009Z"
   },
   {
    "duration": 22,
    "start_time": "2022-02-10T16:24:50.032Z"
   },
   {
    "duration": 52,
    "start_time": "2022-02-10T16:24:50.056Z"
   },
   {
    "duration": 25,
    "start_time": "2022-02-10T16:24:50.109Z"
   },
   {
    "duration": 8,
    "start_time": "2022-02-10T16:24:50.136Z"
   },
   {
    "duration": 30,
    "start_time": "2022-02-10T16:24:50.146Z"
   },
   {
    "duration": 6,
    "start_time": "2022-02-10T16:24:50.178Z"
   },
   {
    "duration": 51,
    "start_time": "2022-02-10T16:24:50.185Z"
   },
   {
    "duration": 31,
    "start_time": "2022-02-10T16:24:50.238Z"
   },
   {
    "duration": 7,
    "start_time": "2022-02-10T16:24:50.271Z"
   },
   {
    "duration": 29,
    "start_time": "2022-02-10T16:24:50.279Z"
   },
   {
    "duration": 34,
    "start_time": "2022-02-10T16:24:50.309Z"
   },
   {
    "duration": 12,
    "start_time": "2022-02-10T16:24:50.344Z"
   },
   {
    "duration": 6,
    "start_time": "2022-02-10T16:24:50.358Z"
   },
   {
    "duration": 5,
    "start_time": "2022-02-10T16:24:50.366Z"
   },
   {
    "duration": 11,
    "start_time": "2022-02-10T16:24:50.373Z"
   },
   {
    "duration": 308,
    "start_time": "2022-02-10T16:24:50.386Z"
   },
   {
    "duration": 13,
    "start_time": "2022-02-10T16:24:50.695Z"
   },
   {
    "duration": 101,
    "start_time": "2022-02-10T16:24:50.710Z"
   },
   {
    "duration": 36,
    "start_time": "2022-02-10T16:24:50.813Z"
   },
   {
    "duration": 1323,
    "start_time": "2022-02-10T16:24:50.850Z"
   },
   {
    "duration": 10,
    "start_time": "2022-02-10T16:24:52.175Z"
   },
   {
    "duration": 6,
    "start_time": "2022-02-10T16:24:52.187Z"
   },
   {
    "duration": 35,
    "start_time": "2022-02-10T16:24:52.194Z"
   },
   {
    "duration": 6,
    "start_time": "2022-02-10T16:24:52.231Z"
   },
   {
    "duration": 6,
    "start_time": "2022-02-10T16:24:52.239Z"
   },
   {
    "duration": 11,
    "start_time": "2022-02-10T16:24:52.246Z"
   },
   {
    "duration": 8,
    "start_time": "2022-02-10T16:24:52.258Z"
   },
   {
    "duration": 16,
    "start_time": "2022-02-10T16:24:52.267Z"
   },
   {
    "duration": 6,
    "start_time": "2022-02-10T16:25:43.288Z"
   },
   {
    "duration": 4,
    "start_time": "2022-02-10T16:27:15.249Z"
   },
   {
    "duration": 372,
    "start_time": "2022-02-10T16:27:15.255Z"
   },
   {
    "duration": 11,
    "start_time": "2022-02-10T16:27:15.629Z"
   },
   {
    "duration": 31,
    "start_time": "2022-02-10T16:27:15.641Z"
   },
   {
    "duration": 18,
    "start_time": "2022-02-10T16:27:15.673Z"
   },
   {
    "duration": 8,
    "start_time": "2022-02-10T16:27:15.692Z"
   },
   {
    "duration": 27,
    "start_time": "2022-02-10T16:27:15.702Z"
   },
   {
    "duration": 8,
    "start_time": "2022-02-10T16:27:15.731Z"
   },
   {
    "duration": 13,
    "start_time": "2022-02-10T16:27:15.742Z"
   },
   {
    "duration": 10,
    "start_time": "2022-02-10T16:27:15.757Z"
   },
   {
    "duration": 18,
    "start_time": "2022-02-10T16:27:15.769Z"
   },
   {
    "duration": 7,
    "start_time": "2022-02-10T16:27:15.789Z"
   },
   {
    "duration": 33,
    "start_time": "2022-02-10T16:27:15.798Z"
   },
   {
    "duration": 57,
    "start_time": "2022-02-10T16:27:15.833Z"
   },
   {
    "duration": 9,
    "start_time": "2022-02-10T16:27:15.891Z"
   },
   {
    "duration": 31,
    "start_time": "2022-02-10T16:27:15.901Z"
   },
   {
    "duration": 38,
    "start_time": "2022-02-10T16:27:15.934Z"
   },
   {
    "duration": 7,
    "start_time": "2022-02-10T16:27:15.974Z"
   },
   {
    "duration": 10,
    "start_time": "2022-02-10T16:27:15.982Z"
   },
   {
    "duration": 51,
    "start_time": "2022-02-10T16:27:15.993Z"
   },
   {
    "duration": 7,
    "start_time": "2022-02-10T16:27:16.045Z"
   },
   {
    "duration": 29,
    "start_time": "2022-02-10T16:27:16.053Z"
   },
   {
    "duration": 47,
    "start_time": "2022-02-10T16:27:16.084Z"
   },
   {
    "duration": 8,
    "start_time": "2022-02-10T16:27:16.132Z"
   },
   {
    "duration": 25,
    "start_time": "2022-02-10T16:27:16.142Z"
   },
   {
    "duration": 17,
    "start_time": "2022-02-10T16:27:16.169Z"
   },
   {
    "duration": 13,
    "start_time": "2022-02-10T16:27:16.189Z"
   },
   {
    "duration": 23,
    "start_time": "2022-02-10T16:27:16.203Z"
   },
   {
    "duration": 6,
    "start_time": "2022-02-10T16:27:16.227Z"
   },
   {
    "duration": 15,
    "start_time": "2022-02-10T16:27:16.234Z"
   },
   {
    "duration": 284,
    "start_time": "2022-02-10T16:27:16.251Z"
   },
   {
    "duration": 12,
    "start_time": "2022-02-10T16:27:16.536Z"
   },
   {
    "duration": 96,
    "start_time": "2022-02-10T16:27:16.549Z"
   },
   {
    "duration": 29,
    "start_time": "2022-02-10T16:27:16.647Z"
   },
   {
    "duration": 1158,
    "start_time": "2022-02-10T16:27:16.678Z"
   },
   {
    "duration": 11,
    "start_time": "2022-02-10T16:27:17.838Z"
   },
   {
    "duration": 6,
    "start_time": "2022-02-10T16:27:17.850Z"
   },
   {
    "duration": 19,
    "start_time": "2022-02-10T16:27:17.858Z"
   },
   {
    "duration": 107,
    "start_time": "2022-02-10T16:27:17.879Z"
   },
   {
    "duration": 7,
    "start_time": "2022-02-10T16:27:17.987Z"
   },
   {
    "duration": 5,
    "start_time": "2022-02-10T16:27:17.995Z"
   },
   {
    "duration": 30,
    "start_time": "2022-02-10T16:27:18.002Z"
   },
   {
    "duration": 5,
    "start_time": "2022-02-10T16:27:18.034Z"
   },
   {
    "duration": 1011,
    "start_time": "2022-02-10T16:27:43.853Z"
   },
   {
    "duration": 352,
    "start_time": "2022-02-10T16:27:44.865Z"
   },
   {
    "duration": 15,
    "start_time": "2022-02-10T16:27:45.219Z"
   },
   {
    "duration": 920,
    "start_time": "2022-02-10T16:27:45.236Z"
   },
   {
    "duration": 21,
    "start_time": "2022-02-10T16:27:46.158Z"
   },
   {
    "duration": 8,
    "start_time": "2022-02-10T16:27:46.181Z"
   },
   {
    "duration": 9,
    "start_time": "2022-02-10T16:27:46.191Z"
   },
   {
    "duration": 9,
    "start_time": "2022-02-10T16:27:46.201Z"
   },
   {
    "duration": 14,
    "start_time": "2022-02-10T16:27:46.228Z"
   },
   {
    "duration": 10,
    "start_time": "2022-02-10T16:27:46.244Z"
   },
   {
    "duration": 16,
    "start_time": "2022-02-10T16:27:46.255Z"
   },
   {
    "duration": 6,
    "start_time": "2022-02-10T16:27:46.273Z"
   },
   {
    "duration": 16,
    "start_time": "2022-02-10T16:27:46.281Z"
   },
   {
    "duration": 69,
    "start_time": "2022-02-10T16:27:46.299Z"
   },
   {
    "duration": 8,
    "start_time": "2022-02-10T16:27:46.369Z"
   },
   {
    "duration": 19,
    "start_time": "2022-02-10T16:27:46.379Z"
   },
   {
    "duration": 69,
    "start_time": "2022-02-10T16:27:46.399Z"
   },
   {
    "duration": 11,
    "start_time": "2022-02-10T16:27:46.470Z"
   },
   {
    "duration": 8,
    "start_time": "2022-02-10T16:27:46.483Z"
   },
   {
    "duration": 40,
    "start_time": "2022-02-10T16:27:46.492Z"
   },
   {
    "duration": 6,
    "start_time": "2022-02-10T16:27:46.534Z"
   },
   {
    "duration": 33,
    "start_time": "2022-02-10T16:27:46.542Z"
   },
   {
    "duration": 32,
    "start_time": "2022-02-10T16:27:46.576Z"
   },
   {
    "duration": 24,
    "start_time": "2022-02-10T16:27:46.610Z"
   },
   {
    "duration": 27,
    "start_time": "2022-02-10T16:27:46.636Z"
   },
   {
    "duration": 17,
    "start_time": "2022-02-10T16:27:46.665Z"
   },
   {
    "duration": 12,
    "start_time": "2022-02-10T16:27:46.685Z"
   },
   {
    "duration": 33,
    "start_time": "2022-02-10T16:27:46.699Z"
   },
   {
    "duration": 4,
    "start_time": "2022-02-10T16:27:46.734Z"
   },
   {
    "duration": 12,
    "start_time": "2022-02-10T16:27:46.740Z"
   },
   {
    "duration": 296,
    "start_time": "2022-02-10T16:27:46.754Z"
   },
   {
    "duration": 12,
    "start_time": "2022-02-10T16:27:47.052Z"
   },
   {
    "duration": 98,
    "start_time": "2022-02-10T16:27:47.065Z"
   },
   {
    "duration": 48,
    "start_time": "2022-02-10T16:27:47.164Z"
   },
   {
    "duration": 1407,
    "start_time": "2022-02-10T16:27:47.214Z"
   },
   {
    "duration": 9,
    "start_time": "2022-02-10T16:27:48.627Z"
   },
   {
    "duration": 6,
    "start_time": "2022-02-10T16:27:48.638Z"
   },
   {
    "duration": 17,
    "start_time": "2022-02-10T16:27:48.646Z"
   },
   {
    "duration": 6,
    "start_time": "2022-02-10T16:27:48.665Z"
   },
   {
    "duration": 5,
    "start_time": "2022-02-10T16:27:48.673Z"
   },
   {
    "duration": 5,
    "start_time": "2022-02-10T16:27:48.679Z"
   },
   {
    "duration": 6,
    "start_time": "2022-02-10T16:27:48.686Z"
   },
   {
    "duration": 37,
    "start_time": "2022-02-10T16:27:48.694Z"
   },
   {
    "duration": 1488,
    "start_time": "2022-02-10T16:56:58.233Z"
   },
   {
    "duration": 510,
    "start_time": "2022-02-10T16:56:59.724Z"
   },
   {
    "duration": 26,
    "start_time": "2022-02-10T16:57:00.237Z"
   },
   {
    "duration": 1157,
    "start_time": "2022-02-10T16:57:00.266Z"
   },
   {
    "duration": 46,
    "start_time": "2022-02-10T16:57:01.426Z"
   },
   {
    "duration": 20,
    "start_time": "2022-02-10T16:57:01.474Z"
   },
   {
    "duration": 17,
    "start_time": "2022-02-10T16:57:01.497Z"
   },
   {
    "duration": 37,
    "start_time": "2022-02-10T16:57:01.517Z"
   },
   {
    "duration": 23,
    "start_time": "2022-02-10T16:57:01.557Z"
   },
   {
    "duration": 33,
    "start_time": "2022-02-10T16:57:01.582Z"
   },
   {
    "duration": 43,
    "start_time": "2022-02-10T16:57:01.618Z"
   },
   {
    "duration": 12,
    "start_time": "2022-02-10T16:57:01.663Z"
   },
   {
    "duration": 17,
    "start_time": "2022-02-10T16:57:01.678Z"
   },
   {
    "duration": 106,
    "start_time": "2022-02-10T16:57:01.698Z"
   },
   {
    "duration": 13,
    "start_time": "2022-02-10T16:57:01.807Z"
   },
   {
    "duration": 54,
    "start_time": "2022-02-10T16:57:01.822Z"
   },
   {
    "duration": 92,
    "start_time": "2022-02-10T16:57:01.878Z"
   },
   {
    "duration": 17,
    "start_time": "2022-02-10T16:57:01.973Z"
   },
   {
    "duration": 27,
    "start_time": "2022-02-10T16:57:01.993Z"
   },
   {
    "duration": 54,
    "start_time": "2022-02-10T16:57:02.022Z"
   },
   {
    "duration": 11,
    "start_time": "2022-02-10T16:57:02.079Z"
   },
   {
    "duration": 77,
    "start_time": "2022-02-10T16:57:02.093Z"
   },
   {
    "duration": 55,
    "start_time": "2022-02-10T16:57:02.177Z"
   },
   {
    "duration": 27,
    "start_time": "2022-02-10T16:57:02.235Z"
   },
   {
    "duration": 52,
    "start_time": "2022-02-10T16:57:02.264Z"
   },
   {
    "duration": 63,
    "start_time": "2022-02-10T16:57:02.320Z"
   },
   {
    "duration": 25,
    "start_time": "2022-02-10T16:57:02.385Z"
   },
   {
    "duration": 42,
    "start_time": "2022-02-10T16:57:02.413Z"
   },
   {
    "duration": 11,
    "start_time": "2022-02-10T16:57:02.457Z"
   },
   {
    "duration": 36,
    "start_time": "2022-02-10T16:57:02.470Z"
   },
   {
    "duration": 690,
    "start_time": "2022-02-10T16:57:02.509Z"
   },
   {
    "duration": 25,
    "start_time": "2022-02-10T16:57:03.202Z"
   },
   {
    "duration": 238,
    "start_time": "2022-02-10T16:57:03.230Z"
   },
   {
    "duration": 59,
    "start_time": "2022-02-10T16:57:03.470Z"
   },
   {
    "duration": 2296,
    "start_time": "2022-02-10T16:57:03.531Z"
   },
   {
    "duration": 25,
    "start_time": "2022-02-10T16:57:05.830Z"
   },
   {
    "duration": 28,
    "start_time": "2022-02-10T16:57:05.857Z"
   },
   {
    "duration": 60,
    "start_time": "2022-02-10T16:57:05.888Z"
   },
   {
    "duration": 18,
    "start_time": "2022-02-10T16:57:05.951Z"
   },
   {
    "duration": 10,
    "start_time": "2022-02-10T16:57:05.972Z"
   },
   {
    "duration": 11,
    "start_time": "2022-02-10T16:57:05.984Z"
   },
   {
    "duration": 11,
    "start_time": "2022-02-10T16:57:05.997Z"
   },
   {
    "duration": 47,
    "start_time": "2022-02-10T16:57:06.010Z"
   }
  ],
  "kernelspec": {
   "display_name": "Python 3 (ipykernel)",
   "language": "python",
   "name": "python3"
  },
  "language_info": {
   "codemirror_mode": {
    "name": "ipython",
    "version": 3
   },
   "file_extension": ".py",
   "mimetype": "text/x-python",
   "name": "python",
   "nbconvert_exporter": "python",
   "pygments_lexer": "ipython3",
   "version": "3.9.7"
  },
  "toc": {
   "base_numbering": 1,
   "nav_menu": {},
   "number_sections": true,
   "sideBar": true,
   "skip_h1_title": true,
   "title_cell": "Table of Contents",
   "title_sidebar": "Contents",
   "toc_cell": false,
   "toc_position": {
    "height": "calc(100% - 180px)",
    "left": "10px",
    "top": "150px",
    "width": "165px"
   },
   "toc_section_display": true,
   "toc_window_display": false
  }
 },
 "nbformat": 4,
 "nbformat_minor": 2
}
